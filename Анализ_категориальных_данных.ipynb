{
  "nbformat": 4,
  "nbformat_minor": 0,
  "metadata": {
    "colab": {
      "provenance": []
    },
    "kernelspec": {
      "name": "ir",
      "display_name": "R"
    },
    "language_info": {
      "name": "R"
    }
  },
  "cells": [
    {
      "cell_type": "markdown",
      "source": [
        "# Анализ категориальных данных\n"
      ],
      "metadata": {
        "id": "Oh3GMPqXA6C_"
      }
    },
    {
      "cell_type": "code",
      "source": [
        "data <- read.csv(\"/content/data_big.csv\", sep=',')\n",
        "head(data)"
      ],
      "metadata": {
        "colab": {
          "base_uri": "https://localhost:8080/",
          "height": 306
        },
        "id": "rs7Bsi0vBA5H",
        "outputId": "186b8f9c-93d8-45a4-d29a-64332c844688"
      },
      "execution_count": null,
      "outputs": [
        {
          "output_type": "display_data",
          "data": {
            "text/html": [
              "<table class=\"dataframe\">\n",
              "<caption>A data.frame: 6 × 121</caption>\n",
              "<thead>\n",
              "\t<tr><th></th><th scope=col>X</th><th scope=col>X.1</th><th scope=col>depressed.mood.1</th><th scope=col>anxiety.1</th><th scope=col>suspiciousness.1</th><th scope=col>irritability.1</th><th scope=col>craving.to.alcohol.1</th><th scope=col>weakness.1</th><th scope=col>insomia.1</th><th scope=col>headache.1</th><th scope=col>⋯</th><th scope=col>combined2.9</th><th scope=col>HR.9</th><th scope=col>SBP.9</th><th scope=col>DBP.9</th><th scope=col>MBP.9</th><th scope=col>SV.9</th><th scope=col>CO.9</th><th scope=col>SI.9</th><th scope=col>CI.9</th><th scope=col>TPR.9</th></tr>\n",
              "\t<tr><th></th><th scope=col>&lt;int&gt;</th><th scope=col>&lt;int&gt;</th><th scope=col>&lt;int&gt;</th><th scope=col>&lt;int&gt;</th><th scope=col>&lt;int&gt;</th><th scope=col>&lt;int&gt;</th><th scope=col>&lt;int&gt;</th><th scope=col>&lt;int&gt;</th><th scope=col>&lt;int&gt;</th><th scope=col>&lt;int&gt;</th><th scope=col>⋯</th><th scope=col>&lt;int&gt;</th><th scope=col>&lt;int&gt;</th><th scope=col>&lt;int&gt;</th><th scope=col>&lt;int&gt;</th><th scope=col>&lt;int&gt;</th><th scope=col>&lt;int&gt;</th><th scope=col>&lt;dbl&gt;</th><th scope=col>&lt;int&gt;</th><th scope=col>&lt;dbl&gt;</th><th scope=col>&lt;int&gt;</th></tr>\n",
              "</thead>\n",
              "<tbody>\n",
              "\t<tr><th scope=row>1</th><td>1</td><td>1</td><td>1</td><td>1</td><td>0</td><td>1</td><td>1</td><td>1</td><td>1</td><td>0</td><td>⋯</td><td>0</td><td>68</td><td>108</td><td>70</td><td> 83</td><td> 74</td><td>5.0</td><td>40</td><td>2.7</td><td>1321</td></tr>\n",
              "\t<tr><th scope=row>2</th><td>2</td><td>2</td><td>1</td><td>1</td><td>0</td><td>0</td><td>1</td><td>1</td><td>2</td><td>1</td><td>⋯</td><td>9</td><td>63</td><td>114</td><td>70</td><td> 85</td><td>123</td><td>7.7</td><td>60</td><td>3.8</td><td> 879</td></tr>\n",
              "\t<tr><th scope=row>3</th><td>3</td><td>3</td><td>1</td><td>1</td><td>0</td><td>0</td><td>0</td><td>2</td><td>1</td><td>0</td><td>⋯</td><td>0</td><td>64</td><td>120</td><td>80</td><td> 93</td><td>106</td><td>6.8</td><td>55</td><td>3.5</td><td>1098</td></tr>\n",
              "\t<tr><th scope=row>4</th><td>4</td><td>4</td><td>2</td><td>2</td><td>0</td><td>0</td><td>0</td><td>2</td><td>0</td><td>0</td><td>⋯</td><td>0</td><td>56</td><td>124</td><td>90</td><td>101</td><td> 90</td><td>5.1</td><td>43</td><td>2.4</td><td>1600</td></tr>\n",
              "\t<tr><th scope=row>5</th><td>5</td><td>5</td><td>1</td><td>1</td><td>0</td><td>0</td><td>2</td><td>2</td><td>1</td><td>0</td><td>⋯</td><td>0</td><td>66</td><td>116</td><td>78</td><td> 90</td><td> 90</td><td>5.9</td><td>45</td><td>2.2</td><td>1228</td></tr>\n",
              "\t<tr><th scope=row>6</th><td>6</td><td>6</td><td>1</td><td>1</td><td>0</td><td>1</td><td>1</td><td>2</td><td>0</td><td>0</td><td>⋯</td><td>0</td><td>62</td><td>142</td><td>90</td><td>107</td><td>113</td><td>7.0</td><td>56</td><td>3.4</td><td>1225</td></tr>\n",
              "</tbody>\n",
              "</table>\n"
            ],
            "text/markdown": "\nA data.frame: 6 × 121\n\n| <!--/--> | X &lt;int&gt; | X.1 &lt;int&gt; | depressed.mood.1 &lt;int&gt; | anxiety.1 &lt;int&gt; | suspiciousness.1 &lt;int&gt; | irritability.1 &lt;int&gt; | craving.to.alcohol.1 &lt;int&gt; | weakness.1 &lt;int&gt; | insomia.1 &lt;int&gt; | headache.1 &lt;int&gt; | ⋯ ⋯ | combined2.9 &lt;int&gt; | HR.9 &lt;int&gt; | SBP.9 &lt;int&gt; | DBP.9 &lt;int&gt; | MBP.9 &lt;int&gt; | SV.9 &lt;int&gt; | CO.9 &lt;dbl&gt; | SI.9 &lt;int&gt; | CI.9 &lt;dbl&gt; | TPR.9 &lt;int&gt; |\n|---|---|---|---|---|---|---|---|---|---|---|---|---|---|---|---|---|---|---|---|---|---|\n| 1 | 1 | 1 | 1 | 1 | 0 | 1 | 1 | 1 | 1 | 0 | ⋯ | 0 | 68 | 108 | 70 |  83 |  74 | 5.0 | 40 | 2.7 | 1321 |\n| 2 | 2 | 2 | 1 | 1 | 0 | 0 | 1 | 1 | 2 | 1 | ⋯ | 9 | 63 | 114 | 70 |  85 | 123 | 7.7 | 60 | 3.8 |  879 |\n| 3 | 3 | 3 | 1 | 1 | 0 | 0 | 0 | 2 | 1 | 0 | ⋯ | 0 | 64 | 120 | 80 |  93 | 106 | 6.8 | 55 | 3.5 | 1098 |\n| 4 | 4 | 4 | 2 | 2 | 0 | 0 | 0 | 2 | 0 | 0 | ⋯ | 0 | 56 | 124 | 90 | 101 |  90 | 5.1 | 43 | 2.4 | 1600 |\n| 5 | 5 | 5 | 1 | 1 | 0 | 0 | 2 | 2 | 1 | 0 | ⋯ | 0 | 66 | 116 | 78 |  90 |  90 | 5.9 | 45 | 2.2 | 1228 |\n| 6 | 6 | 6 | 1 | 1 | 0 | 1 | 1 | 2 | 0 | 0 | ⋯ | 0 | 62 | 142 | 90 | 107 | 113 | 7.0 | 56 | 3.4 | 1225 |\n\n",
            "text/latex": "A data.frame: 6 × 121\n\\begin{tabular}{r|lllllllllllllllllllll}\n  & X & X.1 & depressed.mood.1 & anxiety.1 & suspiciousness.1 & irritability.1 & craving.to.alcohol.1 & weakness.1 & insomia.1 & headache.1 & ⋯ & combined2.9 & HR.9 & SBP.9 & DBP.9 & MBP.9 & SV.9 & CO.9 & SI.9 & CI.9 & TPR.9\\\\\n  & <int> & <int> & <int> & <int> & <int> & <int> & <int> & <int> & <int> & <int> & ⋯ & <int> & <int> & <int> & <int> & <int> & <int> & <dbl> & <int> & <dbl> & <int>\\\\\n\\hline\n\t1 & 1 & 1 & 1 & 1 & 0 & 1 & 1 & 1 & 1 & 0 & ⋯ & 0 & 68 & 108 & 70 &  83 &  74 & 5.0 & 40 & 2.7 & 1321\\\\\n\t2 & 2 & 2 & 1 & 1 & 0 & 0 & 1 & 1 & 2 & 1 & ⋯ & 9 & 63 & 114 & 70 &  85 & 123 & 7.7 & 60 & 3.8 &  879\\\\\n\t3 & 3 & 3 & 1 & 1 & 0 & 0 & 0 & 2 & 1 & 0 & ⋯ & 0 & 64 & 120 & 80 &  93 & 106 & 6.8 & 55 & 3.5 & 1098\\\\\n\t4 & 4 & 4 & 2 & 2 & 0 & 0 & 0 & 2 & 0 & 0 & ⋯ & 0 & 56 & 124 & 90 & 101 &  90 & 5.1 & 43 & 2.4 & 1600\\\\\n\t5 & 5 & 5 & 1 & 1 & 0 & 0 & 2 & 2 & 1 & 0 & ⋯ & 0 & 66 & 116 & 78 &  90 &  90 & 5.9 & 45 & 2.2 & 1228\\\\\n\t6 & 6 & 6 & 1 & 1 & 0 & 1 & 1 & 2 & 0 & 0 & ⋯ & 0 & 62 & 142 & 90 & 107 & 113 & 7.0 & 56 & 3.4 & 1225\\\\\n\\end{tabular}\n",
            "text/plain": [
              "  X X.1 depressed.mood.1 anxiety.1 suspiciousness.1 irritability.1\n",
              "1 1 1   1                1         0                1             \n",
              "2 2 2   1                1         0                0             \n",
              "3 3 3   1                1         0                0             \n",
              "4 4 4   2                2         0                0             \n",
              "5 5 5   1                1         0                0             \n",
              "6 6 6   1                1         0                1             \n",
              "  craving.to.alcohol.1 weakness.1 insomia.1 headache.1 ⋯ combined2.9 HR.9 SBP.9\n",
              "1 1                    1          1         0          ⋯ 0           68   108  \n",
              "2 1                    1          2         1          ⋯ 9           63   114  \n",
              "3 0                    2          1         0          ⋯ 0           64   120  \n",
              "4 0                    2          0         0          ⋯ 0           56   124  \n",
              "5 2                    2          1         0          ⋯ 0           66   116  \n",
              "6 1                    2          0         0          ⋯ 0           62   142  \n",
              "  DBP.9 MBP.9 SV.9 CO.9 SI.9 CI.9 TPR.9\n",
              "1 70     83    74  5.0  40   2.7  1321 \n",
              "2 70     85   123  7.7  60   3.8   879 \n",
              "3 80     93   106  6.8  55   3.5  1098 \n",
              "4 90    101    90  5.1  43   2.4  1600 \n",
              "5 78     90    90  5.9  45   2.2  1228 \n",
              "6 90    107   113  7.0  56   3.4  1225 "
            ]
          },
          "metadata": {}
        }
      ]
    },
    {
      "cell_type": "markdown",
      "source": [
        "Выбираем нужные столбцы"
      ],
      "metadata": {
        "id": "ETztRIADCpNK"
      }
    },
    {
      "cell_type": "code",
      "source": [
        "data <- data[, c(\"depressed.mood.1\",\"depressed.mood.2\")]\n",
        "head(data)"
      ],
      "metadata": {
        "colab": {
          "base_uri": "https://localhost:8080/",
          "height": 286
        },
        "id": "Q8b7H7rvBqqj",
        "outputId": "31458d22-7b6d-4df4-daff-198a3a47fe68"
      },
      "execution_count": null,
      "outputs": [
        {
          "output_type": "display_data",
          "data": {
            "text/html": [
              "<table class=\"dataframe\">\n",
              "<caption>A data.frame: 6 × 2</caption>\n",
              "<thead>\n",
              "\t<tr><th></th><th scope=col>depressed.mood.1</th><th scope=col>depressed.mood.2</th></tr>\n",
              "\t<tr><th></th><th scope=col>&lt;int&gt;</th><th scope=col>&lt;int&gt;</th></tr>\n",
              "</thead>\n",
              "<tbody>\n",
              "\t<tr><th scope=row>1</th><td>1</td><td>1</td></tr>\n",
              "\t<tr><th scope=row>2</th><td>1</td><td>2</td></tr>\n",
              "\t<tr><th scope=row>3</th><td>1</td><td>1</td></tr>\n",
              "\t<tr><th scope=row>4</th><td>2</td><td>2</td></tr>\n",
              "\t<tr><th scope=row>5</th><td>1</td><td>1</td></tr>\n",
              "\t<tr><th scope=row>6</th><td>1</td><td>1</td></tr>\n",
              "</tbody>\n",
              "</table>\n"
            ],
            "text/markdown": "\nA data.frame: 6 × 2\n\n| <!--/--> | depressed.mood.1 &lt;int&gt; | depressed.mood.2 &lt;int&gt; |\n|---|---|---|\n| 1 | 1 | 1 |\n| 2 | 1 | 2 |\n| 3 | 1 | 1 |\n| 4 | 2 | 2 |\n| 5 | 1 | 1 |\n| 6 | 1 | 1 |\n\n",
            "text/latex": "A data.frame: 6 × 2\n\\begin{tabular}{r|ll}\n  & depressed.mood.1 & depressed.mood.2\\\\\n  & <int> & <int>\\\\\n\\hline\n\t1 & 1 & 1\\\\\n\t2 & 1 & 2\\\\\n\t3 & 1 & 1\\\\\n\t4 & 2 & 2\\\\\n\t5 & 1 & 1\\\\\n\t6 & 1 & 1\\\\\n\\end{tabular}\n",
            "text/plain": [
              "  depressed.mood.1 depressed.mood.2\n",
              "1 1                1               \n",
              "2 1                2               \n",
              "3 1                1               \n",
              "4 2                2               \n",
              "5 1                1               \n",
              "6 1                1               "
            ]
          },
          "metadata": {}
        }
      ]
    },
    {
      "cell_type": "code",
      "source": [
        "unique(data$depressed.mood.1)\n",
        "unique(data$depressed.mood.2)"
      ],
      "metadata": {
        "colab": {
          "base_uri": "https://localhost:8080/",
          "height": 52
        },
        "id": "6xpiB8zQCOdM",
        "outputId": "566c68ee-d3da-4157-dd3c-2c2dd8783c34"
      },
      "execution_count": null,
      "outputs": [
        {
          "output_type": "display_data",
          "data": {
            "text/html": [
              "<style>\n",
              ".list-inline {list-style: none; margin:0; padding: 0}\n",
              ".list-inline>li {display: inline-block}\n",
              ".list-inline>li:not(:last-child)::after {content: \"\\00b7\"; padding: 0 .5ex}\n",
              "</style>\n",
              "<ol class=list-inline><li>1</li><li>2</li></ol>\n"
            ],
            "text/markdown": "1. 1\n2. 2\n\n\n",
            "text/latex": "\\begin{enumerate*}\n\\item 1\n\\item 2\n\\end{enumerate*}\n",
            "text/plain": [
              "[1] 1 2"
            ]
          },
          "metadata": {}
        },
        {
          "output_type": "display_data",
          "data": {
            "text/html": [
              "<style>\n",
              ".list-inline {list-style: none; margin:0; padding: 0}\n",
              ".list-inline>li {display: inline-block}\n",
              ".list-inline>li:not(:last-child)::after {content: \"\\00b7\"; padding: 0 .5ex}\n",
              "</style>\n",
              "<ol class=list-inline><li>1</li><li>2</li><li>0</li></ol>\n"
            ],
            "text/markdown": "1. 1\n2. 2\n3. 0\n\n\n",
            "text/latex": "\\begin{enumerate*}\n\\item 1\n\\item 2\n\\item 0\n\\end{enumerate*}\n",
            "text/plain": [
              "[1] 1 2 0"
            ]
          },
          "metadata": {}
        }
      ]
    },
    {
      "cell_type": "markdown",
      "source": [
        "Оставляем только два возможных значения"
      ],
      "metadata": {
        "id": "t7FnPlCXCvEk"
      }
    },
    {
      "cell_type": "code",
      "source": [
        "data[data == 0] <- 1"
      ],
      "metadata": {
        "id": "FMkPV91oCmc3"
      },
      "execution_count": null,
      "outputs": []
    },
    {
      "cell_type": "markdown",
      "source": [
        "Создадим таблицу с количеством индивидов каждой категории"
      ],
      "metadata": {
        "id": "aZyo__FCGbuX"
      }
    },
    {
      "cell_type": "code",
      "source": [
        "df <- matrix(c(length(which(data$depressed.mood.1==2)),\n",
        "                length(which(data$depressed.mood.2==2)),\n",
        "                length(which(data$depressed.mood.1==1)),\n",
        "                length(which(data$depressed.mood.2==1))),\n",
        "       nrow = 2,\n",
        "       dimnames = list(Guess = c(\"d.mode.1\", \"d.mode.2\"),\n",
        "                       Truth = c(\"depressed\", \"not depressed\")))\n",
        "df"
      ],
      "metadata": {
        "colab": {
          "base_uri": "https://localhost:8080/",
          "height": 129
        },
        "id": "ujmjkJzei8CO",
        "outputId": "c099618a-1024-4b6e-f89e-b99439bc9923"
      },
      "execution_count": null,
      "outputs": [
        {
          "output_type": "display_data",
          "data": {
            "text/html": [
              "<table class=\"dataframe\">\n",
              "<caption>A matrix: 2 × 2 of type int</caption>\n",
              "<thead>\n",
              "\t<tr><th></th><th scope=col>depressed</th><th scope=col>not depressed</th></tr>\n",
              "</thead>\n",
              "<tbody>\n",
              "\t<tr><th scope=row>d.mode.1</th><td>6</td><td>28</td></tr>\n",
              "\t<tr><th scope=row>d.mode.2</th><td>4</td><td>30</td></tr>\n",
              "</tbody>\n",
              "</table>\n"
            ],
            "text/markdown": "\nA matrix: 2 × 2 of type int\n\n| <!--/--> | depressed | not depressed |\n|---|---|---|\n| d.mode.1 | 6 | 28 |\n| d.mode.2 | 4 | 30 |\n\n",
            "text/latex": "A matrix: 2 × 2 of type int\n\\begin{tabular}{r|ll}\n  & depressed & not depressed\\\\\n\\hline\n\td.mode.1 & 6 & 28\\\\\n\td.mode.2 & 4 & 30\\\\\n\\end{tabular}\n",
            "text/plain": [
              "          Truth\n",
              "Guess      depressed not depressed\n",
              "  d.mode.1 6         28           \n",
              "  d.mode.2 4         30           "
            ]
          },
          "metadata": {}
        }
      ]
    },
    {
      "cell_type": "markdown",
      "source": [
        "### 1. Проверить независимость признаков при использовании а) точного критерия Фишера, б) критерия независимости Пирсона."
      ],
      "metadata": {
        "id": "B7pdFM-BI0nO"
      }
    },
    {
      "cell_type": "markdown",
      "source": [
        "### Точный критерий Фишера"
      ],
      "metadata": {
        "id": "rFxRTKOlI0nP"
      }
    },
    {
      "cell_type": "code",
      "source": [
        "fisher.test(df)"
      ],
      "metadata": {
        "colab": {
          "base_uri": "https://localhost:8080/",
          "height": 208
        },
        "outputId": "fc3224d3-3a67-43e0-fbfb-bb129c479be2",
        "id": "IIKb_fbeI0nP"
      },
      "execution_count": null,
      "outputs": [
        {
          "output_type": "display_data",
          "data": {
            "text/plain": [
              "\n",
              "\tFisher's Exact Test for Count Data\n",
              "\n",
              "data:  df\n",
              "p-value = 0.7337\n",
              "alternative hypothesis: true odds ratio is not equal to 1\n",
              "95 percent confidence interval:\n",
              " 0.3372097 8.5354749\n",
              "sample estimates:\n",
              "odds ratio \n",
              "  1.596006 \n"
            ]
          },
          "metadata": {}
        }
      ]
    },
    {
      "cell_type": "markdown",
      "source": [
        "Значение p-value превышает 5%. Значит, нулевая гипотеза не отвергается, то есть не найдено значимой зависимости между категориальными переменными."
      ],
      "metadata": {
        "id": "V0IkAfRnI0nQ"
      }
    },
    {
      "cell_type": "markdown",
      "source": [
        "### Критерий независимости Пирсона"
      ],
      "metadata": {
        "id": "Cbo9gzwkI0nR"
      }
    },
    {
      "cell_type": "code",
      "source": [
        "chisq.test(df)"
      ],
      "metadata": {
        "colab": {
          "base_uri": "https://localhost:8080/",
          "height": 104
        },
        "outputId": "ff69e815-efbd-467b-d1bf-13a5a92864ee",
        "id": "EExT9Hi9I0nT"
      },
      "execution_count": null,
      "outputs": [
        {
          "output_type": "display_data",
          "data": {
            "text/plain": [
              "\n",
              "\tPearson's Chi-squared test with Yates' continuity correction\n",
              "\n",
              "data:  df\n",
              "X-squared = 0.11724, df = 1, p-value = 0.732\n"
            ]
          },
          "metadata": {}
        }
      ]
    },
    {
      "cell_type": "markdown",
      "source": [
        "Также не найдено значимой зависимости между категориальными переменными."
      ],
      "metadata": {
        "id": "uX25D1nzJSH5"
      }
    },
    {
      "cell_type": "markdown",
      "source": [
        "### 2. Вычислить коэффициенты неопределенности."
      ],
      "metadata": {
        "id": "j2LM0w00I0nT"
      }
    },
    {
      "cell_type": "markdown",
      "source": [
        "$$H(X) = 2\\cdot \\dfrac{34}{68}\\cdot\\log_2\\left(\\dfrac{68}\n",
        "{34}\\right) = 1$$\n",
        "$$H(Y) = \\dfrac{58}{68}\\cdot\\log_2\\left(\\dfrac{68}{58}\\right) + \\dfrac{10}{68}\\cdot\\log_2\\left(\\dfrac{68}{10}\\right) \\approx 0.602$$\n",
        "$$H(X,Y) = \\dfrac{28}{68}\\cdot\\log_2\\left(\\dfrac{68}{28}\\right) + \\dfrac{30}{68}\\cdot\\log_2\\left(\\dfrac{68}{30}\\right) + \\dfrac{6}{68}\\cdot\\log_2\\left(\\dfrac{68}{6}\\right) + \\dfrac{4}{68}\\cdot\\log_2\\left(\\dfrac{68}{4}\\right) \\approx 1.597$$\n",
        "$$I(X,Y) = H(X) + H(Y) - H(X,Y) = 0.005$$\n",
        "$$J_{X|Y} = \\dfrac{I(X,Y)}{H(Y)}\\cdot 100\\% = \\dfrac{0.005}{0.0.602}\\cdot 100\\% \\approx 0.8\\% $$\n",
        "$$J_{Y|X} = \\dfrac{I(X,Y)}{H(X)}\\cdot 100\\% = \\dfrac{0.005}{0.1}\\cdot 100\\% = 0.5\\% $$\n",
        "$$J = \\dfrac{2\\cdot I(X,Y)}{H(X) + H(Y)} \\approx 0.6\\% $$"
      ],
      "metadata": {
        "id": "j2TaujTqI0nT"
      }
    },
    {
      "cell_type": "markdown",
      "source": [
        "### 3. Для повторных наблюдений применить критерии Мак-Немара и Кохрена."
      ],
      "metadata": {
        "id": "8hsMxQBnI0nU"
      }
    },
    {
      "cell_type": "code",
      "source": [
        "mcnemar.test(df)"
      ],
      "metadata": {
        "colab": {
          "base_uri": "https://localhost:8080/",
          "height": 104
        },
        "id": "iiP3jKRiLqer",
        "outputId": "ba36c580-793c-4b30-ceaf-10c34f2ffa05"
      },
      "execution_count": null,
      "outputs": [
        {
          "output_type": "display_data",
          "data": {
            "text/plain": [
              "\n",
              "\tMcNemar's Chi-squared test with continuity correction\n",
              "\n",
              "data:  df\n",
              "McNemar's chi-squared = 16.531, df = 1, p-value = 4.785e-05\n"
            ]
          },
          "metadata": {}
        }
      ]
    },
    {
      "cell_type": "code",
      "source": [
        "install.packages(\"DescTools\")\n",
        "library(DescTools)"
      ],
      "metadata": {
        "colab": {
          "base_uri": "https://localhost:8080/"
        },
        "id": "gG4_vWZMhBiI",
        "outputId": "b924232f-6946-44ba-c103-a638033f35be"
      },
      "execution_count": null,
      "outputs": [
        {
          "output_type": "stream",
          "name": "stderr",
          "text": [
            "Installing package into ‘/usr/local/lib/R/site-library’\n",
            "(as ‘lib’ is unspecified)\n",
            "\n",
            "also installing the dependencies ‘proxy’, ‘rootSolve’, ‘e1071’, ‘lmom’, ‘mvtnorm’, ‘expm’, ‘Exact’, ‘gld’\n",
            "\n",
            "\n"
          ]
        }
      ]
    },
    {
      "cell_type": "code",
      "source": [
        "CochranQTest(df)"
      ],
      "metadata": {
        "colab": {
          "base_uri": "https://localhost:8080/",
          "height": 104
        },
        "id": "QjJOrts9PRFs",
        "outputId": "05447b23-0bec-4e71-c8b5-f7d7b258ff8f"
      },
      "execution_count": null,
      "outputs": [
        {
          "output_type": "display_data",
          "data": {
            "text/plain": [
              "\n",
              "\tCochran's Q test\n",
              "\n",
              "data:  y\n",
              "Q = 2, df = 1, p-value = 0.1573\n"
            ]
          },
          "metadata": {}
        }
      ]
    },
    {
      "cell_type": "markdown",
      "source": [
        "Получили значимое различие только по критерию Мак-Немара."
      ],
      "metadata": {
        "id": "uQrgWK0co066"
      }
    }
  ]
}
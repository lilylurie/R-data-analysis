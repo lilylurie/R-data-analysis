{
  "nbformat": 4,
  "nbformat_minor": 0,
  "metadata": {
    "colab": {
      "provenance": [],
      "collapsed_sections": [
        "y-RFuR57nDi1"
      ]
    },
    "kernelspec": {
      "name": "ir",
      "display_name": "R"
    },
    "language_info": {
      "name": "R"
    }
  },
  "cells": [
    {
      "cell_type": "markdown",
      "source": [
        "## Задание с пары 26.09"
      ],
      "metadata": {
        "id": "m5wYZQmRm31w"
      }
    },
    {
      "cell_type": "markdown",
      "source": [
        "### Множественная регрессия"
      ],
      "metadata": {
        "id": "y-RFuR57nDi1"
      }
    },
    {
      "cell_type": "code",
      "source": [
        "data <-read.csv(\"/content/Life Expectancy Data.csv\", header=TRUE)\n",
        "head(data)"
      ],
      "metadata": {
        "colab": {
          "base_uri": "https://localhost:8080/",
          "height": 306
        },
        "id": "Q0brzcztnC72",
        "outputId": "12afdfb6-4c4e-42c9-e41a-7e67f2175ccd"
      },
      "execution_count": null,
      "outputs": [
        {
          "output_type": "display_data",
          "data": {
            "text/html": [
              "<table class=\"dataframe\">\n",
              "<caption>A data.frame: 6 × 22</caption>\n",
              "<thead>\n",
              "\t<tr><th></th><th scope=col>Country</th><th scope=col>Year</th><th scope=col>Status</th><th scope=col>Life.expectancy</th><th scope=col>Adult.Mortality</th><th scope=col>infant.deaths</th><th scope=col>Alcohol</th><th scope=col>percentage.expenditure</th><th scope=col>Hepatitis.B</th><th scope=col>Measles</th><th scope=col>⋯</th><th scope=col>Polio</th><th scope=col>Total.expenditure</th><th scope=col>Diphtheria</th><th scope=col>HIV.AIDS</th><th scope=col>GDP</th><th scope=col>Population</th><th scope=col>thinness..1.19.years</th><th scope=col>thinness.5.9.years</th><th scope=col>Income.composition.of.resources</th><th scope=col>Schooling</th></tr>\n",
              "\t<tr><th></th><th scope=col>&lt;chr&gt;</th><th scope=col>&lt;int&gt;</th><th scope=col>&lt;chr&gt;</th><th scope=col>&lt;dbl&gt;</th><th scope=col>&lt;int&gt;</th><th scope=col>&lt;int&gt;</th><th scope=col>&lt;dbl&gt;</th><th scope=col>&lt;dbl&gt;</th><th scope=col>&lt;int&gt;</th><th scope=col>&lt;int&gt;</th><th scope=col>⋯</th><th scope=col>&lt;int&gt;</th><th scope=col>&lt;dbl&gt;</th><th scope=col>&lt;int&gt;</th><th scope=col>&lt;dbl&gt;</th><th scope=col>&lt;dbl&gt;</th><th scope=col>&lt;dbl&gt;</th><th scope=col>&lt;dbl&gt;</th><th scope=col>&lt;dbl&gt;</th><th scope=col>&lt;dbl&gt;</th><th scope=col>&lt;dbl&gt;</th></tr>\n",
              "</thead>\n",
              "<tbody>\n",
              "\t<tr><th scope=row>1</th><td>Afghanistan</td><td>2015</td><td>Developing</td><td>65.0</td><td>263</td><td>62</td><td>0.01</td><td>71.279624</td><td>65</td><td>1154</td><td>⋯</td><td> 6</td><td>8.16</td><td>65</td><td>0.1</td><td>584.25921</td><td>33736494</td><td>17.2</td><td>17.3</td><td>0.479</td><td>10.1</td></tr>\n",
              "\t<tr><th scope=row>2</th><td>Afghanistan</td><td>2014</td><td>Developing</td><td>59.9</td><td>271</td><td>64</td><td>0.01</td><td>73.523582</td><td>62</td><td> 492</td><td>⋯</td><td>58</td><td>8.18</td><td>62</td><td>0.1</td><td>612.69651</td><td>  327582</td><td>17.5</td><td>17.5</td><td>0.476</td><td>10.0</td></tr>\n",
              "\t<tr><th scope=row>3</th><td>Afghanistan</td><td>2013</td><td>Developing</td><td>59.9</td><td>268</td><td>66</td><td>0.01</td><td>73.219243</td><td>64</td><td> 430</td><td>⋯</td><td>62</td><td>8.13</td><td>64</td><td>0.1</td><td>631.74498</td><td>31731688</td><td>17.7</td><td>17.7</td><td>0.470</td><td> 9.9</td></tr>\n",
              "\t<tr><th scope=row>4</th><td>Afghanistan</td><td>2012</td><td>Developing</td><td>59.5</td><td>272</td><td>69</td><td>0.01</td><td>78.184215</td><td>67</td><td>2787</td><td>⋯</td><td>67</td><td>8.52</td><td>67</td><td>0.1</td><td>669.95900</td><td> 3696958</td><td>17.9</td><td>18.0</td><td>0.463</td><td> 9.8</td></tr>\n",
              "\t<tr><th scope=row>5</th><td>Afghanistan</td><td>2011</td><td>Developing</td><td>59.2</td><td>275</td><td>71</td><td>0.01</td><td> 7.097109</td><td>68</td><td>3013</td><td>⋯</td><td>68</td><td>7.87</td><td>68</td><td>0.1</td><td> 63.53723</td><td> 2978599</td><td>18.2</td><td>18.2</td><td>0.454</td><td> 9.5</td></tr>\n",
              "\t<tr><th scope=row>6</th><td>Afghanistan</td><td>2010</td><td>Developing</td><td>58.8</td><td>279</td><td>74</td><td>0.01</td><td>79.679367</td><td>66</td><td>1989</td><td>⋯</td><td>66</td><td>9.20</td><td>66</td><td>0.1</td><td>553.32894</td><td> 2883167</td><td>18.4</td><td>18.4</td><td>0.448</td><td> 9.2</td></tr>\n",
              "</tbody>\n",
              "</table>\n"
            ],
            "text/markdown": "\nA data.frame: 6 × 22\n\n| <!--/--> | Country &lt;chr&gt; | Year &lt;int&gt; | Status &lt;chr&gt; | Life.expectancy &lt;dbl&gt; | Adult.Mortality &lt;int&gt; | infant.deaths &lt;int&gt; | Alcohol &lt;dbl&gt; | percentage.expenditure &lt;dbl&gt; | Hepatitis.B &lt;int&gt; | Measles &lt;int&gt; | ⋯ ⋯ | Polio &lt;int&gt; | Total.expenditure &lt;dbl&gt; | Diphtheria &lt;int&gt; | HIV.AIDS &lt;dbl&gt; | GDP &lt;dbl&gt; | Population &lt;dbl&gt; | thinness..1.19.years &lt;dbl&gt; | thinness.5.9.years &lt;dbl&gt; | Income.composition.of.resources &lt;dbl&gt; | Schooling &lt;dbl&gt; |\n|---|---|---|---|---|---|---|---|---|---|---|---|---|---|---|---|---|---|---|---|---|---|\n| 1 | Afghanistan | 2015 | Developing | 65.0 | 263 | 62 | 0.01 | 71.279624 | 65 | 1154 | ⋯ |  6 | 8.16 | 65 | 0.1 | 584.25921 | 33736494 | 17.2 | 17.3 | 0.479 | 10.1 |\n| 2 | Afghanistan | 2014 | Developing | 59.9 | 271 | 64 | 0.01 | 73.523582 | 62 |  492 | ⋯ | 58 | 8.18 | 62 | 0.1 | 612.69651 |   327582 | 17.5 | 17.5 | 0.476 | 10.0 |\n| 3 | Afghanistan | 2013 | Developing | 59.9 | 268 | 66 | 0.01 | 73.219243 | 64 |  430 | ⋯ | 62 | 8.13 | 64 | 0.1 | 631.74498 | 31731688 | 17.7 | 17.7 | 0.470 |  9.9 |\n| 4 | Afghanistan | 2012 | Developing | 59.5 | 272 | 69 | 0.01 | 78.184215 | 67 | 2787 | ⋯ | 67 | 8.52 | 67 | 0.1 | 669.95900 |  3696958 | 17.9 | 18.0 | 0.463 |  9.8 |\n| 5 | Afghanistan | 2011 | Developing | 59.2 | 275 | 71 | 0.01 |  7.097109 | 68 | 3013 | ⋯ | 68 | 7.87 | 68 | 0.1 |  63.53723 |  2978599 | 18.2 | 18.2 | 0.454 |  9.5 |\n| 6 | Afghanistan | 2010 | Developing | 58.8 | 279 | 74 | 0.01 | 79.679367 | 66 | 1989 | ⋯ | 66 | 9.20 | 66 | 0.1 | 553.32894 |  2883167 | 18.4 | 18.4 | 0.448 |  9.2 |\n\n",
            "text/latex": "A data.frame: 6 × 22\n\\begin{tabular}{r|lllllllllllllllllllll}\n  & Country & Year & Status & Life.expectancy & Adult.Mortality & infant.deaths & Alcohol & percentage.expenditure & Hepatitis.B & Measles & ⋯ & Polio & Total.expenditure & Diphtheria & HIV.AIDS & GDP & Population & thinness..1.19.years & thinness.5.9.years & Income.composition.of.resources & Schooling\\\\\n  & <chr> & <int> & <chr> & <dbl> & <int> & <int> & <dbl> & <dbl> & <int> & <int> & ⋯ & <int> & <dbl> & <int> & <dbl> & <dbl> & <dbl> & <dbl> & <dbl> & <dbl> & <dbl>\\\\\n\\hline\n\t1 & Afghanistan & 2015 & Developing & 65.0 & 263 & 62 & 0.01 & 71.279624 & 65 & 1154 & ⋯ &  6 & 8.16 & 65 & 0.1 & 584.25921 & 33736494 & 17.2 & 17.3 & 0.479 & 10.1\\\\\n\t2 & Afghanistan & 2014 & Developing & 59.9 & 271 & 64 & 0.01 & 73.523582 & 62 &  492 & ⋯ & 58 & 8.18 & 62 & 0.1 & 612.69651 &   327582 & 17.5 & 17.5 & 0.476 & 10.0\\\\\n\t3 & Afghanistan & 2013 & Developing & 59.9 & 268 & 66 & 0.01 & 73.219243 & 64 &  430 & ⋯ & 62 & 8.13 & 64 & 0.1 & 631.74498 & 31731688 & 17.7 & 17.7 & 0.470 &  9.9\\\\\n\t4 & Afghanistan & 2012 & Developing & 59.5 & 272 & 69 & 0.01 & 78.184215 & 67 & 2787 & ⋯ & 67 & 8.52 & 67 & 0.1 & 669.95900 &  3696958 & 17.9 & 18.0 & 0.463 &  9.8\\\\\n\t5 & Afghanistan & 2011 & Developing & 59.2 & 275 & 71 & 0.01 &  7.097109 & 68 & 3013 & ⋯ & 68 & 7.87 & 68 & 0.1 &  63.53723 &  2978599 & 18.2 & 18.2 & 0.454 &  9.5\\\\\n\t6 & Afghanistan & 2010 & Developing & 58.8 & 279 & 74 & 0.01 & 79.679367 & 66 & 1989 & ⋯ & 66 & 9.20 & 66 & 0.1 & 553.32894 &  2883167 & 18.4 & 18.4 & 0.448 &  9.2\\\\\n\\end{tabular}\n",
            "text/plain": [
              "  Country     Year Status     Life.expectancy Adult.Mortality infant.deaths\n",
              "1 Afghanistan 2015 Developing 65.0            263             62           \n",
              "2 Afghanistan 2014 Developing 59.9            271             64           \n",
              "3 Afghanistan 2013 Developing 59.9            268             66           \n",
              "4 Afghanistan 2012 Developing 59.5            272             69           \n",
              "5 Afghanistan 2011 Developing 59.2            275             71           \n",
              "6 Afghanistan 2010 Developing 58.8            279             74           \n",
              "  Alcohol percentage.expenditure Hepatitis.B Measles ⋯ Polio Total.expenditure\n",
              "1 0.01    71.279624              65          1154    ⋯  6    8.16             \n",
              "2 0.01    73.523582              62           492    ⋯ 58    8.18             \n",
              "3 0.01    73.219243              64           430    ⋯ 62    8.13             \n",
              "4 0.01    78.184215              67          2787    ⋯ 67    8.52             \n",
              "5 0.01     7.097109              68          3013    ⋯ 68    7.87             \n",
              "6 0.01    79.679367              66          1989    ⋯ 66    9.20             \n",
              "  Diphtheria HIV.AIDS GDP       Population thinness..1.19.years\n",
              "1 65         0.1      584.25921 33736494   17.2                \n",
              "2 62         0.1      612.69651   327582   17.5                \n",
              "3 64         0.1      631.74498 31731688   17.7                \n",
              "4 67         0.1      669.95900  3696958   17.9                \n",
              "5 68         0.1       63.53723  2978599   18.2                \n",
              "6 66         0.1      553.32894  2883167   18.4                \n",
              "  thinness.5.9.years Income.composition.of.resources Schooling\n",
              "1 17.3               0.479                           10.1     \n",
              "2 17.5               0.476                           10.0     \n",
              "3 17.7               0.470                            9.9     \n",
              "4 18.0               0.463                            9.8     \n",
              "5 18.2               0.454                            9.5     \n",
              "6 18.4               0.448                            9.2     "
            ]
          },
          "metadata": {}
        }
      ]
    },
    {
      "cell_type": "code",
      "source": [
        "model1 <- lm(Life.expectancy ~ . - Country - Status, data=data)\n",
        "summary(model)"
      ],
      "metadata": {
        "colab": {
          "base_uri": "https://localhost:8080/",
          "height": 573
        },
        "id": "EnOLuxi5pycp",
        "outputId": "edf492b4-df48-4084-d5e2-53a928e41c65"
      },
      "execution_count": null,
      "outputs": [
        {
          "output_type": "display_data",
          "data": {
            "text/plain": [
              "\n",
              "Call:\n",
              "lm(formula = Life.expectancy ~ . - Country - Status - Hepatitis.B - \n",
              "    Measles - Polio - GDP - Population - thinness..1.19.years - \n",
              "    thinness.5.9.years, data = data)\n",
              "\n",
              "Residuals:\n",
              "     Min       1Q   Median       3Q      Max \n",
              "-16.8419  -2.1261  -0.0089   2.1925  12.7939 \n",
              "\n",
              "Coefficients:\n",
              "                                  Estimate Std. Error t value Pr(>|t|)    \n",
              "(Intercept)                      3.146e+02  4.550e+01   6.914 6.71e-12 ***\n",
              "Year                            -1.308e-01  2.272e-02  -5.756 1.03e-08 ***\n",
              "Adult.Mortality                 -1.660e-02  9.386e-04 -17.683  < 2e-16 ***\n",
              "infant.deaths                    8.418e-02  9.904e-03   8.499  < 2e-16 ***\n",
              "Alcohol                         -8.786e-02  3.090e-02  -2.844 0.004515 ** \n",
              "percentage.expenditure           4.924e-04  5.730e-05   8.594  < 2e-16 ***\n",
              "BMI                              3.578e-02  5.558e-03   6.437 1.59e-10 ***\n",
              "under.five.deaths               -6.429e-02  7.377e-03  -8.715  < 2e-16 ***\n",
              "Total.expenditure                1.016e-01  4.028e-02   2.522 0.011757 *  \n",
              "Diphtheria                       1.493e-02  4.491e-03   3.324 0.000909 ***\n",
              "HIV.AIDS                        -4.519e-01  1.776e-02 -25.441  < 2e-16 ***\n",
              "Income.composition.of.resources  1.067e+01  8.291e-01  12.867  < 2e-16 ***\n",
              "Schooling                        9.182e-01  5.837e-02  15.730  < 2e-16 ***\n",
              "---\n",
              "Signif. codes:  0 ‘***’ 0.001 ‘**’ 0.01 ‘*’ 0.05 ‘.’ 0.1 ‘ ’ 1\n",
              "\n",
              "Residual standard error: 3.563 on 1636 degrees of freedom\n",
              "  (1289 observations deleted due to missingness)\n",
              "Multiple R-squared:  0.8371,\tAdjusted R-squared:  0.8359 \n",
              "F-statistic: 700.8 on 12 and 1636 DF,  p-value: < 2.2e-16\n"
            ]
          },
          "metadata": {}
        }
      ]
    },
    {
      "cell_type": "code",
      "source": [
        "confint(model1, level=0.95)"
      ],
      "metadata": {
        "colab": {
          "base_uri": "https://localhost:8080/",
          "height": 694
        },
        "id": "ye70I3vDqTku",
        "outputId": "3f0283c2-980e-407e-d535-82814630942f"
      },
      "execution_count": null,
      "outputs": [
        {
          "output_type": "display_data",
          "data": {
            "text/html": [
              "<table class=\"dataframe\">\n",
              "<caption>A matrix: 20 × 2 of type dbl</caption>\n",
              "<thead>\n",
              "\t<tr><th></th><th scope=col>2.5 %</th><th scope=col>97.5 %</th></tr>\n",
              "</thead>\n",
              "<tbody>\n",
              "\t<tr><th scope=row>(Intercept)</th><td> 2.226060e+02</td><td> 4.040996e+02</td></tr>\n",
              "\t<tr><th scope=row>Year</th><td>-1.751865e-01</td><td>-8.456311e-02</td></tr>\n",
              "\t<tr><th scope=row>Adult.Mortality</th><td>-1.828399e-02</td><td>-1.458882e-02</td></tr>\n",
              "\t<tr><th scope=row>infant.deaths</th><td> 6.799137e-02</td><td> 1.096260e-01</td></tr>\n",
              "\t<tr><th scope=row>Alcohol</th><td>-1.597387e-01</td><td>-3.689133e-02</td></tr>\n",
              "\t<tr><th scope=row>percentage.expenditure</th><td>-4.082683e-05</td><td> 6.621286e-04</td></tr>\n",
              "\t<tr><th scope=row>Hepatitis.B</th><td>-1.104166e-02</td><td> 6.387198e-03</td></tr>\n",
              "\t<tr><th scope=row>Measles</th><td>-3.208819e-05</td><td> 9.946731e-06</td></tr>\n",
              "\t<tr><th scope=row>BMI</th><td> 1.985279e-02</td><td> 4.325283e-02</td></tr>\n",
              "\t<tr><th scope=row>under.five.deaths</th><td>-8.172612e-02</td><td>-5.157215e-02</td></tr>\n",
              "\t<tr><th scope=row>Polio</th><td>-4.400598e-03</td><td> 1.572378e-02</td></tr>\n",
              "\t<tr><th scope=row>Total.expenditure</th><td> 1.672758e-02</td><td> 1.754812e-01</td></tr>\n",
              "\t<tr><th scope=row>Diphtheria</th><td> 1.998802e-03</td><td> 2.508571e-02</td></tr>\n",
              "\t<tr><th scope=row>HIV.AIDS</th><td>-4.844666e-01</td><td>-4.145524e-01</td></tr>\n",
              "\t<tr><th scope=row>GDP</th><td>-2.591325e-05</td><td> 8.491637e-05</td></tr>\n",
              "\t<tr><th scope=row>Population</th><td>-4.058254e-09</td><td> 2.752878e-09</td></tr>\n",
              "\t<tr><th scope=row>thinness..1.19.years</th><td>-1.054974e-01</td><td> 1.009346e-01</td></tr>\n",
              "\t<tr><th scope=row>thinness.5.9.years</th><td>-1.549684e-01</td><td> 4.875939e-02</td></tr>\n",
              "\t<tr><th scope=row>Income.composition.of.resources</th><td> 8.833863e+00</td><td> 1.210625e+01</td></tr>\n",
              "\t<tr><th scope=row>Schooling</th><td> 7.904740e-01</td><td> 1.022119e+00</td></tr>\n",
              "</tbody>\n",
              "</table>\n"
            ],
            "text/markdown": "\nA matrix: 20 × 2 of type dbl\n\n| <!--/--> | 2.5 % | 97.5 % |\n|---|---|---|\n| (Intercept) |  2.226060e+02 |  4.040996e+02 |\n| Year | -1.751865e-01 | -8.456311e-02 |\n| Adult.Mortality | -1.828399e-02 | -1.458882e-02 |\n| infant.deaths |  6.799137e-02 |  1.096260e-01 |\n| Alcohol | -1.597387e-01 | -3.689133e-02 |\n| percentage.expenditure | -4.082683e-05 |  6.621286e-04 |\n| Hepatitis.B | -1.104166e-02 |  6.387198e-03 |\n| Measles | -3.208819e-05 |  9.946731e-06 |\n| BMI |  1.985279e-02 |  4.325283e-02 |\n| under.five.deaths | -8.172612e-02 | -5.157215e-02 |\n| Polio | -4.400598e-03 |  1.572378e-02 |\n| Total.expenditure |  1.672758e-02 |  1.754812e-01 |\n| Diphtheria |  1.998802e-03 |  2.508571e-02 |\n| HIV.AIDS | -4.844666e-01 | -4.145524e-01 |\n| GDP | -2.591325e-05 |  8.491637e-05 |\n| Population | -4.058254e-09 |  2.752878e-09 |\n| thinness..1.19.years | -1.054974e-01 |  1.009346e-01 |\n| thinness.5.9.years | -1.549684e-01 |  4.875939e-02 |\n| Income.composition.of.resources |  8.833863e+00 |  1.210625e+01 |\n| Schooling |  7.904740e-01 |  1.022119e+00 |\n\n",
            "text/latex": "A matrix: 20 × 2 of type dbl\n\\begin{tabular}{r|ll}\n  & 2.5 \\% & 97.5 \\%\\\\\n\\hline\n\t(Intercept) &  2.226060e+02 &  4.040996e+02\\\\\n\tYear & -1.751865e-01 & -8.456311e-02\\\\\n\tAdult.Mortality & -1.828399e-02 & -1.458882e-02\\\\\n\tinfant.deaths &  6.799137e-02 &  1.096260e-01\\\\\n\tAlcohol & -1.597387e-01 & -3.689133e-02\\\\\n\tpercentage.expenditure & -4.082683e-05 &  6.621286e-04\\\\\n\tHepatitis.B & -1.104166e-02 &  6.387198e-03\\\\\n\tMeasles & -3.208819e-05 &  9.946731e-06\\\\\n\tBMI &  1.985279e-02 &  4.325283e-02\\\\\n\tunder.five.deaths & -8.172612e-02 & -5.157215e-02\\\\\n\tPolio & -4.400598e-03 &  1.572378e-02\\\\\n\tTotal.expenditure &  1.672758e-02 &  1.754812e-01\\\\\n\tDiphtheria &  1.998802e-03 &  2.508571e-02\\\\\n\tHIV.AIDS & -4.844666e-01 & -4.145524e-01\\\\\n\tGDP & -2.591325e-05 &  8.491637e-05\\\\\n\tPopulation & -4.058254e-09 &  2.752878e-09\\\\\n\tthinness..1.19.years & -1.054974e-01 &  1.009346e-01\\\\\n\tthinness.5.9.years & -1.549684e-01 &  4.875939e-02\\\\\n\tIncome.composition.of.resources &  8.833863e+00 &  1.210625e+01\\\\\n\tSchooling &  7.904740e-01 &  1.022119e+00\\\\\n\\end{tabular}\n",
            "text/plain": [
              "                                2.5 %         97.5 %       \n",
              "(Intercept)                      2.226060e+02  4.040996e+02\n",
              "Year                            -1.751865e-01 -8.456311e-02\n",
              "Adult.Mortality                 -1.828399e-02 -1.458882e-02\n",
              "infant.deaths                    6.799137e-02  1.096260e-01\n",
              "Alcohol                         -1.597387e-01 -3.689133e-02\n",
              "percentage.expenditure          -4.082683e-05  6.621286e-04\n",
              "Hepatitis.B                     -1.104166e-02  6.387198e-03\n",
              "Measles                         -3.208819e-05  9.946731e-06\n",
              "BMI                              1.985279e-02  4.325283e-02\n",
              "under.five.deaths               -8.172612e-02 -5.157215e-02\n",
              "Polio                           -4.400598e-03  1.572378e-02\n",
              "Total.expenditure                1.672758e-02  1.754812e-01\n",
              "Diphtheria                       1.998802e-03  2.508571e-02\n",
              "HIV.AIDS                        -4.844666e-01 -4.145524e-01\n",
              "GDP                             -2.591325e-05  8.491637e-05\n",
              "Population                      -4.058254e-09  2.752878e-09\n",
              "thinness..1.19.years            -1.054974e-01  1.009346e-01\n",
              "thinness.5.9.years              -1.549684e-01  4.875939e-02\n",
              "Income.composition.of.resources  8.833863e+00  1.210625e+01\n",
              "Schooling                        7.904740e-01  1.022119e+00"
            ]
          },
          "metadata": {}
        }
      ]
    },
    {
      "cell_type": "code",
      "source": [
        "model2 <- lm(Life.expectancy ~ . - Country - Status - Hepatitis.B - Measles - Polio - GDP - Population - thinness..1.19.years - thinness.5.9.years, data=data)\n",
        "summary(model)"
      ],
      "metadata": {
        "colab": {
          "base_uri": "https://localhost:8080/",
          "height": 573
        },
        "id": "f9E_TFl5q2J2",
        "outputId": "f904c050-3387-4f04-a643-f6cdccea5c01"
      },
      "execution_count": null,
      "outputs": [
        {
          "output_type": "display_data",
          "data": {
            "text/plain": [
              "\n",
              "Call:\n",
              "lm(formula = Life.expectancy ~ . - Country - Status - Hepatitis.B - \n",
              "    Measles - Polio - GDP - Population - thinness..1.19.years - \n",
              "    thinness.5.9.years, data = data)\n",
              "\n",
              "Residuals:\n",
              "     Min       1Q   Median       3Q      Max \n",
              "-16.8419  -2.1261  -0.0089   2.1925  12.7939 \n",
              "\n",
              "Coefficients:\n",
              "                                  Estimate Std. Error t value Pr(>|t|)    \n",
              "(Intercept)                      3.146e+02  4.550e+01   6.914 6.71e-12 ***\n",
              "Year                            -1.308e-01  2.272e-02  -5.756 1.03e-08 ***\n",
              "Adult.Mortality                 -1.660e-02  9.386e-04 -17.683  < 2e-16 ***\n",
              "infant.deaths                    8.418e-02  9.904e-03   8.499  < 2e-16 ***\n",
              "Alcohol                         -8.786e-02  3.090e-02  -2.844 0.004515 ** \n",
              "percentage.expenditure           4.924e-04  5.730e-05   8.594  < 2e-16 ***\n",
              "BMI                              3.578e-02  5.558e-03   6.437 1.59e-10 ***\n",
              "under.five.deaths               -6.429e-02  7.377e-03  -8.715  < 2e-16 ***\n",
              "Total.expenditure                1.016e-01  4.028e-02   2.522 0.011757 *  \n",
              "Diphtheria                       1.493e-02  4.491e-03   3.324 0.000909 ***\n",
              "HIV.AIDS                        -4.519e-01  1.776e-02 -25.441  < 2e-16 ***\n",
              "Income.composition.of.resources  1.067e+01  8.291e-01  12.867  < 2e-16 ***\n",
              "Schooling                        9.182e-01  5.837e-02  15.730  < 2e-16 ***\n",
              "---\n",
              "Signif. codes:  0 ‘***’ 0.001 ‘**’ 0.01 ‘*’ 0.05 ‘.’ 0.1 ‘ ’ 1\n",
              "\n",
              "Residual standard error: 3.563 on 1636 degrees of freedom\n",
              "  (1289 observations deleted due to missingness)\n",
              "Multiple R-squared:  0.8371,\tAdjusted R-squared:  0.8359 \n",
              "F-statistic: 700.8 on 12 and 1636 DF,  p-value: < 2.2e-16\n"
            ]
          },
          "metadata": {}
        }
      ]
    },
    {
      "cell_type": "code",
      "source": [
        "layout(matrix(c(1,2,3,4),2,2)) # optional 4 graphs/page\n",
        "plot(model2)"
      ],
      "metadata": {
        "colab": {
          "base_uri": "https://localhost:8080/",
          "height": 437
        },
        "id": "gbjM-S0qr57I",
        "outputId": "d68b72ca-a5da-4f56-b8d6-921de323dc11"
      },
      "execution_count": null,
      "outputs": [
        {
          "output_type": "display_data",
          "data": {
            "text/plain": [
              "Plot with title “”"
            ],
            "image/png": "[encoded data removed]"
          },
          "metadata": {
            "image/png": {
              "width": 420,
              "height": 420
            }
          }
        }
      ]
    },
    {
      "cell_type": "markdown",
      "source": [
        "## Анализ категориальных данных\n",
        "### Вариант 3"
      ],
      "metadata": {
        "id": "RSEOrrMamqNY"
      }
    },
    {
      "cell_type": "markdown",
      "source": [
        "Влияние смертности от ишемической болезни сердца (Y) на естественный прирост населения в 1997 году.\n"
      ],
      "metadata": {
        "id": "e8rfr_H8CEQQ"
      }
    },
    {
      "cell_type": "markdown",
      "source": [
        "| ест.прирост в 1997 | Y<150 | Y$\\geqslant$ 150 | сумма |\n",
        "|--------------------|-------|----------------|-------|\n",
        "| низк.              | 1 (12%)    | 6 (46%)             | 7     |\n",
        "| выс.               | 7 (88%)     | 7 (54%)             | 14    |\n",
        "| сумма              | 8     | 13             | 21    |"
      ],
      "metadata": {
        "id": "eL2TksMpDcmt"
      }
    },
    {
      "cell_type": "markdown",
      "source": [
        "$$\\det = 1\\cdot 7 - 6\\cdot 7 = -35$$\n",
        "Значит, естественный прирост населения в 1997 году уменьшается при более высокой смертности.\n",
        "\n",
        "Рассматриваются страны, среди которых 67% имеют выскую ЕПН97: в странах с высокой смертностью от ишемической болезни сердца этот процент ниже (54%), а с низкой -- выше (88%)."
      ],
      "metadata": {
        "id": "Pa8lDK3QDmZB"
      }
    },
    {
      "cell_type": "markdown",
      "source": [
        "### 1. Проверить независимость признаков при использовании а) точного критерия Фишера, б) критерия независимости Пирсона."
      ],
      "metadata": {
        "id": "oXa4ow9QxzEG"
      }
    },
    {
      "cell_type": "markdown",
      "source": [
        "### Точный критерий Фишера"
      ],
      "metadata": {
        "id": "doTMGMHizzUC"
      }
    },
    {
      "cell_type": "code",
      "source": [
        "data <- matrix(c(1, 7, 6, 7),\n",
        "       nrow = 2,\n",
        "       dimnames = list(Guess = c(\"Low\", \"High\"),\n",
        "                       Truth = c(\"<150\", \">=150\")))\n",
        "data\n",
        "fisher.test(data)"
      ],
      "metadata": {
        "colab": {
          "base_uri": "https://localhost:8080/",
          "height": 338
        },
        "id": "GPF08B-7yZPL",
        "outputId": "7d70ed3f-68d1-4286-c2ba-d6ea923ae9ca"
      },
      "execution_count": null,
      "outputs": [
        {
          "output_type": "display_data",
          "data": {
            "text/html": [
              "<table class=\"dataframe\">\n",
              "<caption>A matrix: 2 × 2 of type dbl</caption>\n",
              "<thead>\n",
              "\t<tr><th></th><th scope=col>&lt;150</th><th scope=col>&gt;=150</th></tr>\n",
              "</thead>\n",
              "<tbody>\n",
              "\t<tr><th scope=row>Low</th><td>1</td><td>6</td></tr>\n",
              "\t<tr><th scope=row>High</th><td>7</td><td>7</td></tr>\n",
              "</tbody>\n",
              "</table>\n"
            ],
            "text/markdown": "\nA matrix: 2 × 2 of type dbl\n\n| <!--/--> | &lt;150 | &gt;=150 |\n|---|---|---|\n| Low | 1 | 6 |\n| High | 7 | 7 |\n\n",
            "text/latex": "A matrix: 2 × 2 of type dbl\n\\begin{tabular}{r|ll}\n  & <150 & >=150\\\\\n\\hline\n\tLow & 1 & 6\\\\\n\tHigh & 7 & 7\\\\\n\\end{tabular}\n",
            "text/plain": [
              "      Truth\n",
              "Guess  <150 >=150\n",
              "  Low  1    6    \n",
              "  High 7    7    "
            ]
          },
          "metadata": {}
        },
        {
          "output_type": "display_data",
          "data": {
            "text/plain": [
              "\n",
              "\tFisher's Exact Test for Count Data\n",
              "\n",
              "data:  data\n",
              "p-value = 0.1736\n",
              "alternative hypothesis: true odds ratio is not equal to 1\n",
              "95 percent confidence interval:\n",
              " 0.003184937 2.141794930\n",
              "sample estimates:\n",
              "odds ratio \n",
              " 0.1806727 \n"
            ]
          },
          "metadata": {}
        }
      ]
    },
    {
      "cell_type": "markdown",
      "source": [
        "Значение p-value превышает 5%. Значит, нулевая гипотеза не отвергается, то есть не найдено значимой зависимости между категориальными переменными."
      ],
      "metadata": {
        "id": "5A42qLjI0UtZ"
      }
    },
    {
      "cell_type": "markdown",
      "source": [
        "### Критерий независимости Пирсона"
      ],
      "metadata": {
        "id": "Cq3rY5Y0z3cH"
      }
    },
    {
      "cell_type": "markdown",
      "source": [
        "$$\\chi^2 = \\dfrac{(1\\cdot 7 - 6\\cdot 7)^2 \\cdot 21}{7\\cdot 14\\cdot 13\\cdot 8} \\approx 2.524$$\n",
        "$$p = \\mathbb P\\left(\\chi^2(1) > 2.524\\right) = 1 - \\mathbb P\\left(\\chi^2(1)\\leqslant 2.524\\right) \\approx 0.112 > 0.05$$\n",
        "Различие незначимо."
      ],
      "metadata": {
        "id": "yiI327-RFfSQ"
      }
    },
    {
      "cell_type": "code",
      "source": [
        "1 - pchisq(2.524,1)"
      ],
      "metadata": {
        "colab": {
          "base_uri": "https://localhost:8080/",
          "height": 34
        },
        "id": "OifMNtypIRWq",
        "outputId": "b3737bc0-e4fa-4164-ac8d-521dd50bd28f"
      },
      "execution_count": null,
      "outputs": [
        {
          "output_type": "display_data",
          "data": {
            "text/html": [
              "0.112125842126181"
            ],
            "text/markdown": "0.112125842126181",
            "text/latex": "0.112125842126181",
            "text/plain": [
              "[1] 0.1121258"
            ]
          },
          "metadata": {}
        }
      ]
    },
    {
      "cell_type": "markdown",
      "source": [
        "### 2. Вычислить коэффициенты неопределенности."
      ],
      "metadata": {
        "id": "HXqK8wTU17m7"
      }
    },
    {
      "cell_type": "markdown",
      "source": [
        "$$H(X) = \\dfrac{7}{21}\\cdot\\log_2\\left(\\dfrac{21}{7}\\right) + \\dfrac{14}{21}\\cdot\\log_2\\left(\\dfrac{21}{14}\\right) \\approx 0.918$$\n",
        "$$H(Y) = \\dfrac{8}{21}\\cdot\\log_2\\left(\\dfrac{21}{8}\\right) + \\dfrac{13}{21}\\cdot\\log_2\\left(\\dfrac{21}{13}\\right) \\approx 0.959$$\n",
        "$$H(X,Y) = \\dfrac{1}{21}\\cdot\\log_2\\left(21\\right) + \\dfrac{6}{21}\\cdot\\log_2\\left(\\dfrac{21}{6}\\right) + 2\\cdot \\dfrac{7}{21}\\cdot\\log_2\\left(\\dfrac{21}{7}\\right) \\approx 1.782$$\n",
        "$$I(X,Y) = H(X) + H(Y) - H(X,Y) = 0.095$$\n",
        "$$J_{X|Y} = \\dfrac{I(X,Y)}{H(Y)}\\cdot 100\\% = \\dfrac{0.095}{0.959}\\cdot 100\\% \\approx 10\\% $$\n",
        "$$J_{Y|X} = \\dfrac{I(X,Y)}{H(X)}\\cdot 100\\% = \\dfrac{0.095}{0.918}\\cdot 100\\% \\approx 10\\% $$\n",
        "$$J = \\dfrac{2\\cdot I(X,Y)}{H(X) + H(Y)} \\approx 10\\% $$"
      ],
      "metadata": {
        "id": "Mhkj5-fT3q9T"
      }
    },
    {
      "cell_type": "markdown",
      "source": [
        "### 3. Для повторных наблюдений применить критерии Мак-Немара и Кохрена."
      ],
      "metadata": {
        "id": "AANS5eRB9qMA"
      }
    },
    {
      "cell_type": "markdown",
      "source": [
        "$$L = 2\\cdot \\sum\\limits_{j=1}^s\\sum\\limits_{i=1}^r n_{ij}\\cdot \\log \\dfrac{n_{ij}\\cdot N}{n_{*i}\\cdot n_{j*}} \\approx 3.982 $$\n",
        "$$p = 0.046 < 0.05$$\n",
        "Различие значимо."
      ],
      "metadata": {
        "id": "hYiTGtI_IgMI"
      }
    },
    {
      "cell_type": "code",
      "source": [
        "1 - pchisq(3.982,1)\n",
        "1.202"
      ],
      "metadata": {
        "colab": {
          "base_uri": "https://localhost:8080/",
          "height": 34
        },
        "id": "HxPwy7RDOjZa",
        "outputId": "498362ce-acfb-4a4f-9d66-20a3092f2f1c"
      },
      "execution_count": null,
      "outputs": [
        {
          "output_type": "display_data",
          "data": {
            "text/html": [
              "0.0459889269952027"
            ],
            "text/markdown": "0.0459889269952027",
            "text/latex": "0.0459889269952027",
            "text/plain": [
              "[1] 0.04598893"
            ]
          },
          "metadata": {}
        }
      ]
    },
    {
      "cell_type": "code",
      "source": [],
      "metadata": {
        "id": "rM9W4_oK6ma0"
      },
      "execution_count": null,
      "outputs": []
    },
    {
      "cell_type": "code",
      "source": [
        "1 - pchisq(2.3,1)\n"
      ],
      "metadata": {
        "id": "SUg7MYmkTQo5",
        "outputId": "ebb3763a-2796-4424-c268-f53d0d67b971",
        "colab": {
          "base_uri": "https://localhost:8080/",
          "height": 34
        }
      },
      "execution_count": null,
      "outputs": [
        {
          "output_type": "display_data",
          "data": {
            "text/html": [
              "0.129373998836297"
            ],
            "text/markdown": "0.129373998836297",
            "text/latex": "0.129373998836297",
            "text/plain": [
              "[1] 0.129374"
            ]
          },
          "metadata": {}
        }
      ]
    },
    {
      "cell_type": "code",
      "source": [],
      "metadata": {
        "id": "zgPkX1j-A5Bw"
      },
      "execution_count": null,
      "outputs": []
    },
    {
      "cell_type": "markdown",
      "source": [
        "# Анализ категориальных данных\n"
      ],
      "metadata": {
        "id": "Oh3GMPqXA6C_"
      }
    },
    {
      "cell_type": "code",
      "source": [
        "data <- read.csv(\"/content/data_big.csv\", sep=',')\n",
        "head(data)"
      ],
      "metadata": {
        "colab": {
          "base_uri": "https://localhost:8080/",
          "height": 306
        },
        "id": "rs7Bsi0vBA5H",
        "outputId": "b3f9fb69-0c1d-4433-f2a6-e42c2fa17c6e"
      },
      "execution_count": null,
      "outputs": [
        {
          "output_type": "display_data",
          "data": {
            "text/html": [
              "<table class=\"dataframe\">\n",
              "<caption>A data.frame: 6 × 121</caption>\n",
              "<thead>\n",
              "\t<tr><th></th><th scope=col>X</th><th scope=col>X.1</th><th scope=col>depressed.mood.1</th><th scope=col>anxiety.1</th><th scope=col>suspiciousness.1</th><th scope=col>irritability.1</th><th scope=col>craving.to.alcohol.1</th><th scope=col>weakness.1</th><th scope=col>insomia.1</th><th scope=col>headache.1</th><th scope=col>⋯</th><th scope=col>combined2.9</th><th scope=col>HR.9</th><th scope=col>SBP.9</th><th scope=col>DBP.9</th><th scope=col>MBP.9</th><th scope=col>SV.9</th><th scope=col>CO.9</th><th scope=col>SI.9</th><th scope=col>CI.9</th><th scope=col>TPR.9</th></tr>\n",
              "\t<tr><th></th><th scope=col>&lt;int&gt;</th><th scope=col>&lt;int&gt;</th><th scope=col>&lt;int&gt;</th><th scope=col>&lt;int&gt;</th><th scope=col>&lt;int&gt;</th><th scope=col>&lt;int&gt;</th><th scope=col>&lt;int&gt;</th><th scope=col>&lt;int&gt;</th><th scope=col>&lt;int&gt;</th><th scope=col>&lt;int&gt;</th><th scope=col>⋯</th><th scope=col>&lt;int&gt;</th><th scope=col>&lt;int&gt;</th><th scope=col>&lt;int&gt;</th><th scope=col>&lt;int&gt;</th><th scope=col>&lt;int&gt;</th><th scope=col>&lt;int&gt;</th><th scope=col>&lt;dbl&gt;</th><th scope=col>&lt;int&gt;</th><th scope=col>&lt;dbl&gt;</th><th scope=col>&lt;int&gt;</th></tr>\n",
              "</thead>\n",
              "<tbody>\n",
              "\t<tr><th scope=row>1</th><td>1</td><td>1</td><td>1</td><td>1</td><td>0</td><td>1</td><td>1</td><td>1</td><td>1</td><td>0</td><td>⋯</td><td>0</td><td>68</td><td>108</td><td>70</td><td> 83</td><td> 74</td><td>5.0</td><td>40</td><td>2.7</td><td>1321</td></tr>\n",
              "\t<tr><th scope=row>2</th><td>2</td><td>2</td><td>1</td><td>1</td><td>0</td><td>0</td><td>1</td><td>1</td><td>2</td><td>1</td><td>⋯</td><td>9</td><td>63</td><td>114</td><td>70</td><td> 85</td><td>123</td><td>7.7</td><td>60</td><td>3.8</td><td> 879</td></tr>\n",
              "\t<tr><th scope=row>3</th><td>3</td><td>3</td><td>1</td><td>1</td><td>0</td><td>0</td><td>0</td><td>2</td><td>1</td><td>0</td><td>⋯</td><td>0</td><td>64</td><td>120</td><td>80</td><td> 93</td><td>106</td><td>6.8</td><td>55</td><td>3.5</td><td>1098</td></tr>\n",
              "\t<tr><th scope=row>4</th><td>4</td><td>4</td><td>2</td><td>2</td><td>0</td><td>0</td><td>0</td><td>2</td><td>0</td><td>0</td><td>⋯</td><td>0</td><td>56</td><td>124</td><td>90</td><td>101</td><td> 90</td><td>5.1</td><td>43</td><td>2.4</td><td>1600</td></tr>\n",
              "\t<tr><th scope=row>5</th><td>5</td><td>5</td><td>1</td><td>1</td><td>0</td><td>0</td><td>2</td><td>2</td><td>1</td><td>0</td><td>⋯</td><td>0</td><td>66</td><td>116</td><td>78</td><td> 90</td><td> 90</td><td>5.9</td><td>45</td><td>2.2</td><td>1228</td></tr>\n",
              "\t<tr><th scope=row>6</th><td>6</td><td>6</td><td>1</td><td>1</td><td>0</td><td>1</td><td>1</td><td>2</td><td>0</td><td>0</td><td>⋯</td><td>0</td><td>62</td><td>142</td><td>90</td><td>107</td><td>113</td><td>7.0</td><td>56</td><td>3.4</td><td>1225</td></tr>\n",
              "</tbody>\n",
              "</table>\n"
            ],
            "text/markdown": "\nA data.frame: 6 × 121\n\n| <!--/--> | X &lt;int&gt; | X.1 &lt;int&gt; | depressed.mood.1 &lt;int&gt; | anxiety.1 &lt;int&gt; | suspiciousness.1 &lt;int&gt; | irritability.1 &lt;int&gt; | craving.to.alcohol.1 &lt;int&gt; | weakness.1 &lt;int&gt; | insomia.1 &lt;int&gt; | headache.1 &lt;int&gt; | ⋯ ⋯ | combined2.9 &lt;int&gt; | HR.9 &lt;int&gt; | SBP.9 &lt;int&gt; | DBP.9 &lt;int&gt; | MBP.9 &lt;int&gt; | SV.9 &lt;int&gt; | CO.9 &lt;dbl&gt; | SI.9 &lt;int&gt; | CI.9 &lt;dbl&gt; | TPR.9 &lt;int&gt; |\n|---|---|---|---|---|---|---|---|---|---|---|---|---|---|---|---|---|---|---|---|---|---|\n| 1 | 1 | 1 | 1 | 1 | 0 | 1 | 1 | 1 | 1 | 0 | ⋯ | 0 | 68 | 108 | 70 |  83 |  74 | 5.0 | 40 | 2.7 | 1321 |\n| 2 | 2 | 2 | 1 | 1 | 0 | 0 | 1 | 1 | 2 | 1 | ⋯ | 9 | 63 | 114 | 70 |  85 | 123 | 7.7 | 60 | 3.8 |  879 |\n| 3 | 3 | 3 | 1 | 1 | 0 | 0 | 0 | 2 | 1 | 0 | ⋯ | 0 | 64 | 120 | 80 |  93 | 106 | 6.8 | 55 | 3.5 | 1098 |\n| 4 | 4 | 4 | 2 | 2 | 0 | 0 | 0 | 2 | 0 | 0 | ⋯ | 0 | 56 | 124 | 90 | 101 |  90 | 5.1 | 43 | 2.4 | 1600 |\n| 5 | 5 | 5 | 1 | 1 | 0 | 0 | 2 | 2 | 1 | 0 | ⋯ | 0 | 66 | 116 | 78 |  90 |  90 | 5.9 | 45 | 2.2 | 1228 |\n| 6 | 6 | 6 | 1 | 1 | 0 | 1 | 1 | 2 | 0 | 0 | ⋯ | 0 | 62 | 142 | 90 | 107 | 113 | 7.0 | 56 | 3.4 | 1225 |\n\n",
            "text/latex": "A data.frame: 6 × 121\n\\begin{tabular}{r|lllllllllllllllllllll}\n  & X & X.1 & depressed.mood.1 & anxiety.1 & suspiciousness.1 & irritability.1 & craving.to.alcohol.1 & weakness.1 & insomia.1 & headache.1 & ⋯ & combined2.9 & HR.9 & SBP.9 & DBP.9 & MBP.9 & SV.9 & CO.9 & SI.9 & CI.9 & TPR.9\\\\\n  & <int> & <int> & <int> & <int> & <int> & <int> & <int> & <int> & <int> & <int> & ⋯ & <int> & <int> & <int> & <int> & <int> & <int> & <dbl> & <int> & <dbl> & <int>\\\\\n\\hline\n\t1 & 1 & 1 & 1 & 1 & 0 & 1 & 1 & 1 & 1 & 0 & ⋯ & 0 & 68 & 108 & 70 &  83 &  74 & 5.0 & 40 & 2.7 & 1321\\\\\n\t2 & 2 & 2 & 1 & 1 & 0 & 0 & 1 & 1 & 2 & 1 & ⋯ & 9 & 63 & 114 & 70 &  85 & 123 & 7.7 & 60 & 3.8 &  879\\\\\n\t3 & 3 & 3 & 1 & 1 & 0 & 0 & 0 & 2 & 1 & 0 & ⋯ & 0 & 64 & 120 & 80 &  93 & 106 & 6.8 & 55 & 3.5 & 1098\\\\\n\t4 & 4 & 4 & 2 & 2 & 0 & 0 & 0 & 2 & 0 & 0 & ⋯ & 0 & 56 & 124 & 90 & 101 &  90 & 5.1 & 43 & 2.4 & 1600\\\\\n\t5 & 5 & 5 & 1 & 1 & 0 & 0 & 2 & 2 & 1 & 0 & ⋯ & 0 & 66 & 116 & 78 &  90 &  90 & 5.9 & 45 & 2.2 & 1228\\\\\n\t6 & 6 & 6 & 1 & 1 & 0 & 1 & 1 & 2 & 0 & 0 & ⋯ & 0 & 62 & 142 & 90 & 107 & 113 & 7.0 & 56 & 3.4 & 1225\\\\\n\\end{tabular}\n",
            "text/plain": [
              "  X X.1 depressed.mood.1 anxiety.1 suspiciousness.1 irritability.1\n",
              "1 1 1   1                1         0                1             \n",
              "2 2 2   1                1         0                0             \n",
              "3 3 3   1                1         0                0             \n",
              "4 4 4   2                2         0                0             \n",
              "5 5 5   1                1         0                0             \n",
              "6 6 6   1                1         0                1             \n",
              "  craving.to.alcohol.1 weakness.1 insomia.1 headache.1 ⋯ combined2.9 HR.9 SBP.9\n",
              "1 1                    1          1         0          ⋯ 0           68   108  \n",
              "2 1                    1          2         1          ⋯ 9           63   114  \n",
              "3 0                    2          1         0          ⋯ 0           64   120  \n",
              "4 0                    2          0         0          ⋯ 0           56   124  \n",
              "5 2                    2          1         0          ⋯ 0           66   116  \n",
              "6 1                    2          0         0          ⋯ 0           62   142  \n",
              "  DBP.9 MBP.9 SV.9 CO.9 SI.9 CI.9 TPR.9\n",
              "1 70     83    74  5.0  40   2.7  1321 \n",
              "2 70     85   123  7.7  60   3.8   879 \n",
              "3 80     93   106  6.8  55   3.5  1098 \n",
              "4 90    101    90  5.1  43   2.4  1600 \n",
              "5 78     90    90  5.9  45   2.2  1228 \n",
              "6 90    107   113  7.0  56   3.4  1225 "
            ]
          },
          "metadata": {}
        }
      ]
    },
    {
      "cell_type": "markdown",
      "source": [
        "Выбираем нужные столбцы"
      ],
      "metadata": {
        "id": "ETztRIADCpNK"
      }
    },
    {
      "cell_type": "code",
      "source": [
        "data <- data[, c(\"depressed.mood.1\",\"depressed.mood.2\")]\n",
        "head(data)"
      ],
      "metadata": {
        "colab": {
          "base_uri": "https://localhost:8080/",
          "height": 286
        },
        "id": "Q8b7H7rvBqqj",
        "outputId": "8868d5ef-a3cf-4c13-8581-18b9be233bcc"
      },
      "execution_count": null,
      "outputs": [
        {
          "output_type": "display_data",
          "data": {
            "text/html": [
              "<table class=\"dataframe\">\n",
              "<caption>A data.frame: 6 × 2</caption>\n",
              "<thead>\n",
              "\t<tr><th></th><th scope=col>depressed.mood.1</th><th scope=col>depressed.mood.2</th></tr>\n",
              "\t<tr><th></th><th scope=col>&lt;int&gt;</th><th scope=col>&lt;dbl&gt;</th></tr>\n",
              "</thead>\n",
              "<tbody>\n",
              "\t<tr><th scope=row>1</th><td>1</td><td>1</td></tr>\n",
              "\t<tr><th scope=row>2</th><td>1</td><td>2</td></tr>\n",
              "\t<tr><th scope=row>3</th><td>1</td><td>1</td></tr>\n",
              "\t<tr><th scope=row>4</th><td>2</td><td>2</td></tr>\n",
              "\t<tr><th scope=row>5</th><td>1</td><td>1</td></tr>\n",
              "\t<tr><th scope=row>6</th><td>1</td><td>1</td></tr>\n",
              "</tbody>\n",
              "</table>\n"
            ],
            "text/markdown": "\nA data.frame: 6 × 2\n\n| <!--/--> | depressed.mood.1 &lt;int&gt; | depressed.mood.2 &lt;dbl&gt; |\n|---|---|---|\n| 1 | 1 | 1 |\n| 2 | 1 | 2 |\n| 3 | 1 | 1 |\n| 4 | 2 | 2 |\n| 5 | 1 | 1 |\n| 6 | 1 | 1 |\n\n",
            "text/latex": "A data.frame: 6 × 2\n\\begin{tabular}{r|ll}\n  & depressed.mood.1 & depressed.mood.2\\\\\n  & <int> & <dbl>\\\\\n\\hline\n\t1 & 1 & 1\\\\\n\t2 & 1 & 2\\\\\n\t3 & 1 & 1\\\\\n\t4 & 2 & 2\\\\\n\t5 & 1 & 1\\\\\n\t6 & 1 & 1\\\\\n\\end{tabular}\n",
            "text/plain": [
              "  depressed.mood.1 depressed.mood.2\n",
              "1 1                1               \n",
              "2 1                2               \n",
              "3 1                1               \n",
              "4 2                2               \n",
              "5 1                1               \n",
              "6 1                1               "
            ]
          },
          "metadata": {}
        }
      ]
    },
    {
      "cell_type": "code",
      "source": [
        "unique(data$depressed.mood.1)\n",
        "unique(data$depressed.mood.2)"
      ],
      "metadata": {
        "colab": {
          "base_uri": "https://localhost:8080/",
          "height": 52
        },
        "id": "6xpiB8zQCOdM",
        "outputId": "9511a182-410c-4fa2-edd9-e866105c23ba"
      },
      "execution_count": null,
      "outputs": [
        {
          "output_type": "display_data",
          "data": {
            "text/html": [
              "<style>\n",
              ".list-inline {list-style: none; margin:0; padding: 0}\n",
              ".list-inline>li {display: inline-block}\n",
              ".list-inline>li:not(:last-child)::after {content: \"\\00b7\"; padding: 0 .5ex}\n",
              "</style>\n",
              "<ol class=list-inline><li>1</li><li>2</li></ol>\n"
            ],
            "text/markdown": "1. 1\n2. 2\n\n\n",
            "text/latex": "\\begin{enumerate*}\n\\item 1\n\\item 2\n\\end{enumerate*}\n",
            "text/plain": [
              "[1] 1 2"
            ]
          },
          "metadata": {}
        },
        {
          "output_type": "display_data",
          "data": {
            "text/html": [
              "<style>\n",
              ".list-inline {list-style: none; margin:0; padding: 0}\n",
              ".list-inline>li {display: inline-block}\n",
              ".list-inline>li:not(:last-child)::after {content: \"\\00b7\"; padding: 0 .5ex}\n",
              "</style>\n",
              "<ol class=list-inline><li>1</li><li>2</li></ol>\n"
            ],
            "text/markdown": "1. 1\n2. 2\n\n\n",
            "text/latex": "\\begin{enumerate*}\n\\item 1\n\\item 2\n\\end{enumerate*}\n",
            "text/plain": [
              "[1] 1 2"
            ]
          },
          "metadata": {}
        }
      ]
    },
    {
      "cell_type": "markdown",
      "source": [
        "Оставляем только два возможных значения"
      ],
      "metadata": {
        "id": "t7FnPlCXCvEk"
      }
    },
    {
      "cell_type": "code",
      "source": [
        "data[data == 0] <- 1"
      ],
      "metadata": {
        "id": "FMkPV91oCmc3"
      },
      "execution_count": null,
      "outputs": []
    },
    {
      "cell_type": "markdown",
      "source": [
        "Создадим таблицу с количеством индивидов каждой категории"
      ],
      "metadata": {
        "id": "aZyo__FCGbuX"
      }
    },
    {
      "cell_type": "code",
      "source": [
        "df <- matrix(c(length(which(data$depressed.mood.1==2)),\n",
        "                length(which(data$depressed.mood.2==2)),\n",
        "                length(which(data$depressed.mood.1==1)),\n",
        "                length(which(data$depressed.mood.2==1))),\n",
        "       nrow = 2,\n",
        "       dimnames = list(Guess = c(\"d.mode.1\", \"d.mode.2\"),\n",
        "                       Truth = c(\"depressed\", \"not depressed\")))\n",
        "df"
      ],
      "metadata": {
        "colab": {
          "base_uri": "https://localhost:8080/",
          "height": 129
        },
        "id": "ujmjkJzei8CO",
        "outputId": "cc906020-527e-4d8f-ab3e-f451cc7d6d75"
      },
      "execution_count": null,
      "outputs": [
        {
          "output_type": "display_data",
          "data": {
            "text/html": [
              "<table class=\"dataframe\">\n",
              "<caption>A matrix: 2 × 2 of type int</caption>\n",
              "<thead>\n",
              "\t<tr><th></th><th scope=col>depressed</th><th scope=col>not depressed</th></tr>\n",
              "</thead>\n",
              "<tbody>\n",
              "\t<tr><th scope=row>d.mode.1</th><td>6</td><td>28</td></tr>\n",
              "\t<tr><th scope=row>d.mode.2</th><td>4</td><td>30</td></tr>\n",
              "</tbody>\n",
              "</table>\n"
            ],
            "text/markdown": "\nA matrix: 2 × 2 of type int\n\n| <!--/--> | depressed | not depressed |\n|---|---|---|\n| d.mode.1 | 6 | 28 |\n| d.mode.2 | 4 | 30 |\n\n",
            "text/latex": "A matrix: 2 × 2 of type int\n\\begin{tabular}{r|ll}\n  & depressed & not depressed\\\\\n\\hline\n\td.mode.1 & 6 & 28\\\\\n\td.mode.2 & 4 & 30\\\\\n\\end{tabular}\n",
            "text/plain": [
              "          Truth\n",
              "Guess      depressed not depressed\n",
              "  d.mode.1 6         28           \n",
              "  d.mode.2 4         30           "
            ]
          },
          "metadata": {}
        }
      ]
    },
    {
      "cell_type": "markdown",
      "source": [
        "### 1. Проверить независимость признаков при использовании а) точного критерия Фишера, б) критерия независимости Пирсона."
      ],
      "metadata": {
        "id": "B7pdFM-BI0nO"
      }
    },
    {
      "cell_type": "markdown",
      "source": [
        "### Точный критерий Фишера"
      ],
      "metadata": {
        "id": "rFxRTKOlI0nP"
      }
    },
    {
      "cell_type": "code",
      "source": [
        "fisher.test(df)"
      ],
      "metadata": {
        "colab": {
          "base_uri": "https://localhost:8080/",
          "height": 208
        },
        "outputId": "fc3224d3-3a67-43e0-fbfb-bb129c479be2",
        "id": "IIKb_fbeI0nP"
      },
      "execution_count": null,
      "outputs": [
        {
          "output_type": "display_data",
          "data": {
            "text/plain": [
              "\n",
              "\tFisher's Exact Test for Count Data\n",
              "\n",
              "data:  df\n",
              "p-value = 0.7337\n",
              "alternative hypothesis: true odds ratio is not equal to 1\n",
              "95 percent confidence interval:\n",
              " 0.3372097 8.5354749\n",
              "sample estimates:\n",
              "odds ratio \n",
              "  1.596006 \n"
            ]
          },
          "metadata": {}
        }
      ]
    },
    {
      "cell_type": "markdown",
      "source": [
        "Значение p-value превышает 5%. Значит, нулевая гипотеза не отвергается, то есть не найдено значимой зависимости между категориальными переменными."
      ],
      "metadata": {
        "id": "V0IkAfRnI0nQ"
      }
    },
    {
      "cell_type": "markdown",
      "source": [
        "### Критерий независимости Пирсона"
      ],
      "metadata": {
        "id": "Cbo9gzwkI0nR"
      }
    },
    {
      "cell_type": "code",
      "source": [
        "chisq.test(df)"
      ],
      "metadata": {
        "colab": {
          "base_uri": "https://localhost:8080/",
          "height": 104
        },
        "outputId": "ff69e815-efbd-467b-d1bf-13a5a92864ee",
        "id": "EExT9Hi9I0nT"
      },
      "execution_count": null,
      "outputs": [
        {
          "output_type": "display_data",
          "data": {
            "text/plain": [
              "\n",
              "\tPearson's Chi-squared test with Yates' continuity correction\n",
              "\n",
              "data:  df\n",
              "X-squared = 0.11724, df = 1, p-value = 0.732\n"
            ]
          },
          "metadata": {}
        }
      ]
    },
    {
      "cell_type": "markdown",
      "source": [
        "Также не найдено значимой зависимости между категориальными переменными."
      ],
      "metadata": {
        "id": "uX25D1nzJSH5"
      }
    },
    {
      "cell_type": "markdown",
      "source": [
        "### 2. Вычислить коэффициенты неопределенности.\n"
      ],
      "metadata": {
        "id": "j2LM0w00I0nT"
      }
    },
    {
      "cell_type": "markdown",
      "source": [
        "$$H(X) = 2\\cdot \\dfrac{34}{68}\\cdot\\log_2\\left(\\dfrac{68}\n",
        "{34}\\right) = 1$$\n",
        "$$H(Y) = \\dfrac{58}{68}\\cdot\\log_2\\left(\\dfrac{68}{58}\\right) + \\dfrac{10}{68}\\cdot\\log_2\\left(\\dfrac{68}{10}\\right) \\approx 0.602$$\n",
        "$$H(X,Y) = \\dfrac{28}{68}\\cdot\\log_2\\left(\\dfrac{68}{28}\\right) + \\dfrac{30}{68}\\cdot\\log_2\\left(\\dfrac{68}{30}\\right) + \\dfrac{6}{68}\\cdot\\log_2\\left(\\dfrac{68}{6}\\right) + \\dfrac{4}{68}\\cdot\\log_2\\left(\\dfrac{68}{4}\\right) \\approx 1.597$$\n",
        "$$I(X,Y) = H(X) + H(Y) - H(X,Y) = 0.005$$\n",
        "$$J_{X|Y} = \\dfrac{I(X,Y)}{H(Y)}\\cdot 100\\% = \\dfrac{0.005}{0.0.602}\\cdot 100\\% \\approx 0.8\\% $$\n",
        "$$J_{Y|X} = \\dfrac{I(X,Y)}{H(X)}\\cdot 100\\% = \\dfrac{0.005}{0.1}\\cdot 100\\% = 0.5\\% $$\n",
        "$$J = \\dfrac{2\\cdot I(X,Y)}{H(X) + H(Y)} \\approx 0.6\\% $$"
      ],
      "metadata": {
        "id": "j2TaujTqI0nT"
      }
    },
    {
      "cell_type": "markdown",
      "source": [
        "### 3. Для повторных наблюдений применить критерии Мак-Немара и Кохрена."
      ],
      "metadata": {
        "id": "8hsMxQBnI0nU"
      }
    },
    {
      "cell_type": "code",
      "source": [
        "mcnemar.test(df)"
      ],
      "metadata": {
        "colab": {
          "base_uri": "https://localhost:8080/",
          "height": 104
        },
        "id": "iiP3jKRiLqer",
        "outputId": "ba36c580-793c-4b30-ceaf-10c34f2ffa05"
      },
      "execution_count": null,
      "outputs": [
        {
          "output_type": "display_data",
          "data": {
            "text/plain": [
              "\n",
              "\tMcNemar's Chi-squared test with continuity correction\n",
              "\n",
              "data:  df\n",
              "McNemar's chi-squared = 16.531, df = 1, p-value = 4.785e-05\n"
            ]
          },
          "metadata": {}
        }
      ]
    },
    {
      "cell_type": "code",
      "source": [
        "CochranQTest(df)"
      ],
      "metadata": {
        "colab": {
          "base_uri": "https://localhost:8080/",
          "height": 104
        },
        "id": "QjJOrts9PRFs",
        "outputId": "23181f20-6efc-459f-9d49-d8be7089ee28"
      },
      "execution_count": null,
      "outputs": [
        {
          "output_type": "display_data",
          "data": {
            "text/plain": [
              "\n",
              "\tCochran's Q test\n",
              "\n",
              "data:  y\n",
              "Q = 2, df = 1, p-value = 0.1573\n"
            ]
          },
          "metadata": {}
        }
      ]
    },
    {
      "cell_type": "code",
      "source": [
        "install.packages(\"nonpar\")\n",
        "library(nonpar)"
      ],
      "metadata": {
        "colab": {
          "base_uri": "https://localhost:8080/"
        },
        "id": "FU-wwI9wQhq_",
        "outputId": "638b4bef-91ae-41f2-fe82-3e1799f3e0d8"
      },
      "execution_count": null,
      "outputs": [
        {
          "output_type": "stream",
          "name": "stderr",
          "text": [
            "Installing package into ‘/usr/local/lib/R/site-library’\n",
            "(as ‘lib’ is unspecified)\n",
            "\n"
          ]
        }
      ]
    },
    {
      "cell_type": "code",
      "source": [
        "cochrans.q(df)"
      ],
      "metadata": {
        "colab": {
          "base_uri": "https://localhost:8080/",
          "height": 260
        },
        "id": "Mw7iiwMAQn-r",
        "outputId": "6f142efa-54eb-4bfe-aa87-7534fc11056e"
      },
      "execution_count": null,
      "outputs": [
        {
          "output_type": "display_data",
          "data": {
            "text/plain": [
              "\n",
              " Cochran's Q Test \n",
              " \n",
              " H0: There is no difference in the effectiveness of treatments. \n",
              " HA: There is a difference in the effectiveness of treatments. \n",
              " \n",
              " Q = -1.05882352941176 \n",
              " \n",
              " Degrees of Freedom = 1 \n",
              " \n",
              " Significance Level = 0.05 \n",
              " The p-value is  1 \n",
              "  \n",
              " "
            ]
          },
          "metadata": {}
        }
      ]
    }
  ]
}
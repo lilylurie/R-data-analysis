{
  "nbformat": 4,
  "nbformat_minor": 0,
  "metadata": {
    "colab": {
      "provenance": []
    },
    "kernelspec": {
      "name": "ir",
      "display_name": "R"
    },
    "language_info": {
      "name": "R"
    }
  },
  "cells": [
    {
      "cell_type": "code",
      "execution_count": null,
      "metadata": {
        "colab": {
          "base_uri": "https://localhost:8080/",
          "height": 306
        },
        "id": "JbmdXZWRvwKE",
        "outputId": "8ebcee1a-4b60-4a04-beff-9f28e8fb88a2"
      },
      "outputs": [
        {
          "output_type": "display_data",
          "data": {
            "text/html": [
              "<table class=\"dataframe\">\n",
              "<caption>A data.frame: 6 × 27</caption>\n",
              "<thead>\n",
              "\t<tr><th></th><th scope=col>prcod</th><th scope=col>intpla</th><th scope=col>sex</th><th scope=col>age</th><th scope=col>educat</th><th scope=col>curwor</th><th scope=col>asi1_med</th><th scope=col>asi2_emp</th><th scope=col>asi3_alc</th><th scope=col>asi4_dr</th><th scope=col>⋯</th><th scope=col>ha</th><th scope=col>se</th><th scope=col>cravin</th><th scope=col>rabdru</th><th scope=col>rubsex</th><th scope=col>gaf</th><th scope=col>bdi</th><th scope=col>sstati</th><th scope=col>end</th><th scope=col>endpo</th></tr>\n",
              "\t<tr><th></th><th scope=col>&lt;int&gt;</th><th scope=col>&lt;int&gt;</th><th scope=col>&lt;int&gt;</th><th scope=col>&lt;int&gt;</th><th scope=col>&lt;int&gt;</th><th scope=col>&lt;int&gt;</th><th scope=col>&lt;dbl&gt;</th><th scope=col>&lt;dbl&gt;</th><th scope=col>&lt;dbl&gt;</th><th scope=col>&lt;dbl&gt;</th><th scope=col>⋯</th><th scope=col>&lt;int&gt;</th><th scope=col>&lt;int&gt;</th><th scope=col>&lt;dbl&gt;</th><th scope=col>&lt;dbl&gt;</th><th scope=col>&lt;int&gt;</th><th scope=col>&lt;int&gt;</th><th scope=col>&lt;int&gt;</th><th scope=col>&lt;int&gt;</th><th scope=col>&lt;int&gt;</th><th scope=col>&lt;int&gt;</th></tr>\n",
              "</thead>\n",
              "<tbody>\n",
              "\t<tr><th scope=row>1</th><td>4</td><td>1</td><td>0</td><td>18</td><td>1</td><td>1</td><td>0.19</td><td>0.70</td><td>0.120</td><td>0.30</td><td>⋯</td><td>1</td><td>0</td><td> 4.6</td><td> 1</td><td>4</td><td>55</td><td>25</td><td>60</td><td>0</td><td>5</td></tr>\n",
              "\t<tr><th scope=row>2</th><td>2</td><td>2</td><td>1</td><td>30</td><td>4</td><td>1</td><td>0.44</td><td>0.23</td><td>0.006</td><td>0.27</td><td>⋯</td><td>0</td><td>0</td><td> 9.7</td><td> 4</td><td>5</td><td>55</td><td>39</td><td>50</td><td>0</td><td>5</td></tr>\n",
              "\t<tr><th scope=row>3</th><td>2</td><td>1</td><td>0</td><td>23</td><td>2</td><td>0</td><td>0.50</td><td>1.00</td><td>0.300</td><td>0.30</td><td>⋯</td><td>0</td><td>0</td><td> 9.5</td><td> 6</td><td>1</td><td>45</td><td>29</td><td>55</td><td>0</td><td>2</td></tr>\n",
              "\t<tr><th scope=row>4</th><td>4</td><td>1</td><td>0</td><td>20</td><td>2</td><td>1</td><td>0.00</td><td>0.80</td><td>0.050</td><td>0.26</td><td>⋯</td><td>1</td><td>0</td><td> 2.7</td><td>11</td><td>4</td><td>40</td><td>28</td><td>58</td><td>0</td><td>5</td></tr>\n",
              "\t<tr><th scope=row>5</th><td>3</td><td>2</td><td>0</td><td>20</td><td>2</td><td>0</td><td>0.00</td><td>0.75</td><td>0.780</td><td>0.23</td><td>⋯</td><td>0</td><td>0</td><td> 3.0</td><td>19</td><td>4</td><td>40</td><td>28</td><td>58</td><td>0</td><td>2</td></tr>\n",
              "\t<tr><th scope=row>6</th><td>1</td><td>1</td><td>0</td><td>24</td><td>2</td><td>0</td><td>0.52</td><td>0.50</td><td>0.100</td><td>0.30</td><td>⋯</td><td>0</td><td>0</td><td>10.0</td><td> 3</td><td>2</td><td>41</td><td>33</td><td>68</td><td>0</td><td>2</td></tr>\n",
              "</tbody>\n",
              "</table>\n"
            ],
            "text/markdown": "\nA data.frame: 6 × 27\n\n| <!--/--> | prcod &lt;int&gt; | intpla &lt;int&gt; | sex &lt;int&gt; | age &lt;int&gt; | educat &lt;int&gt; | curwor &lt;int&gt; | asi1_med &lt;dbl&gt; | asi2_emp &lt;dbl&gt; | asi3_alc &lt;dbl&gt; | asi4_dr &lt;dbl&gt; | ⋯ ⋯ | ha &lt;int&gt; | se &lt;int&gt; | cravin &lt;dbl&gt; | rabdru &lt;dbl&gt; | rubsex &lt;int&gt; | gaf &lt;int&gt; | bdi &lt;int&gt; | sstati &lt;int&gt; | end &lt;int&gt; | endpo &lt;int&gt; |\n|---|---|---|---|---|---|---|---|---|---|---|---|---|---|---|---|---|---|---|---|---|---|\n| 1 | 4 | 1 | 0 | 18 | 1 | 1 | 0.19 | 0.70 | 0.120 | 0.30 | ⋯ | 1 | 0 |  4.6 |  1 | 4 | 55 | 25 | 60 | 0 | 5 |\n| 2 | 2 | 2 | 1 | 30 | 4 | 1 | 0.44 | 0.23 | 0.006 | 0.27 | ⋯ | 0 | 0 |  9.7 |  4 | 5 | 55 | 39 | 50 | 0 | 5 |\n| 3 | 2 | 1 | 0 | 23 | 2 | 0 | 0.50 | 1.00 | 0.300 | 0.30 | ⋯ | 0 | 0 |  9.5 |  6 | 1 | 45 | 29 | 55 | 0 | 2 |\n| 4 | 4 | 1 | 0 | 20 | 2 | 1 | 0.00 | 0.80 | 0.050 | 0.26 | ⋯ | 1 | 0 |  2.7 | 11 | 4 | 40 | 28 | 58 | 0 | 5 |\n| 5 | 3 | 2 | 0 | 20 | 2 | 0 | 0.00 | 0.75 | 0.780 | 0.23 | ⋯ | 0 | 0 |  3.0 | 19 | 4 | 40 | 28 | 58 | 0 | 2 |\n| 6 | 1 | 1 | 0 | 24 | 2 | 0 | 0.52 | 0.50 | 0.100 | 0.30 | ⋯ | 0 | 0 | 10.0 |  3 | 2 | 41 | 33 | 68 | 0 | 2 |\n\n",
            "text/latex": "A data.frame: 6 × 27\n\\begin{tabular}{r|lllllllllllllllllllll}\n  & prcod & intpla & sex & age & educat & curwor & asi1\\_med & asi2\\_emp & asi3\\_alc & asi4\\_dr & ⋯ & ha & se & cravin & rabdru & rubsex & gaf & bdi & sstati & end & endpo\\\\\n  & <int> & <int> & <int> & <int> & <int> & <int> & <dbl> & <dbl> & <dbl> & <dbl> & ⋯ & <int> & <int> & <dbl> & <dbl> & <int> & <int> & <int> & <int> & <int> & <int>\\\\\n\\hline\n\t1 & 4 & 1 & 0 & 18 & 1 & 1 & 0.19 & 0.70 & 0.120 & 0.30 & ⋯ & 1 & 0 &  4.6 &  1 & 4 & 55 & 25 & 60 & 0 & 5\\\\\n\t2 & 2 & 2 & 1 & 30 & 4 & 1 & 0.44 & 0.23 & 0.006 & 0.27 & ⋯ & 0 & 0 &  9.7 &  4 & 5 & 55 & 39 & 50 & 0 & 5\\\\\n\t3 & 2 & 1 & 0 & 23 & 2 & 0 & 0.50 & 1.00 & 0.300 & 0.30 & ⋯ & 0 & 0 &  9.5 &  6 & 1 & 45 & 29 & 55 & 0 & 2\\\\\n\t4 & 4 & 1 & 0 & 20 & 2 & 1 & 0.00 & 0.80 & 0.050 & 0.26 & ⋯ & 1 & 0 &  2.7 & 11 & 4 & 40 & 28 & 58 & 0 & 5\\\\\n\t5 & 3 & 2 & 0 & 20 & 2 & 0 & 0.00 & 0.75 & 0.780 & 0.23 & ⋯ & 0 & 0 &  3.0 & 19 & 4 & 40 & 28 & 58 & 0 & 2\\\\\n\t6 & 1 & 1 & 0 & 24 & 2 & 0 & 0.52 & 0.50 & 0.100 & 0.30 & ⋯ & 0 & 0 & 10.0 &  3 & 2 & 41 & 33 & 68 & 0 & 2\\\\\n\\end{tabular}\n",
            "text/plain": [
              "  prcod intpla sex age educat curwor asi1_med asi2_emp asi3_alc asi4_dr ⋯ ha se\n",
              "1 4     1      0   18  1      1      0.19     0.70     0.120    0.30    ⋯ 1  0 \n",
              "2 2     2      1   30  4      1      0.44     0.23     0.006    0.27    ⋯ 0  0 \n",
              "3 2     1      0   23  2      0      0.50     1.00     0.300    0.30    ⋯ 0  0 \n",
              "4 4     1      0   20  2      1      0.00     0.80     0.050    0.26    ⋯ 1  0 \n",
              "5 3     2      0   20  2      0      0.00     0.75     0.780    0.23    ⋯ 0  0 \n",
              "6 1     1      0   24  2      0      0.52     0.50     0.100    0.30    ⋯ 0  0 \n",
              "  cravin rabdru rubsex gaf bdi sstati end endpo\n",
              "1  4.6    1     4      55  25  60     0   5    \n",
              "2  9.7    4     5      55  39  50     0   5    \n",
              "3  9.5    6     1      45  29  55     0   2    \n",
              "4  2.7   11     4      40  28  58     0   5    \n",
              "5  3.0   19     4      40  28  58     0   2    \n",
              "6 10.0    3     2      41  33  68     0   2    "
            ]
          },
          "metadata": {}
        }
      ],
      "source": [
        "df <- read.csv(\"/content/addicts.txt\", sep = \"\\t\")\n",
        "head(df)"
      ]
    },
    {
      "cell_type": "markdown",
      "source": [
        "Модель двухфакторного дисперсионного анализа"
      ],
      "metadata": {
        "id": "T1PY5-crymtQ"
      }
    },
    {
      "cell_type": "code",
      "source": [
        "model <- aov(bdi ~ curwor * st, data = df)\n",
        "summary(model)"
      ],
      "metadata": {
        "colab": {
          "base_uri": "https://localhost:8080/",
          "height": 156
        },
        "id": "foeUtCMAx4yc",
        "outputId": "178f398a-d222-448d-deed-3adcf2b56bc8"
      },
      "execution_count": null,
      "outputs": [
        {
          "output_type": "display_data",
          "data": {
            "text/plain": [
              "             Df Sum Sq Mean Sq F value Pr(>F)  \n",
              "curwor        1    336   335.8   4.414 0.0366 *\n",
              "st            1    112   112.1   1.474 0.2257  \n",
              "curwor:st     1      5     5.5   0.072 0.7891  \n",
              "Residuals   273  20765    76.1                 \n",
              "---\n",
              "Signif. codes:  0 ‘***’ 0.001 ‘**’ 0.01 ‘*’ 0.05 ‘.’ 0.1 ‘ ’ 1\n",
              "3 observations deleted due to missingness"
            ]
          },
          "metadata": {}
        }
      ]
    },
    {
      "cell_type": "markdown",
      "source": [
        "Значим эффект первого фактора. Эффект второго фактора и эффект взаимодействия не значимы.\n",
        "\n"
      ],
      "metadata": {
        "id": "qbnbRIANy5H5"
      }
    },
    {
      "cell_type": "code",
      "source": [
        "install.packages(\"psych\")\n",
        "library(psych)"
      ],
      "metadata": {
        "colab": {
          "base_uri": "https://localhost:8080/"
        },
        "id": "KPZgucLbzY_T",
        "outputId": "92547ec0-9d14-4431-f518-bcb5d5d77fc9"
      },
      "execution_count": null,
      "outputs": [
        {
          "output_type": "stream",
          "name": "stderr",
          "text": [
            "Installing package into ‘/usr/local/lib/R/site-library’\n",
            "(as ‘lib’ is unspecified)\n",
            "\n",
            "also installing the dependencies ‘mnormt’, ‘GPArotation’\n",
            "\n",
            "\n"
          ]
        }
      ]
    },
    {
      "cell_type": "markdown",
      "source": [
        "Статистики по категориям, объединяющим значения двух факторов"
      ],
      "metadata": {
        "id": "F1PmZL2vz0pX"
      }
    },
    {
      "cell_type": "code",
      "source": [
        "describeBy(bdi ~ curwor + st, data = df, mat=TRUE, fast=TRUE)"
      ],
      "metadata": {
        "colab": {
          "base_uri": "https://localhost:8080/",
          "height": 244
        },
        "id": "FGDozPhAzBJ8",
        "outputId": "0faa112f-dad2-4641-d86f-b51bf1d8367a"
      },
      "execution_count": null,
      "outputs": [
        {
          "output_type": "display_data",
          "data": {
            "text/html": [
              "<table class=\"dataframe\">\n",
              "<caption>A data.frame: 4 × 14</caption>\n",
              "<thead>\n",
              "\t<tr><th></th><th scope=col>item</th><th scope=col>group1</th><th scope=col>group2</th><th scope=col>vars</th><th scope=col>n</th><th scope=col>mean</th><th scope=col>sd</th><th scope=col>median</th><th scope=col>min</th><th scope=col>max</th><th scope=col>range</th><th scope=col>skew</th><th scope=col>kurtosis</th><th scope=col>se</th></tr>\n",
              "\t<tr><th></th><th scope=col>&lt;chr&gt;</th><th scope=col>&lt;chr&gt;</th><th scope=col>&lt;chr&gt;</th><th scope=col>&lt;dbl&gt;</th><th scope=col>&lt;dbl&gt;</th><th scope=col>&lt;dbl&gt;</th><th scope=col>&lt;dbl&gt;</th><th scope=col>&lt;dbl&gt;</th><th scope=col>&lt;dbl&gt;</th><th scope=col>&lt;dbl&gt;</th><th scope=col>&lt;dbl&gt;</th><th scope=col>&lt;dbl&gt;</th><th scope=col>&lt;dbl&gt;</th><th scope=col>&lt;dbl&gt;</th></tr>\n",
              "</thead>\n",
              "<tbody>\n",
              "\t<tr><th scope=row>bdi1</th><td>1</td><td>0</td><td>0</td><td>1</td><td>172</td><td>21.91279</td><td> 8.752507</td><td>21</td><td>3</td><td>48</td><td>45</td><td>0.19118348</td><td>-0.2029379</td><td>0.6673724</td></tr>\n",
              "\t<tr><th scope=row>bdi2</th><td>2</td><td>1</td><td>0</td><td>1</td><td> 72</td><td>19.34722</td><td> 7.825850</td><td>20</td><td>2</td><td>39</td><td>37</td><td>0.06237539</td><td>-0.2850493</td><td>0.9222853</td></tr>\n",
              "\t<tr><th scope=row>bdi3</th><td>3</td><td>0</td><td>1</td><td>1</td><td> 29</td><td>20.10345</td><td>10.519862</td><td>20</td><td>2</td><td>40</td><td>38</td><td>0.17988587</td><td>-0.8922550</td><td>1.9534893</td></tr>\n",
              "\t<tr><th scope=row>bdi4</th><td>4</td><td>1</td><td>1</td><td>1</td><td>  4</td><td>16.25000</td><td> 8.539126</td><td>15</td><td>8</td><td>27</td><td>19</td><td>0.22359265</td><td>-2.1158246</td><td>4.2695628</td></tr>\n",
              "</tbody>\n",
              "</table>\n"
            ],
            "text/markdown": "\nA data.frame: 4 × 14\n\n| <!--/--> | item &lt;chr&gt; | group1 &lt;chr&gt; | group2 &lt;chr&gt; | vars &lt;dbl&gt; | n &lt;dbl&gt; | mean &lt;dbl&gt; | sd &lt;dbl&gt; | median &lt;dbl&gt; | min &lt;dbl&gt; | max &lt;dbl&gt; | range &lt;dbl&gt; | skew &lt;dbl&gt; | kurtosis &lt;dbl&gt; | se &lt;dbl&gt; |\n|---|---|---|---|---|---|---|---|---|---|---|---|---|---|---|\n| bdi1 | 1 | 0 | 0 | 1 | 172 | 21.91279 |  8.752507 | 21 | 3 | 48 | 45 | 0.19118348 | -0.2029379 | 0.6673724 |\n| bdi2 | 2 | 1 | 0 | 1 |  72 | 19.34722 |  7.825850 | 20 | 2 | 39 | 37 | 0.06237539 | -0.2850493 | 0.9222853 |\n| bdi3 | 3 | 0 | 1 | 1 |  29 | 20.10345 | 10.519862 | 20 | 2 | 40 | 38 | 0.17988587 | -0.8922550 | 1.9534893 |\n| bdi4 | 4 | 1 | 1 | 1 |   4 | 16.25000 |  8.539126 | 15 | 8 | 27 | 19 | 0.22359265 | -2.1158246 | 4.2695628 |\n\n",
            "text/latex": "A data.frame: 4 × 14\n\\begin{tabular}{r|llllllllllllll}\n  & item & group1 & group2 & vars & n & mean & sd & median & min & max & range & skew & kurtosis & se\\\\\n  & <chr> & <chr> & <chr> & <dbl> & <dbl> & <dbl> & <dbl> & <dbl> & <dbl> & <dbl> & <dbl> & <dbl> & <dbl> & <dbl>\\\\\n\\hline\n\tbdi1 & 1 & 0 & 0 & 1 & 172 & 21.91279 &  8.752507 & 21 & 3 & 48 & 45 & 0.19118348 & -0.2029379 & 0.6673724\\\\\n\tbdi2 & 2 & 1 & 0 & 1 &  72 & 19.34722 &  7.825850 & 20 & 2 & 39 & 37 & 0.06237539 & -0.2850493 & 0.9222853\\\\\n\tbdi3 & 3 & 0 & 1 & 1 &  29 & 20.10345 & 10.519862 & 20 & 2 & 40 & 38 & 0.17988587 & -0.8922550 & 1.9534893\\\\\n\tbdi4 & 4 & 1 & 1 & 1 &   4 & 16.25000 &  8.539126 & 15 & 8 & 27 & 19 & 0.22359265 & -2.1158246 & 4.2695628\\\\\n\\end{tabular}\n",
            "text/plain": [
              "     item group1 group2 vars n   mean     sd        median min max range\n",
              "bdi1 1    0      0      1    172 21.91279  8.752507 21     3   48  45   \n",
              "bdi2 2    1      0      1     72 19.34722  7.825850 20     2   39  37   \n",
              "bdi3 3    0      1      1     29 20.10345 10.519862 20     2   40  38   \n",
              "bdi4 4    1      1      1      4 16.25000  8.539126 15     8   27  19   \n",
              "     skew       kurtosis   se       \n",
              "bdi1 0.19118348 -0.2029379 0.6673724\n",
              "bdi2 0.06237539 -0.2850493 0.9222853\n",
              "bdi3 0.17988587 -0.8922550 1.9534893\n",
              "bdi4 0.22359265 -2.1158246 4.2695628"
            ]
          },
          "metadata": {}
        }
      ]
    },
    {
      "cell_type": "markdown",
      "source": [
        "Визуализируем"
      ],
      "metadata": {
        "id": "KZqhrUvl0Da9"
      }
    },
    {
      "cell_type": "code",
      "source": [
        "error.bars.by(bdi ~ curwor + st, data = df, eyes = F, legend = 1)"
      ],
      "metadata": {
        "colab": {
          "base_uri": "https://localhost:8080/",
          "height": 437
        },
        "id": "-88zF4TW0LhJ",
        "outputId": "9220789c-9c5b-454c-f53c-87eff45da31f"
      },
      "execution_count": null,
      "outputs": [
        {
          "output_type": "display_data",
          "data": {
            "text/plain": [
              "Plot with title “95% confidence limits”"
            ],
            "image/png": "[encoded data removed]"
          },
          "metadata": {
            "image/png": {
              "width": 420,
              "height": 420
            }
          }
        }
      ]
    },
    {
      "cell_type": "markdown",
      "source": [
        "# Дисперсионный анализ для повторяющихся наблюдений\n"
      ],
      "metadata": {
        "id": "J-MWT2c3LLbh"
      }
    },
    {
      "cell_type": "code",
      "source": [
        "df <- read.csv(\"/content/data_ARM.csv\")\n",
        "df <- na.omit(df)\n",
        "head(df)"
      ],
      "metadata": {
        "colab": {
          "base_uri": "https://localhost:8080/",
          "height": 286
        },
        "id": "Yki6y6BbLQ7B",
        "outputId": "3a30dbd8-6c95-46c9-d2b1-77a5bc8e2c0e"
      },
      "execution_count": null,
      "outputs": [
        {
          "output_type": "display_data",
          "data": {
            "text/html": [
              "<table class=\"dataframe\">\n",
              "<caption>A data.frame: 6 × 6</caption>\n",
              "<thead>\n",
              "\t<tr><th></th><th scope=col>X</th><th scope=col>PRCOD.1</th><th scope=col>SEX.1</th><th scope=col>SSTATA.1</th><th scope=col>SSTATA.2</th><th scope=col>SSTATA.3</th></tr>\n",
              "\t<tr><th></th><th scope=col>&lt;int&gt;</th><th scope=col>&lt;chr&gt;</th><th scope=col>&lt;chr&gt;</th><th scope=col>&lt;int&gt;</th><th scope=col>&lt;int&gt;</th><th scope=col>&lt;dbl&gt;</th></tr>\n",
              "</thead>\n",
              "<tbody>\n",
              "\t<tr><th scope=row>2</th><td>2</td><td>Placebo+Framex</td><td>male  </td><td>39</td><td>43</td><td>40</td></tr>\n",
              "\t<tr><th scope=row>3</th><td>3</td><td>NLTX+Framex   </td><td>female</td><td>48</td><td>51</td><td>48</td></tr>\n",
              "\t<tr><th scope=row>4</th><td>4</td><td>Placebo+Framex</td><td>male  </td><td>51</td><td>50</td><td>42</td></tr>\n",
              "\t<tr><th scope=row>5</th><td>5</td><td>NLTX+Placebo  </td><td>male  </td><td>21</td><td>23</td><td>22</td></tr>\n",
              "\t<tr><th scope=row>6</th><td>6</td><td>NLTX+Framex   </td><td>female</td><td>54</td><td>30</td><td>35</td></tr>\n",
              "\t<tr><th scope=row>7</th><td>7</td><td>NLTX+Framex   </td><td>male  </td><td>35</td><td>23</td><td>26</td></tr>\n",
              "</tbody>\n",
              "</table>\n"
            ],
            "text/markdown": "\nA data.frame: 6 × 6\n\n| <!--/--> | X &lt;int&gt; | PRCOD.1 &lt;chr&gt; | SEX.1 &lt;chr&gt; | SSTATA.1 &lt;int&gt; | SSTATA.2 &lt;int&gt; | SSTATA.3 &lt;dbl&gt; |\n|---|---|---|---|---|---|---|\n| 2 | 2 | Placebo+Framex | male   | 39 | 43 | 40 |\n| 3 | 3 | NLTX+Framex    | female | 48 | 51 | 48 |\n| 4 | 4 | Placebo+Framex | male   | 51 | 50 | 42 |\n| 5 | 5 | NLTX+Placebo   | male   | 21 | 23 | 22 |\n| 6 | 6 | NLTX+Framex    | female | 54 | 30 | 35 |\n| 7 | 7 | NLTX+Framex    | male   | 35 | 23 | 26 |\n\n",
            "text/latex": "A data.frame: 6 × 6\n\\begin{tabular}{r|llllll}\n  & X & PRCOD.1 & SEX.1 & SSTATA.1 & SSTATA.2 & SSTATA.3\\\\\n  & <int> & <chr> & <chr> & <int> & <int> & <dbl>\\\\\n\\hline\n\t2 & 2 & Placebo+Framex & male   & 39 & 43 & 40\\\\\n\t3 & 3 & NLTX+Framex    & female & 48 & 51 & 48\\\\\n\t4 & 4 & Placebo+Framex & male   & 51 & 50 & 42\\\\\n\t5 & 5 & NLTX+Placebo   & male   & 21 & 23 & 22\\\\\n\t6 & 6 & NLTX+Framex    & female & 54 & 30 & 35\\\\\n\t7 & 7 & NLTX+Framex    & male   & 35 & 23 & 26\\\\\n\\end{tabular}\n",
            "text/plain": [
              "  X PRCOD.1        SEX.1  SSTATA.1 SSTATA.2 SSTATA.3\n",
              "2 2 Placebo+Framex male   39       43       40      \n",
              "3 3 NLTX+Framex    female 48       51       48      \n",
              "4 4 Placebo+Framex male   51       50       42      \n",
              "5 5 NLTX+Placebo   male   21       23       22      \n",
              "6 6 NLTX+Framex    female 54       30       35      \n",
              "7 7 NLTX+Framex    male   35       23       26      "
            ]
          },
          "metadata": {}
        }
      ]
    },
    {
      "cell_type": "markdown",
      "source": [
        "Выделим подгруппу с типом лечения `Placebo+Framex`."
      ],
      "metadata": {
        "id": "9b8wd8wtLoEi"
      }
    },
    {
      "cell_type": "code",
      "source": [
        "df <- df[df[, \"PRCOD.1\"] == \"Placebo+Framex\",]\n",
        "head(df)"
      ],
      "metadata": {
        "colab": {
          "base_uri": "https://localhost:8080/",
          "height": 286
        },
        "id": "GmqlA6n5Lw3R",
        "outputId": "18248b1c-d87a-49f4-c724-bebbc81205de"
      },
      "execution_count": null,
      "outputs": [
        {
          "output_type": "display_data",
          "data": {
            "text/html": [
              "<table class=\"dataframe\">\n",
              "<caption>A data.frame: 6 × 6</caption>\n",
              "<thead>\n",
              "\t<tr><th></th><th scope=col>X</th><th scope=col>PRCOD.1</th><th scope=col>SEX.1</th><th scope=col>SSTATA.1</th><th scope=col>SSTATA.2</th><th scope=col>SSTATA.3</th></tr>\n",
              "\t<tr><th></th><th scope=col>&lt;int&gt;</th><th scope=col>&lt;chr&gt;</th><th scope=col>&lt;chr&gt;</th><th scope=col>&lt;int&gt;</th><th scope=col>&lt;int&gt;</th><th scope=col>&lt;dbl&gt;</th></tr>\n",
              "</thead>\n",
              "<tbody>\n",
              "\t<tr><th scope=row>2</th><td> 2</td><td>Placebo+Framex</td><td>male  </td><td>39</td><td>43</td><td>40</td></tr>\n",
              "\t<tr><th scope=row>4</th><td> 4</td><td>Placebo+Framex</td><td>male  </td><td>51</td><td>50</td><td>42</td></tr>\n",
              "\t<tr><th scope=row>8</th><td> 8</td><td>Placebo+Framex</td><td>male  </td><td>32</td><td>46</td><td>31</td></tr>\n",
              "\t<tr><th scope=row>13</th><td>13</td><td>Placebo+Framex</td><td>female</td><td>43</td><td>37</td><td>41</td></tr>\n",
              "\t<tr><th scope=row>16</th><td>16</td><td>Placebo+Framex</td><td>male  </td><td>65</td><td>56</td><td>52</td></tr>\n",
              "\t<tr><th scope=row>25</th><td>25</td><td>Placebo+Framex</td><td>male  </td><td>58</td><td>23</td><td>21</td></tr>\n",
              "</tbody>\n",
              "</table>\n"
            ],
            "text/markdown": "\nA data.frame: 6 × 6\n\n| <!--/--> | X &lt;int&gt; | PRCOD.1 &lt;chr&gt; | SEX.1 &lt;chr&gt; | SSTATA.1 &lt;int&gt; | SSTATA.2 &lt;int&gt; | SSTATA.3 &lt;dbl&gt; |\n|---|---|---|---|---|---|---|\n| 2 |  2 | Placebo+Framex | male   | 39 | 43 | 40 |\n| 4 |  4 | Placebo+Framex | male   | 51 | 50 | 42 |\n| 8 |  8 | Placebo+Framex | male   | 32 | 46 | 31 |\n| 13 | 13 | Placebo+Framex | female | 43 | 37 | 41 |\n| 16 | 16 | Placebo+Framex | male   | 65 | 56 | 52 |\n| 25 | 25 | Placebo+Framex | male   | 58 | 23 | 21 |\n\n",
            "text/latex": "A data.frame: 6 × 6\n\\begin{tabular}{r|llllll}\n  & X & PRCOD.1 & SEX.1 & SSTATA.1 & SSTATA.2 & SSTATA.3\\\\\n  & <int> & <chr> & <chr> & <int> & <int> & <dbl>\\\\\n\\hline\n\t2 &  2 & Placebo+Framex & male   & 39 & 43 & 40\\\\\n\t4 &  4 & Placebo+Framex & male   & 51 & 50 & 42\\\\\n\t8 &  8 & Placebo+Framex & male   & 32 & 46 & 31\\\\\n\t13 & 13 & Placebo+Framex & female & 43 & 37 & 41\\\\\n\t16 & 16 & Placebo+Framex & male   & 65 & 56 & 52\\\\\n\t25 & 25 & Placebo+Framex & male   & 58 & 23 & 21\\\\\n\\end{tabular}\n",
            "text/plain": [
              "   X  PRCOD.1        SEX.1  SSTATA.1 SSTATA.2 SSTATA.3\n",
              "2   2 Placebo+Framex male   39       43       40      \n",
              "4   4 Placebo+Framex male   51       50       42      \n",
              "8   8 Placebo+Framex male   32       46       31      \n",
              "13 13 Placebo+Framex female 43       37       41      \n",
              "16 16 Placebo+Framex male   65       56       52      \n",
              "25 25 Placebo+Framex male   58       23       21      "
            ]
          },
          "metadata": {}
        }
      ]
    },
    {
      "cell_type": "markdown",
      "source": [
        "Узнаем количество индивидов разных полов."
      ],
      "metadata": {
        "id": "1kJ24GWLr04D"
      }
    },
    {
      "cell_type": "code",
      "source": [
        "length(which(df$SEX.1 == \"female\"))\n",
        "length(which(df$SEX.1 == \"male\"))"
      ],
      "metadata": {
        "colab": {
          "base_uri": "https://localhost:8080/",
          "height": 52
        },
        "id": "LfFlF2VVrrPZ",
        "outputId": "9af04cbd-f04b-47a3-df5b-36a2f92464d1"
      },
      "execution_count": null,
      "outputs": [
        {
          "output_type": "display_data",
          "data": {
            "text/html": [
              "8"
            ],
            "text/markdown": "8",
            "text/latex": "8",
            "text/plain": [
              "[1] 8"
            ]
          },
          "metadata": {}
        },
        {
          "output_type": "display_data",
          "data": {
            "text/html": [
              "26"
            ],
            "text/markdown": "26",
            "text/latex": "26",
            "text/plain": [
              "[1] 26"
            ]
          },
          "metadata": {}
        }
      ]
    },
    {
      "cell_type": "markdown",
      "source": [
        "Объединим различные измерения SSTATA в одну переменную."
      ],
      "metadata": {
        "id": "SSgR4iZ9sDn2"
      }
    },
    {
      "cell_type": "code",
      "source": [
        "df_new <- data.frame(stack(df[, 4:6]),\n",
        "              X = as.factor(rep(df$X, 3)),\n",
        "              SEX = as.factor(rep(df$SEX.1, 3)))\n",
        "head(df_new)"
      ],
      "metadata": {
        "colab": {
          "base_uri": "https://localhost:8080/",
          "height": 286
        },
        "id": "NWjRAW9uYNTp",
        "outputId": "a8d4385f-6329-4a76-b102-e04afaf7d6f5"
      },
      "execution_count": null,
      "outputs": [
        {
          "output_type": "display_data",
          "data": {
            "text/html": [
              "<table class=\"dataframe\">\n",
              "<caption>A data.frame: 6 × 4</caption>\n",
              "<thead>\n",
              "\t<tr><th></th><th scope=col>values</th><th scope=col>ind</th><th scope=col>X</th><th scope=col>SEX</th></tr>\n",
              "\t<tr><th></th><th scope=col>&lt;dbl&gt;</th><th scope=col>&lt;fct&gt;</th><th scope=col>&lt;fct&gt;</th><th scope=col>&lt;fct&gt;</th></tr>\n",
              "</thead>\n",
              "<tbody>\n",
              "\t<tr><th scope=row>1</th><td>39</td><td>SSTATA.1</td><td>2 </td><td>male  </td></tr>\n",
              "\t<tr><th scope=row>2</th><td>51</td><td>SSTATA.1</td><td>4 </td><td>male  </td></tr>\n",
              "\t<tr><th scope=row>3</th><td>32</td><td>SSTATA.1</td><td>8 </td><td>male  </td></tr>\n",
              "\t<tr><th scope=row>4</th><td>43</td><td>SSTATA.1</td><td>13</td><td>female</td></tr>\n",
              "\t<tr><th scope=row>5</th><td>65</td><td>SSTATA.1</td><td>16</td><td>male  </td></tr>\n",
              "\t<tr><th scope=row>6</th><td>58</td><td>SSTATA.1</td><td>25</td><td>male  </td></tr>\n",
              "</tbody>\n",
              "</table>\n"
            ],
            "text/markdown": "\nA data.frame: 6 × 4\n\n| <!--/--> | values &lt;dbl&gt; | ind &lt;fct&gt; | X &lt;fct&gt; | SEX &lt;fct&gt; |\n|---|---|---|---|---|\n| 1 | 39 | SSTATA.1 | 2  | male   |\n| 2 | 51 | SSTATA.1 | 4  | male   |\n| 3 | 32 | SSTATA.1 | 8  | male   |\n| 4 | 43 | SSTATA.1 | 13 | female |\n| 5 | 65 | SSTATA.1 | 16 | male   |\n| 6 | 58 | SSTATA.1 | 25 | male   |\n\n",
            "text/latex": "A data.frame: 6 × 4\n\\begin{tabular}{r|llll}\n  & values & ind & X & SEX\\\\\n  & <dbl> & <fct> & <fct> & <fct>\\\\\n\\hline\n\t1 & 39 & SSTATA.1 & 2  & male  \\\\\n\t2 & 51 & SSTATA.1 & 4  & male  \\\\\n\t3 & 32 & SSTATA.1 & 8  & male  \\\\\n\t4 & 43 & SSTATA.1 & 13 & female\\\\\n\t5 & 65 & SSTATA.1 & 16 & male  \\\\\n\t6 & 58 & SSTATA.1 & 25 & male  \\\\\n\\end{tabular}\n",
            "text/plain": [
              "  values ind      X  SEX   \n",
              "1 39     SSTATA.1 2  male  \n",
              "2 51     SSTATA.1 4  male  \n",
              "3 32     SSTATA.1 8  male  \n",
              "4 43     SSTATA.1 13 female\n",
              "5 65     SSTATA.1 16 male  \n",
              "6 58     SSTATA.1 25 male  "
            ]
          },
          "metadata": {}
        }
      ]
    },
    {
      "cell_type": "markdown",
      "source": [
        "Для дальнейших вычислений посчитаем средние (общее и по различным группам)."
      ],
      "metadata": {
        "id": "NiI07Z_Wbqd7"
      }
    },
    {
      "cell_type": "code",
      "source": [
        "mean_all <- mean(df_new$values) # общее\n",
        "mean_sex <- tapply(X = df_new$values, INDEX = df_new$SEX, FUN = mean) # по полу\n",
        "mean_ind <- tapply(X = df_new$values, INDEX = df_new$ind, FUN = mean) # по номеру измерения\n",
        "mean_sex_ind <- tapply(X = df_new$values, INDEX = list(df_new$SEX, df_new$ind), FUN = mean) # по полу и номеру\n",
        "mean_person <- tapply(X = df_new$values, INDEX = df_new$X, FUN = mean) # по индивиду"
      ],
      "metadata": {
        "id": "xdsW8ISLZkoV"
      },
      "execution_count": null,
      "outputs": []
    },
    {
      "cell_type": "markdown",
      "source": [
        "### Источники вариации"
      ],
      "metadata": {
        "id": "lsRJ0IyBcI10"
      }
    },
    {
      "cell_type": "markdown",
      "source": [
        "Выделим номера мужчин и женщин и средние"
      ],
      "metadata": {
        "id": "fNkyY1jRdd85"
      }
    },
    {
      "cell_type": "code",
      "source": [
        "women_pos <- df_new$SEX == \"female\"\n",
        "women <- mean_person[women_pos]\n",
        "men <- mean_person[!women_pos]"
      ],
      "metadata": {
        "id": "A1Cem9WGdcso"
      },
      "execution_count": null,
      "outputs": []
    },
    {
      "cell_type": "code",
      "source": [
        "Q <- (df_new$values - mean_all) %*% (df_new$values - mean_all) # общий\n",
        "Q_A <- 3 * (length(which(df$SEX.1 == \"female\")) * (mean_sex[1] - mean_all)^2 + length(which(df$SEX.1 == \"male\"))*(mean_sex[2] - mean_all)^2)\n",
        "Q_1e <- 3 * ((women[!is.na(women)] - mean_sex[1]) %*% (women[!is.na(women)] - mean_sex[1]) + (men[!is.na(men)] - mean_sex[2]) %*% (men[!is.na(men)] - mean_sex[2]))\n",
        "Q_1 <- Q_1e + Q_A\n",
        "Q_C <- length(df$X) * (mean_ind - mean_all) %*% (mean_ind - mean_all)\n",
        "Q_AC <- length(which(df$SEX.1 == \"female\")) * (mean_sex_ind[1,] - mean_sex[1] - mean_ind + mean_all) %*% (mean_sex_ind[1,] - mean_sex[1] - mean_ind + mean_all) + length(which(df$SEX.1 == \"male\")) * (mean_sex_ind[2,] - mean_sex[2] - mean_ind + mean_all) %*% (mean_sex_ind[2,] - mean_sex[2] - mean_ind + mean_all)\n",
        "Q_2 <- Q - Q_1\n",
        "Q_err <- Q_2 - Q_C - Q_AC"
      ],
      "metadata": {
        "colab": {
          "base_uri": "https://localhost:8080/",
          "height": 100
        },
        "id": "51ULhQcjektk",
        "outputId": "07a5c6f0-6d97-49c1-bdb8-436f71295924"
      },
      "execution_count": null,
      "outputs": [
        {
          "output_type": "display_data",
          "data": {
            "text/html": [
              "<table class=\"dataframe\">\n",
              "<caption>A matrix: 1 × 1 of type dbl</caption>\n",
              "<tbody>\n",
              "\t<tr><td>2605.113</td></tr>\n",
              "</tbody>\n",
              "</table>\n"
            ],
            "text/markdown": "\nA matrix: 1 × 1 of type dbl\n\n| 2605.113 |\n\n",
            "text/latex": "A matrix: 1 × 1 of type dbl\n\\begin{tabular}{l}\n\t 2605.113\\\\\n\\end{tabular}\n",
            "text/plain": [
              "     [,1]    \n",
              "[1,] 2605.113"
            ]
          },
          "metadata": {}
        }
      ]
    },
    {
      "cell_type": "markdown",
      "source": [
        "Степени свободы"
      ],
      "metadata": {
        "id": "l908YWc_fr76"
      }
    },
    {
      "cell_type": "code",
      "source": [
        "nu_1 <- length(df$X) - 1 # n-1\n",
        "nu_A <- 2-1 # число различных полов - 1\n",
        "nu_1e <- length(df$X) - 2 # n - значений фактора пола\n",
        "nu_C <- 3 - 1 # число измерений во времени - 1\n",
        "nu_AC <- (3 - 1) * (2 - 1)\n",
        "nu_err <- (3 - 1) * (length(df$X) - 2)"
      ],
      "metadata": {
        "id": "r6jk23iGfuFq"
      },
      "execution_count": null,
      "outputs": []
    },
    {
      "cell_type": "markdown",
      "source": [
        "### Проверка гипотезы, что все дифференциальные эффекты фактора пола равны нулю"
      ],
      "metadata": {
        "id": "7Bl3nR16jrl3"
      }
    },
    {
      "cell_type": "code",
      "source": [
        "MQ_A <- Q_A / nu_A\n",
        "MQ_1e <- Q_1e / nu_1e\n",
        "F_A <- MQ_A / MQ_1e\n",
        "print(\"Статистика для фактора пола:\")\n",
        "F_A\n",
        "print(\"p-value:\")\n",
        "1-pf(F_A, nu_A, nu_1e)"
      ],
      "metadata": {
        "colab": {
          "base_uri": "https://localhost:8080/",
          "height": 201
        },
        "id": "NH2Lezzxj1pI",
        "outputId": "010f994c-7c1a-4382-8ab2-3687b3b730f7"
      },
      "execution_count": null,
      "outputs": [
        {
          "output_type": "stream",
          "name": "stdout",
          "text": [
            "[1] \"Статистика для фактора пола:\"\n"
          ]
        },
        {
          "output_type": "display_data",
          "data": {
            "text/html": [
              "<table class=\"dataframe\">\n",
              "<caption>A matrix: 1 × 1 of type dbl</caption>\n",
              "<tbody>\n",
              "\t<tr><td>0.2976109</td></tr>\n",
              "</tbody>\n",
              "</table>\n"
            ],
            "text/markdown": "\nA matrix: 1 × 1 of type dbl\n\n| 0.2976109 |\n\n",
            "text/latex": "A matrix: 1 × 1 of type dbl\n\\begin{tabular}{l}\n\t 0.2976109\\\\\n\\end{tabular}\n",
            "text/plain": [
              "     [,1]     \n",
              "[1,] 0.2976109"
            ]
          },
          "metadata": {}
        },
        {
          "output_type": "stream",
          "name": "stdout",
          "text": [
            "[1] \"p-value:\"\n"
          ]
        },
        {
          "output_type": "display_data",
          "data": {
            "text/html": [
              "<table class=\"dataframe\">\n",
              "<caption>A matrix: 1 × 1 of type dbl</caption>\n",
              "<tbody>\n",
              "\t<tr><td>0.589167</td></tr>\n",
              "</tbody>\n",
              "</table>\n"
            ],
            "text/markdown": "\nA matrix: 1 × 1 of type dbl\n\n| 0.589167 |\n\n",
            "text/latex": "A matrix: 1 × 1 of type dbl\n\\begin{tabular}{l}\n\t 0.589167\\\\\n\\end{tabular}\n",
            "text/plain": [
              "     [,1]    \n",
              "[1,] 0.589167"
            ]
          },
          "metadata": {}
        }
      ]
    },
    {
      "cell_type": "markdown",
      "source": [
        "Влияние фактора пола не значимо."
      ],
      "metadata": {
        "id": "0VHhkpcqlOFK"
      }
    },
    {
      "cell_type": "markdown",
      "source": [
        "### Проверка гипотезы, что случайные эффекты фактора времени имеют нулевую дисперсию"
      ],
      "metadata": {
        "id": "r0COmFl6lTNF"
      }
    },
    {
      "cell_type": "code",
      "source": [
        "MQ_C <- Q_C / nu_C\n",
        "MQ_AC <- Q_AC / nu_AC\n",
        "F_C_r <- MQ_C / MQ_AC\n",
        "print(\"Статистика для фактора времени:\")\n",
        "F_C_r\n",
        "print(\"p-value:\")\n",
        "1-pf(F_C_r, nu_C, nu_AC)"
      ],
      "metadata": {
        "colab": {
          "base_uri": "https://localhost:8080/",
          "height": 201
        },
        "outputId": "b7536740-a64c-47e4-c137-9487696fcbf2",
        "id": "4tNbHkbalTNF"
      },
      "execution_count": null,
      "outputs": [
        {
          "output_type": "stream",
          "name": "stdout",
          "text": [
            "[1] \"Статистика для фактора времени:\"\n"
          ]
        },
        {
          "output_type": "display_data",
          "data": {
            "text/html": [
              "<table class=\"dataframe\">\n",
              "<caption>A matrix: 1 × 1 of type dbl</caption>\n",
              "<tbody>\n",
              "\t<tr><td>1.076847</td></tr>\n",
              "</tbody>\n",
              "</table>\n"
            ],
            "text/markdown": "\nA matrix: 1 × 1 of type dbl\n\n| 1.076847 |\n\n",
            "text/latex": "A matrix: 1 × 1 of type dbl\n\\begin{tabular}{l}\n\t 1.076847\\\\\n\\end{tabular}\n",
            "text/plain": [
              "     [,1]    \n",
              "[1,] 1.076847"
            ]
          },
          "metadata": {}
        },
        {
          "output_type": "stream",
          "name": "stdout",
          "text": [
            "[1] \"p-value:\"\n"
          ]
        },
        {
          "output_type": "display_data",
          "data": {
            "text/html": [
              "<table class=\"dataframe\">\n",
              "<caption>A matrix: 1 × 1 of type dbl</caption>\n",
              "<tbody>\n",
              "\t<tr><td>0.4814992</td></tr>\n",
              "</tbody>\n",
              "</table>\n"
            ],
            "text/markdown": "\nA matrix: 1 × 1 of type dbl\n\n| 0.4814992 |\n\n",
            "text/latex": "A matrix: 1 × 1 of type dbl\n\\begin{tabular}{l}\n\t 0.4814992\\\\\n\\end{tabular}\n",
            "text/plain": [
              "     [,1]     \n",
              "[1,] 0.4814992"
            ]
          },
          "metadata": {}
        }
      ]
    },
    {
      "cell_type": "markdown",
      "source": [
        "Случайные эффекты фактора времени не значимы."
      ],
      "metadata": {
        "id": "prpi_r1VlTNG"
      }
    },
    {
      "cell_type": "markdown",
      "source": [
        "### Проверка гипотезы о фиксированных эффектах фактора времени"
      ],
      "metadata": {
        "id": "OoB-hcYjmVVw"
      }
    },
    {
      "cell_type": "code",
      "source": [
        "MQ_err <- Q_err / nu_err\n",
        "F_C_f <- MQ_C / MQ_err\n",
        "print(\"Статистика для фактора времени:\")\n",
        "F_C_f\n",
        "print(\"p-value:\")\n",
        "1-pf(F_C_f, nu_C, nu_err)"
      ],
      "metadata": {
        "colab": {
          "base_uri": "https://localhost:8080/",
          "height": 201
        },
        "outputId": "b2fa54ef-3b3e-427e-a6e5-51d7eff352ef",
        "id": "l1TVqjehmVVx"
      },
      "execution_count": null,
      "outputs": [
        {
          "output_type": "stream",
          "name": "stdout",
          "text": [
            "[1] \"Статистика для фактора времени:\"\n"
          ]
        },
        {
          "output_type": "display_data",
          "data": {
            "text/html": [
              "<table class=\"dataframe\">\n",
              "<caption>A matrix: 1 × 1 of type dbl</caption>\n",
              "<tbody>\n",
              "\t<tr><td>5.419788</td></tr>\n",
              "</tbody>\n",
              "</table>\n"
            ],
            "text/markdown": "\nA matrix: 1 × 1 of type dbl\n\n| 5.419788 |\n\n",
            "text/latex": "A matrix: 1 × 1 of type dbl\n\\begin{tabular}{l}\n\t 5.419788\\\\\n\\end{tabular}\n",
            "text/plain": [
              "     [,1]    \n",
              "[1,] 5.419788"
            ]
          },
          "metadata": {}
        },
        {
          "output_type": "stream",
          "name": "stdout",
          "text": [
            "[1] \"p-value:\"\n"
          ]
        },
        {
          "output_type": "display_data",
          "data": {
            "text/html": [
              "<table class=\"dataframe\">\n",
              "<caption>A matrix: 1 × 1 of type dbl</caption>\n",
              "<tbody>\n",
              "\t<tr><td>0.006692016</td></tr>\n",
              "</tbody>\n",
              "</table>\n"
            ],
            "text/markdown": "\nA matrix: 1 × 1 of type dbl\n\n| 0.006692016 |\n\n",
            "text/latex": "A matrix: 1 × 1 of type dbl\n\\begin{tabular}{l}\n\t 0.006692016\\\\\n\\end{tabular}\n",
            "text/plain": [
              "     [,1]       \n",
              "[1,] 0.006692016"
            ]
          },
          "metadata": {}
        }
      ]
    },
    {
      "cell_type": "markdown",
      "source": [
        "Фиксированные эффекты фактора времени значимы."
      ],
      "metadata": {
        "id": "HbPUV_4emVVy"
      }
    },
    {
      "cell_type": "markdown",
      "source": [
        "### Проверка эффекта взаимодействия"
      ],
      "metadata": {
        "id": "bzl-xCMkm9Ql"
      }
    },
    {
      "cell_type": "code",
      "source": [
        "F_int <- MQ_AC / MQ_err\n",
        "print(\"Статистика для эффекта взаимодействия:\")\n",
        "F_int\n",
        "print(\"p-value:\")\n",
        "1-pf(F_int, nu_AC, nu_err)"
      ],
      "metadata": {
        "colab": {
          "base_uri": "https://localhost:8080/",
          "height": 201
        },
        "id": "HYSmvrcIm8zV",
        "outputId": "684b792a-64e6-485e-8c4a-1bb0d61d2cb7"
      },
      "execution_count": null,
      "outputs": [
        {
          "output_type": "stream",
          "name": "stdout",
          "text": [
            "[1] \"Статистика для эффекта взаимодействия:\"\n"
          ]
        },
        {
          "output_type": "display_data",
          "data": {
            "text/html": [
              "<table class=\"dataframe\">\n",
              "<caption>A matrix: 1 × 1 of type dbl</caption>\n",
              "<tbody>\n",
              "\t<tr><td>5.033017</td></tr>\n",
              "</tbody>\n",
              "</table>\n"
            ],
            "text/markdown": "\nA matrix: 1 × 1 of type dbl\n\n| 5.033017 |\n\n",
            "text/latex": "A matrix: 1 × 1 of type dbl\n\\begin{tabular}{l}\n\t 5.033017\\\\\n\\end{tabular}\n",
            "text/plain": [
              "     [,1]    \n",
              "[1,] 5.033017"
            ]
          },
          "metadata": {}
        },
        {
          "output_type": "stream",
          "name": "stdout",
          "text": [
            "[1] \"p-value:\"\n"
          ]
        },
        {
          "output_type": "display_data",
          "data": {
            "text/html": [
              "<table class=\"dataframe\">\n",
              "<caption>A matrix: 1 × 1 of type dbl</caption>\n",
              "<tbody>\n",
              "\t<tr><td>0.009331431</td></tr>\n",
              "</tbody>\n",
              "</table>\n"
            ],
            "text/markdown": "\nA matrix: 1 × 1 of type dbl\n\n| 0.009331431 |\n\n",
            "text/latex": "A matrix: 1 × 1 of type dbl\n\\begin{tabular}{l}\n\t 0.009331431\\\\\n\\end{tabular}\n",
            "text/plain": [
              "     [,1]       \n",
              "[1,] 0.009331431"
            ]
          },
          "metadata": {}
        }
      ]
    },
    {
      "cell_type": "markdown",
      "source": [
        "Влияние фактора взаимодействия значимо."
      ],
      "metadata": {
        "id": "Qk7rLB3ZnX81"
      }
    },
    {
      "cell_type": "markdown",
      "source": [
        "Построим график."
      ],
      "metadata": {
        "id": "MAnj73lPn9Qe"
      }
    },
    {
      "cell_type": "code",
      "source": [
        "interaction.plot(df_new$SEX, df_new$ind, df_new$values, col = c(\"red\", \"blue\"))"
      ],
      "metadata": {
        "colab": {
          "base_uri": "https://localhost:8080/",
          "height": 437
        },
        "id": "0FdcrOcJnkGp",
        "outputId": "a2db9920-0cde-4773-94c6-9c1d694354c9"
      },
      "execution_count": null,
      "outputs": [
        {
          "output_type": "display_data",
          "data": {
            "text/plain": [
              "plot without title"
            ],
            "image/png": "[encoded data removed]"
          },
          "metadata": {
            "image/png": {
              "width": 420,
              "height": 420
            }
          }
        }
      ]
    }
  ]
}
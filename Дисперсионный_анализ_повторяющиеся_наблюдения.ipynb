{
  "nbformat": 4,
  "nbformat_minor": 0,
  "metadata": {
    "colab": {
      "provenance": []
    },
    "kernelspec": {
      "name": "ir",
      "display_name": "R"
    },
    "language_info": {
      "name": "R"
    }
  },
  "cells": [
    {
      "cell_type": "markdown",
      "source": [
        "# Дисперсионный анализ для повторяющихся наблюдений\n"
      ],
      "metadata": {
        "id": "J-MWT2c3LLbh"
      }
    },
    {
      "cell_type": "code",
      "source": [
        "df <- read.csv(\"/content/data_ARM.csv\")\n",
        "df <- na.omit(df)\n",
        "head(df)"
      ],
      "metadata": {
        "colab": {
          "base_uri": "https://localhost:8080/",
          "height": 286
        },
        "id": "Yki6y6BbLQ7B",
        "outputId": "8272ca08-cebe-493d-ffeb-01825abaf28f"
      },
      "execution_count": null,
      "outputs": [
        {
          "output_type": "display_data",
          "data": {
            "text/html": [
              "<table class=\"dataframe\">\n",
              "<caption>A data.frame: 6 × 6</caption>\n",
              "<thead>\n",
              "\t<tr><th></th><th scope=col>X</th><th scope=col>PRCOD.1</th><th scope=col>SEX.1</th><th scope=col>SSTATA.1</th><th scope=col>SSTATA.2</th><th scope=col>SSTATA.3</th></tr>\n",
              "\t<tr><th></th><th scope=col>&lt;int&gt;</th><th scope=col>&lt;chr&gt;</th><th scope=col>&lt;chr&gt;</th><th scope=col>&lt;int&gt;</th><th scope=col>&lt;int&gt;</th><th scope=col>&lt;dbl&gt;</th></tr>\n",
              "</thead>\n",
              "<tbody>\n",
              "\t<tr><th scope=row>2</th><td>2</td><td>Placebo+Framex</td><td>male  </td><td>39</td><td>43</td><td>40</td></tr>\n",
              "\t<tr><th scope=row>3</th><td>3</td><td>NLTX+Framex   </td><td>female</td><td>48</td><td>51</td><td>48</td></tr>\n",
              "\t<tr><th scope=row>4</th><td>4</td><td>Placebo+Framex</td><td>male  </td><td>51</td><td>50</td><td>42</td></tr>\n",
              "\t<tr><th scope=row>5</th><td>5</td><td>NLTX+Placebo  </td><td>male  </td><td>21</td><td>23</td><td>22</td></tr>\n",
              "\t<tr><th scope=row>6</th><td>6</td><td>NLTX+Framex   </td><td>female</td><td>54</td><td>30</td><td>35</td></tr>\n",
              "\t<tr><th scope=row>7</th><td>7</td><td>NLTX+Framex   </td><td>male  </td><td>35</td><td>23</td><td>26</td></tr>\n",
              "</tbody>\n",
              "</table>\n"
            ],
            "text/markdown": "\nA data.frame: 6 × 6\n\n| <!--/--> | X &lt;int&gt; | PRCOD.1 &lt;chr&gt; | SEX.1 &lt;chr&gt; | SSTATA.1 &lt;int&gt; | SSTATA.2 &lt;int&gt; | SSTATA.3 &lt;dbl&gt; |\n|---|---|---|---|---|---|---|\n| 2 | 2 | Placebo+Framex | male   | 39 | 43 | 40 |\n| 3 | 3 | NLTX+Framex    | female | 48 | 51 | 48 |\n| 4 | 4 | Placebo+Framex | male   | 51 | 50 | 42 |\n| 5 | 5 | NLTX+Placebo   | male   | 21 | 23 | 22 |\n| 6 | 6 | NLTX+Framex    | female | 54 | 30 | 35 |\n| 7 | 7 | NLTX+Framex    | male   | 35 | 23 | 26 |\n\n",
            "text/latex": "A data.frame: 6 × 6\n\\begin{tabular}{r|llllll}\n  & X & PRCOD.1 & SEX.1 & SSTATA.1 & SSTATA.2 & SSTATA.3\\\\\n  & <int> & <chr> & <chr> & <int> & <int> & <dbl>\\\\\n\\hline\n\t2 & 2 & Placebo+Framex & male   & 39 & 43 & 40\\\\\n\t3 & 3 & NLTX+Framex    & female & 48 & 51 & 48\\\\\n\t4 & 4 & Placebo+Framex & male   & 51 & 50 & 42\\\\\n\t5 & 5 & NLTX+Placebo   & male   & 21 & 23 & 22\\\\\n\t6 & 6 & NLTX+Framex    & female & 54 & 30 & 35\\\\\n\t7 & 7 & NLTX+Framex    & male   & 35 & 23 & 26\\\\\n\\end{tabular}\n",
            "text/plain": [
              "  X PRCOD.1        SEX.1  SSTATA.1 SSTATA.2 SSTATA.3\n",
              "2 2 Placebo+Framex male   39       43       40      \n",
              "3 3 NLTX+Framex    female 48       51       48      \n",
              "4 4 Placebo+Framex male   51       50       42      \n",
              "5 5 NLTX+Placebo   male   21       23       22      \n",
              "6 6 NLTX+Framex    female 54       30       35      \n",
              "7 7 NLTX+Framex    male   35       23       26      "
            ]
          },
          "metadata": {}
        }
      ]
    },
    {
      "cell_type": "markdown",
      "source": [
        "Выделим подгруппу с типом лечения `Placebo+Framex`."
      ],
      "metadata": {
        "id": "9b8wd8wtLoEi"
      }
    },
    {
      "cell_type": "code",
      "source": [
        "df <- df[df[, \"PRCOD.1\"] == \"Placebo+Framex\",]\n",
        "head(df)"
      ],
      "metadata": {
        "colab": {
          "base_uri": "https://localhost:8080/",
          "height": 286
        },
        "id": "GmqlA6n5Lw3R",
        "outputId": "3a9e1560-0b40-4752-f0eb-eb8a335d880a"
      },
      "execution_count": null,
      "outputs": [
        {
          "output_type": "display_data",
          "data": {
            "text/html": [
              "<table class=\"dataframe\">\n",
              "<caption>A data.frame: 6 × 6</caption>\n",
              "<thead>\n",
              "\t<tr><th></th><th scope=col>X</th><th scope=col>PRCOD.1</th><th scope=col>SEX.1</th><th scope=col>SSTATA.1</th><th scope=col>SSTATA.2</th><th scope=col>SSTATA.3</th></tr>\n",
              "\t<tr><th></th><th scope=col>&lt;int&gt;</th><th scope=col>&lt;chr&gt;</th><th scope=col>&lt;chr&gt;</th><th scope=col>&lt;int&gt;</th><th scope=col>&lt;int&gt;</th><th scope=col>&lt;dbl&gt;</th></tr>\n",
              "</thead>\n",
              "<tbody>\n",
              "\t<tr><th scope=row>2</th><td> 2</td><td>Placebo+Framex</td><td>male  </td><td>39</td><td>43</td><td>40</td></tr>\n",
              "\t<tr><th scope=row>4</th><td> 4</td><td>Placebo+Framex</td><td>male  </td><td>51</td><td>50</td><td>42</td></tr>\n",
              "\t<tr><th scope=row>8</th><td> 8</td><td>Placebo+Framex</td><td>male  </td><td>32</td><td>46</td><td>31</td></tr>\n",
              "\t<tr><th scope=row>13</th><td>13</td><td>Placebo+Framex</td><td>female</td><td>43</td><td>37</td><td>41</td></tr>\n",
              "\t<tr><th scope=row>16</th><td>16</td><td>Placebo+Framex</td><td>male  </td><td>65</td><td>56</td><td>52</td></tr>\n",
              "\t<tr><th scope=row>25</th><td>25</td><td>Placebo+Framex</td><td>male  </td><td>58</td><td>23</td><td>21</td></tr>\n",
              "</tbody>\n",
              "</table>\n"
            ],
            "text/markdown": "\nA data.frame: 6 × 6\n\n| <!--/--> | X &lt;int&gt; | PRCOD.1 &lt;chr&gt; | SEX.1 &lt;chr&gt; | SSTATA.1 &lt;int&gt; | SSTATA.2 &lt;int&gt; | SSTATA.3 &lt;dbl&gt; |\n|---|---|---|---|---|---|---|\n| 2 |  2 | Placebo+Framex | male   | 39 | 43 | 40 |\n| 4 |  4 | Placebo+Framex | male   | 51 | 50 | 42 |\n| 8 |  8 | Placebo+Framex | male   | 32 | 46 | 31 |\n| 13 | 13 | Placebo+Framex | female | 43 | 37 | 41 |\n| 16 | 16 | Placebo+Framex | male   | 65 | 56 | 52 |\n| 25 | 25 | Placebo+Framex | male   | 58 | 23 | 21 |\n\n",
            "text/latex": "A data.frame: 6 × 6\n\\begin{tabular}{r|llllll}\n  & X & PRCOD.1 & SEX.1 & SSTATA.1 & SSTATA.2 & SSTATA.3\\\\\n  & <int> & <chr> & <chr> & <int> & <int> & <dbl>\\\\\n\\hline\n\t2 &  2 & Placebo+Framex & male   & 39 & 43 & 40\\\\\n\t4 &  4 & Placebo+Framex & male   & 51 & 50 & 42\\\\\n\t8 &  8 & Placebo+Framex & male   & 32 & 46 & 31\\\\\n\t13 & 13 & Placebo+Framex & female & 43 & 37 & 41\\\\\n\t16 & 16 & Placebo+Framex & male   & 65 & 56 & 52\\\\\n\t25 & 25 & Placebo+Framex & male   & 58 & 23 & 21\\\\\n\\end{tabular}\n",
            "text/plain": [
              "   X  PRCOD.1        SEX.1  SSTATA.1 SSTATA.2 SSTATA.3\n",
              "2   2 Placebo+Framex male   39       43       40      \n",
              "4   4 Placebo+Framex male   51       50       42      \n",
              "8   8 Placebo+Framex male   32       46       31      \n",
              "13 13 Placebo+Framex female 43       37       41      \n",
              "16 16 Placebo+Framex male   65       56       52      \n",
              "25 25 Placebo+Framex male   58       23       21      "
            ]
          },
          "metadata": {}
        }
      ]
    },
    {
      "cell_type": "markdown",
      "source": [
        "Узнаем количество индивидов разных полов."
      ],
      "metadata": {
        "id": "1kJ24GWLr04D"
      }
    },
    {
      "cell_type": "code",
      "source": [
        "length(which(df$SEX.1 == \"female\"))\n",
        "length(which(df$SEX.1 == \"male\"))"
      ],
      "metadata": {
        "colab": {
          "base_uri": "https://localhost:8080/",
          "height": 52
        },
        "id": "LfFlF2VVrrPZ",
        "outputId": "9af04cbd-f04b-47a3-df5b-36a2f92464d1"
      },
      "execution_count": null,
      "outputs": [
        {
          "output_type": "display_data",
          "data": {
            "text/html": [
              "8"
            ],
            "text/markdown": "8",
            "text/latex": "8",
            "text/plain": [
              "[1] 8"
            ]
          },
          "metadata": {}
        },
        {
          "output_type": "display_data",
          "data": {
            "text/html": [
              "26"
            ],
            "text/markdown": "26",
            "text/latex": "26",
            "text/plain": [
              "[1] 26"
            ]
          },
          "metadata": {}
        }
      ]
    },
    {
      "cell_type": "markdown",
      "source": [
        "Объединим различные измерения SSTATA в одну переменную."
      ],
      "metadata": {
        "id": "SSgR4iZ9sDn2"
      }
    },
    {
      "cell_type": "code",
      "source": [
        "df_new <- data.frame(stack(df[, 4:6]),\n",
        "              X = as.factor(rep(df$X, 3)),\n",
        "              SEX = as.factor(rep(df$SEX.1, 3)))\n",
        "head(df_new)"
      ],
      "metadata": {
        "colab": {
          "base_uri": "https://localhost:8080/",
          "height": 286
        },
        "id": "NWjRAW9uYNTp",
        "outputId": "029aa484-e24c-4f11-9a8a-a3e80a3a20a5"
      },
      "execution_count": null,
      "outputs": [
        {
          "output_type": "display_data",
          "data": {
            "text/html": [
              "<table class=\"dataframe\">\n",
              "<caption>A data.frame: 6 × 4</caption>\n",
              "<thead>\n",
              "\t<tr><th></th><th scope=col>values</th><th scope=col>ind</th><th scope=col>X</th><th scope=col>SEX</th></tr>\n",
              "\t<tr><th></th><th scope=col>&lt;dbl&gt;</th><th scope=col>&lt;fct&gt;</th><th scope=col>&lt;fct&gt;</th><th scope=col>&lt;fct&gt;</th></tr>\n",
              "</thead>\n",
              "<tbody>\n",
              "\t<tr><th scope=row>1</th><td>39</td><td>SSTATA.1</td><td>2 </td><td>male  </td></tr>\n",
              "\t<tr><th scope=row>2</th><td>51</td><td>SSTATA.1</td><td>4 </td><td>male  </td></tr>\n",
              "\t<tr><th scope=row>3</th><td>32</td><td>SSTATA.1</td><td>8 </td><td>male  </td></tr>\n",
              "\t<tr><th scope=row>4</th><td>43</td><td>SSTATA.1</td><td>13</td><td>female</td></tr>\n",
              "\t<tr><th scope=row>5</th><td>65</td><td>SSTATA.1</td><td>16</td><td>male  </td></tr>\n",
              "\t<tr><th scope=row>6</th><td>58</td><td>SSTATA.1</td><td>25</td><td>male  </td></tr>\n",
              "</tbody>\n",
              "</table>\n"
            ],
            "text/markdown": "\nA data.frame: 6 × 4\n\n| <!--/--> | values &lt;dbl&gt; | ind &lt;fct&gt; | X &lt;fct&gt; | SEX &lt;fct&gt; |\n|---|---|---|---|---|\n| 1 | 39 | SSTATA.1 | 2  | male   |\n| 2 | 51 | SSTATA.1 | 4  | male   |\n| 3 | 32 | SSTATA.1 | 8  | male   |\n| 4 | 43 | SSTATA.1 | 13 | female |\n| 5 | 65 | SSTATA.1 | 16 | male   |\n| 6 | 58 | SSTATA.1 | 25 | male   |\n\n",
            "text/latex": "A data.frame: 6 × 4\n\\begin{tabular}{r|llll}\n  & values & ind & X & SEX\\\\\n  & <dbl> & <fct> & <fct> & <fct>\\\\\n\\hline\n\t1 & 39 & SSTATA.1 & 2  & male  \\\\\n\t2 & 51 & SSTATA.1 & 4  & male  \\\\\n\t3 & 32 & SSTATA.1 & 8  & male  \\\\\n\t4 & 43 & SSTATA.1 & 13 & female\\\\\n\t5 & 65 & SSTATA.1 & 16 & male  \\\\\n\t6 & 58 & SSTATA.1 & 25 & male  \\\\\n\\end{tabular}\n",
            "text/plain": [
              "  values ind      X  SEX   \n",
              "1 39     SSTATA.1 2  male  \n",
              "2 51     SSTATA.1 4  male  \n",
              "3 32     SSTATA.1 8  male  \n",
              "4 43     SSTATA.1 13 female\n",
              "5 65     SSTATA.1 16 male  \n",
              "6 58     SSTATA.1 25 male  "
            ]
          },
          "metadata": {}
        }
      ]
    },
    {
      "cell_type": "markdown",
      "source": [
        "Для дальнейших вычислений посчитаем средние (общее и по различным группам)."
      ],
      "metadata": {
        "id": "NiI07Z_Wbqd7"
      }
    },
    {
      "cell_type": "code",
      "source": [
        "mean_all <- mean(df_new$values) # общее\n",
        "mean_sex <- tapply(X = df_new$values, INDEX = df_new$SEX, FUN = mean) # по полу\n",
        "mean_ind <- tapply(X = df_new$values, INDEX = df_new$ind, FUN = mean) # по номеру измерения\n",
        "mean_sex_ind <- tapply(X = df_new$values, INDEX = list(df_new$SEX, df_new$ind), FUN = mean) # по полу и номеру\n",
        "mean_person <- tapply(X = df_new$values, INDEX = df_new$X, FUN = mean) # по индивиду"
      ],
      "metadata": {
        "id": "xdsW8ISLZkoV"
      },
      "execution_count": null,
      "outputs": []
    },
    {
      "cell_type": "markdown",
      "source": [
        "### Источники вариации"
      ],
      "metadata": {
        "id": "lsRJ0IyBcI10"
      }
    },
    {
      "cell_type": "markdown",
      "source": [
        "Выделим номера мужчин и женщин и средние"
      ],
      "metadata": {
        "id": "fNkyY1jRdd85"
      }
    },
    {
      "cell_type": "code",
      "source": [
        "women_pos <- df_new$SEX == \"female\"\n",
        "women <- mean_person[women_pos]\n",
        "men <- mean_person[!women_pos]\n",
        "# df_new[!women_pos, ]\n",
        "women"
      ],
      "metadata": {
        "id": "A1Cem9WGdcso",
        "colab": {
          "base_uri": "https://localhost:8080/",
          "height": 69
        },
        "outputId": "3c120d88-f957-4f5e-acb4-273125d7bb24"
      },
      "execution_count": null,
      "outputs": [
        {
          "output_type": "display_data",
          "data": {
            "text/html": [
              "<style>\n",
              ".dl-inline {width: auto; margin:0; padding: 0}\n",
              ".dl-inline>dt, .dl-inline>dd {float: none; width: auto; display: inline-block}\n",
              ".dl-inline>dt::after {content: \":\\0020\"; padding-right: .5ex}\n",
              ".dl-inline>dt:not(:first-of-type) {padding-left: .5ex}\n",
              "</style><dl class=dl-inline><dt>13</dt><dd>40.3333333333333</dd><dt>44</dt><dd>47.6666666666667</dd><dt>117</dt><dd>32.6666666666667</dd><dt>177</dt><dd>41</dd><dt>189</dt><dd>40.6666666666667</dd><dt>192</dt><dd>42.3333333333333</dd><dt>213</dt><dd>55.6666666666667</dd><dt>276</dt><dd>40.3333333333333</dd><dt>9</dt><dd>&lt;NA&gt;</dd><dt>10</dt><dd>&lt;NA&gt;</dd><dt>11</dt><dd>&lt;NA&gt;</dd><dt>12</dt><dd>&lt;NA&gt;</dd><dt>13</dt><dd>&lt;NA&gt;</dd><dt>14</dt><dd>&lt;NA&gt;</dd><dt>15</dt><dd>&lt;NA&gt;</dd><dt>16</dt><dd>&lt;NA&gt;</dd><dt>17</dt><dd>&lt;NA&gt;</dd><dt>18</dt><dd>&lt;NA&gt;</dd><dt>19</dt><dd>&lt;NA&gt;</dd><dt>20</dt><dd>&lt;NA&gt;</dd><dt>21</dt><dd>&lt;NA&gt;</dd><dt>22</dt><dd>&lt;NA&gt;</dd><dt>23</dt><dd>&lt;NA&gt;</dd><dt>24</dt><dd>&lt;NA&gt;</dd></dl>\n"
            ],
            "text/markdown": "13\n:   40.333333333333344\n:   47.6666666666667117\n:   32.6666666666667177\n:   41189\n:   40.6666666666667192\n:   42.3333333333333213\n:   55.6666666666667276\n:   40.33333333333339\n:   &lt;NA&gt;10\n:   &lt;NA&gt;11\n:   &lt;NA&gt;12\n:   &lt;NA&gt;13\n:   &lt;NA&gt;14\n:   &lt;NA&gt;15\n:   &lt;NA&gt;16\n:   &lt;NA&gt;17\n:   &lt;NA&gt;18\n:   &lt;NA&gt;19\n:   &lt;NA&gt;20\n:   &lt;NA&gt;21\n:   &lt;NA&gt;22\n:   &lt;NA&gt;23\n:   &lt;NA&gt;24\n:   &lt;NA&gt;\n\n",
            "text/latex": "\\begin{description*}\n\\item[13] 40.3333333333333\n\\item[44] 47.6666666666667\n\\item[117] 32.6666666666667\n\\item[177] 41\n\\item[189] 40.6666666666667\n\\item[192] 42.3333333333333\n\\item[213] 55.6666666666667\n\\item[276] 40.3333333333333\n\\item[9] <NA>\n\\item[10] <NA>\n\\item[11] <NA>\n\\item[12] <NA>\n\\item[13] <NA>\n\\item[14] <NA>\n\\item[15] <NA>\n\\item[16] <NA>\n\\item[17] <NA>\n\\item[18] <NA>\n\\item[19] <NA>\n\\item[20] <NA>\n\\item[21] <NA>\n\\item[22] <NA>\n\\item[23] <NA>\n\\item[24] <NA>\n\\end{description*}\n",
            "text/plain": [
              "      13       44      117      177      189      192      213      276 \n",
              "40.33333 47.66667 32.66667 41.00000 40.66667 42.33333 55.66667 40.33333 \n",
              "    <NA>     <NA>     <NA>     <NA>     <NA>     <NA>     <NA>     <NA> \n",
              "      NA       NA       NA       NA       NA       NA       NA       NA \n",
              "    <NA>     <NA>     <NA>     <NA>     <NA>     <NA>     <NA>     <NA> \n",
              "      NA       NA       NA       NA       NA       NA       NA       NA "
            ]
          },
          "metadata": {}
        }
      ]
    },
    {
      "cell_type": "code",
      "source": [
        "Q <- (df_new$values - mean_all) %*% (df_new$values - mean_all) # общий\n",
        "Q_A <- 3 * (length(which(df$SEX.1 == \"female\")) * ((mean_sex[1] - mean_all)^2) + length(which(df$SEX.1 == \"male\")) * ((mean_sex[2] - mean_all)^2))\n",
        "Q_1e <- 3 * ((women[!is.na(women)] - mean_sex[1]) %*% (women[!is.na(women)] - mean_sex[1]) + (men[!is.na(men)] - mean_sex[2]) %*% (men[!is.na(men)] - mean_sex[2]))\n",
        "Q_1 <- Q_A + Q_1e\n",
        "Q_C <- length(df$X) * (mean_ind - mean_all) %*% (mean_ind - mean_all)\n",
        "Q_AC <- length(which(df$SEX.1 == \"female\")) * (mean_sex_ind[1,] - mean_sex[1] - mean_ind + mean_all) %*% (mean_sex_ind[1,] - mean_sex[1] - mean_ind + mean_all) + length(which(df$SEX.1 == \"male\")) * (mean_sex_ind[2,] - mean_sex[2] - mean_ind + mean_all) %*% (mean_sex_ind[2,] - mean_sex[2] - mean_ind + mean_all)\n",
        "Q_2 <- Q - Q_1\n",
        "Q_err <- Q_2 - Q_C - Q_AC"
      ],
      "metadata": {
        "id": "51ULhQcjektk"
      },
      "execution_count": null,
      "outputs": []
    },
    {
      "cell_type": "markdown",
      "source": [
        "Степени свободы"
      ],
      "metadata": {
        "id": "l908YWc_fr76"
      }
    },
    {
      "cell_type": "code",
      "source": [
        "nu_1 <- length(df$X) - 1 # n-1\n",
        "nu_A <- 2-1 # число различных полов - 1\n",
        "nu_1e <- length(df$X) - 2 # n - значений фактора пола\n",
        "nu_C <- 3 - 1 # число измерений во времени - 1\n",
        "nu_AC <- (3 - 1) * (2 - 1)\n",
        "nu_err <- (3 - 1) * (length(df$X) - 2)"
      ],
      "metadata": {
        "id": "r6jk23iGfuFq"
      },
      "execution_count": null,
      "outputs": []
    },
    {
      "cell_type": "markdown",
      "source": [
        "### Проверка гипотезы, что все дифференциальные эффекты фактора пола равны нулю"
      ],
      "metadata": {
        "id": "7Bl3nR16jrl3"
      }
    },
    {
      "cell_type": "code",
      "source": [
        "MQ_A <- Q_A / nu_A\n",
        "MQ_1e <- Q_1e / nu_1e\n",
        "F_A <- MQ_A / MQ_1e\n",
        "print(\"Статистика для фактора пола:\")\n",
        "F_A\n",
        "print(\"p-value:\")\n",
        "1-pf(F_A, nu_A, nu_1e)"
      ],
      "metadata": {
        "colab": {
          "base_uri": "https://localhost:8080/",
          "height": 201
        },
        "id": "NH2Lezzxj1pI",
        "outputId": "a9bed007-6f1d-4aec-cae5-fb995161a44e"
      },
      "execution_count": null,
      "outputs": [
        {
          "output_type": "stream",
          "name": "stdout",
          "text": [
            "[1] \"Статистика для фактора пола:\"\n"
          ]
        },
        {
          "output_type": "display_data",
          "data": {
            "text/html": [
              "<table class=\"dataframe\">\n",
              "<caption>A matrix: 1 × 1 of type dbl</caption>\n",
              "<tbody>\n",
              "\t<tr><td>0.2976109</td></tr>\n",
              "</tbody>\n",
              "</table>\n"
            ],
            "text/markdown": "\nA matrix: 1 × 1 of type dbl\n\n| 0.2976109 |\n\n",
            "text/latex": "A matrix: 1 × 1 of type dbl\n\\begin{tabular}{l}\n\t 0.2976109\\\\\n\\end{tabular}\n",
            "text/plain": [
              "     [,1]     \n",
              "[1,] 0.2976109"
            ]
          },
          "metadata": {}
        },
        {
          "output_type": "stream",
          "name": "stdout",
          "text": [
            "[1] \"p-value:\"\n"
          ]
        },
        {
          "output_type": "display_data",
          "data": {
            "text/html": [
              "<table class=\"dataframe\">\n",
              "<caption>A matrix: 1 × 1 of type dbl</caption>\n",
              "<tbody>\n",
              "\t<tr><td>0.589167</td></tr>\n",
              "</tbody>\n",
              "</table>\n"
            ],
            "text/markdown": "\nA matrix: 1 × 1 of type dbl\n\n| 0.589167 |\n\n",
            "text/latex": "A matrix: 1 × 1 of type dbl\n\\begin{tabular}{l}\n\t 0.589167\\\\\n\\end{tabular}\n",
            "text/plain": [
              "     [,1]    \n",
              "[1,] 0.589167"
            ]
          },
          "metadata": {}
        }
      ]
    },
    {
      "cell_type": "markdown",
      "source": [
        "Влияние фактора пола не значимо."
      ],
      "metadata": {
        "id": "0VHhkpcqlOFK"
      }
    },
    {
      "cell_type": "markdown",
      "source": [
        "### Проверка гипотезы, что случайные эффекты фактора времени имеют нулевую дисперсию"
      ],
      "metadata": {
        "id": "r0COmFl6lTNF"
      }
    },
    {
      "cell_type": "code",
      "source": [
        "MQ_C <- Q_C / nu_C\n",
        "MQ_AC <- Q_AC / nu_AC\n",
        "F_C_r <- MQ_C / MQ_AC\n",
        "print(\"Статистика для фактора времени:\")\n",
        "F_C_r\n",
        "print(\"p-value:\")\n",
        "1-pf(F_C_r, nu_C, nu_AC)"
      ],
      "metadata": {
        "colab": {
          "base_uri": "https://localhost:8080/",
          "height": 201
        },
        "outputId": "38845ebd-2f3e-49ca-b82a-009be3a1d7a1",
        "id": "4tNbHkbalTNF"
      },
      "execution_count": null,
      "outputs": [
        {
          "output_type": "stream",
          "name": "stdout",
          "text": [
            "[1] \"Статистика для фактора времени:\"\n"
          ]
        },
        {
          "output_type": "display_data",
          "data": {
            "text/html": [
              "<table class=\"dataframe\">\n",
              "<caption>A matrix: 1 × 1 of type dbl</caption>\n",
              "<tbody>\n",
              "\t<tr><td>1.076847</td></tr>\n",
              "</tbody>\n",
              "</table>\n"
            ],
            "text/markdown": "\nA matrix: 1 × 1 of type dbl\n\n| 1.076847 |\n\n",
            "text/latex": "A matrix: 1 × 1 of type dbl\n\\begin{tabular}{l}\n\t 1.076847\\\\\n\\end{tabular}\n",
            "text/plain": [
              "     [,1]    \n",
              "[1,] 1.076847"
            ]
          },
          "metadata": {}
        },
        {
          "output_type": "stream",
          "name": "stdout",
          "text": [
            "[1] \"p-value:\"\n"
          ]
        },
        {
          "output_type": "display_data",
          "data": {
            "text/html": [
              "<table class=\"dataframe\">\n",
              "<caption>A matrix: 1 × 1 of type dbl</caption>\n",
              "<tbody>\n",
              "\t<tr><td>0.4814992</td></tr>\n",
              "</tbody>\n",
              "</table>\n"
            ],
            "text/markdown": "\nA matrix: 1 × 1 of type dbl\n\n| 0.4814992 |\n\n",
            "text/latex": "A matrix: 1 × 1 of type dbl\n\\begin{tabular}{l}\n\t 0.4814992\\\\\n\\end{tabular}\n",
            "text/plain": [
              "     [,1]     \n",
              "[1,] 0.4814992"
            ]
          },
          "metadata": {}
        }
      ]
    },
    {
      "cell_type": "markdown",
      "source": [
        "Случайные эффекты фактора времени не значимы."
      ],
      "metadata": {
        "id": "prpi_r1VlTNG"
      }
    },
    {
      "cell_type": "markdown",
      "source": [
        "### Проверка гипотезы о фиксированных эффектах фактора времени"
      ],
      "metadata": {
        "id": "OoB-hcYjmVVw"
      }
    },
    {
      "cell_type": "code",
      "source": [
        "MQ_err <- Q_err / nu_err\n",
        "F_C_f <- MQ_C / MQ_err\n",
        "print(\"Статистика для фактора времени:\")\n",
        "F_C_f\n",
        "print(\"p-value:\")\n",
        "1-pf(F_C_f, nu_C, nu_err)"
      ],
      "metadata": {
        "colab": {
          "base_uri": "https://localhost:8080/",
          "height": 201
        },
        "outputId": "b2fa54ef-3b3e-427e-a6e5-51d7eff352ef",
        "id": "l1TVqjehmVVx"
      },
      "execution_count": null,
      "outputs": [
        {
          "output_type": "stream",
          "name": "stdout",
          "text": [
            "[1] \"Статистика для фактора времени:\"\n"
          ]
        },
        {
          "output_type": "display_data",
          "data": {
            "text/html": [
              "<table class=\"dataframe\">\n",
              "<caption>A matrix: 1 × 1 of type dbl</caption>\n",
              "<tbody>\n",
              "\t<tr><td>5.419788</td></tr>\n",
              "</tbody>\n",
              "</table>\n"
            ],
            "text/markdown": "\nA matrix: 1 × 1 of type dbl\n\n| 5.419788 |\n\n",
            "text/latex": "A matrix: 1 × 1 of type dbl\n\\begin{tabular}{l}\n\t 5.419788\\\\\n\\end{tabular}\n",
            "text/plain": [
              "     [,1]    \n",
              "[1,] 5.419788"
            ]
          },
          "metadata": {}
        },
        {
          "output_type": "stream",
          "name": "stdout",
          "text": [
            "[1] \"p-value:\"\n"
          ]
        },
        {
          "output_type": "display_data",
          "data": {
            "text/html": [
              "<table class=\"dataframe\">\n",
              "<caption>A matrix: 1 × 1 of type dbl</caption>\n",
              "<tbody>\n",
              "\t<tr><td>0.006692016</td></tr>\n",
              "</tbody>\n",
              "</table>\n"
            ],
            "text/markdown": "\nA matrix: 1 × 1 of type dbl\n\n| 0.006692016 |\n\n",
            "text/latex": "A matrix: 1 × 1 of type dbl\n\\begin{tabular}{l}\n\t 0.006692016\\\\\n\\end{tabular}\n",
            "text/plain": [
              "     [,1]       \n",
              "[1,] 0.006692016"
            ]
          },
          "metadata": {}
        }
      ]
    },
    {
      "cell_type": "markdown",
      "source": [
        "Фиксированные эффекты фактора времени значимы."
      ],
      "metadata": {
        "id": "HbPUV_4emVVy"
      }
    },
    {
      "cell_type": "markdown",
      "source": [
        "### Проверка эффекта взаимодействия"
      ],
      "metadata": {
        "id": "bzl-xCMkm9Ql"
      }
    },
    {
      "cell_type": "code",
      "source": [
        "F_int <- MQ_AC / MQ_err\n",
        "print(\"Статистика для эффекта взаимодействия:\")\n",
        "F_int\n",
        "print(\"p-value:\")\n",
        "1-pf(F_int, nu_AC, nu_err)"
      ],
      "metadata": {
        "colab": {
          "base_uri": "https://localhost:8080/",
          "height": 201
        },
        "id": "HYSmvrcIm8zV",
        "outputId": "684b792a-64e6-485e-8c4a-1bb0d61d2cb7"
      },
      "execution_count": null,
      "outputs": [
        {
          "output_type": "stream",
          "name": "stdout",
          "text": [
            "[1] \"Статистика для эффекта взаимодействия:\"\n"
          ]
        },
        {
          "output_type": "display_data",
          "data": {
            "text/html": [
              "<table class=\"dataframe\">\n",
              "<caption>A matrix: 1 × 1 of type dbl</caption>\n",
              "<tbody>\n",
              "\t<tr><td>5.033017</td></tr>\n",
              "</tbody>\n",
              "</table>\n"
            ],
            "text/markdown": "\nA matrix: 1 × 1 of type dbl\n\n| 5.033017 |\n\n",
            "text/latex": "A matrix: 1 × 1 of type dbl\n\\begin{tabular}{l}\n\t 5.033017\\\\\n\\end{tabular}\n",
            "text/plain": [
              "     [,1]    \n",
              "[1,] 5.033017"
            ]
          },
          "metadata": {}
        },
        {
          "output_type": "stream",
          "name": "stdout",
          "text": [
            "[1] \"p-value:\"\n"
          ]
        },
        {
          "output_type": "display_data",
          "data": {
            "text/html": [
              "<table class=\"dataframe\">\n",
              "<caption>A matrix: 1 × 1 of type dbl</caption>\n",
              "<tbody>\n",
              "\t<tr><td>0.009331431</td></tr>\n",
              "</tbody>\n",
              "</table>\n"
            ],
            "text/markdown": "\nA matrix: 1 × 1 of type dbl\n\n| 0.009331431 |\n\n",
            "text/latex": "A matrix: 1 × 1 of type dbl\n\\begin{tabular}{l}\n\t 0.009331431\\\\\n\\end{tabular}\n",
            "text/plain": [
              "     [,1]       \n",
              "[1,] 0.009331431"
            ]
          },
          "metadata": {}
        }
      ]
    },
    {
      "cell_type": "markdown",
      "source": [
        "Влияние фактора взаимодействия значимо."
      ],
      "metadata": {
        "id": "Qk7rLB3ZnX81"
      }
    },
    {
      "cell_type": "markdown",
      "source": [
        "Построим график."
      ],
      "metadata": {
        "id": "MAnj73lPn9Qe"
      }
    },
    {
      "cell_type": "code",
      "source": [
        "interaction.plot(df_new$SEX, df_new$ind, df_new$values, col = c(\"red\", \"blue\", \"green\"))"
      ],
      "metadata": {
        "colab": {
          "base_uri": "https://localhost:8080/",
          "height": 437
        },
        "id": "0FdcrOcJnkGp",
        "outputId": "c5b20fba-a5d9-43ff-9299-72f501c97557"
      },
      "execution_count": null,
      "outputs": [
        {
          "output_type": "display_data",
          "data": {
            "text/plain": [
              "plot without title"
            ],
            "image/png": "[encoded data removed]"
          },
          "metadata": {
            "image/png": {
              "width": 420,
              "height": 420
            }
          }
        }
      ]
    },
    {
      "cell_type": "code",
      "source": [
        "interaction.plot(x.factor = df_new$ind, trace.factor = df_new$SEX,\n",
        "                 response = df_new$values, fun = mean,\n",
        "                 type = \"b\", legend = TRUE, col = c(\"red\", \"blue\"))"
      ],
      "metadata": {
        "colab": {
          "base_uri": "https://localhost:8080/",
          "height": 437
        },
        "id": "M06BFsH9VU4s",
        "outputId": "fb99c613-3bd7-477e-d5a3-4911713c6cc6"
      },
      "execution_count": null,
      "outputs": [
        {
          "output_type": "display_data",
          "data": {
            "text/plain": [
              "plot without title"
            ],
            "image/png": "[encoded data removed]"
          },
          "metadata": {
            "image/png": {
              "width": 420,
              "height": 420
            }
          }
        }
      ]
    },
    {
      "cell_type": "markdown",
      "source": [
        "### Стандартная процедура для контроля вычислений"
      ],
      "metadata": {
        "id": "aMK1QsQVWvxy"
      }
    },
    {
      "cell_type": "code",
      "source": [
        "aov_mod <- aov(values ~ SEX * ind, data=df_new)\n",
        "summary(aov_mod)"
      ],
      "metadata": {
        "colab": {
          "base_uri": "https://localhost:8080/",
          "height": 139
        },
        "id": "PvKoG0G-W7vB",
        "outputId": "08812047-53dd-4f54-b48c-6ca1b1ab2215"
      },
      "execution_count": null,
      "outputs": [
        {
          "output_type": "display_data",
          "data": {
            "text/plain": [
              "            Df Sum Sq Mean Sq F value Pr(>F)  \n",
              "SEX          1     50   49.73   0.600 0.4403  \n",
              "ind          2    441  220.61   2.663 0.0749 .\n",
              "SEX:ind      2    410  204.87   2.473 0.0897 .\n",
              "Residuals   96   7953   82.84                 \n",
              "---\n",
              "Signif. codes:  0 ‘***’ 0.001 ‘**’ 0.01 ‘*’ 0.05 ‘.’ 0.1 ‘ ’ 1"
            ]
          },
          "metadata": {}
        }
      ]
    }
  ]
}
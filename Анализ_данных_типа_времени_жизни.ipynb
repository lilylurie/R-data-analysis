{
  "nbformat": 4,
  "nbformat_minor": 0,
  "metadata": {
    "colab": {
      "provenance": []
    },
    "kernelspec": {
      "name": "ir",
      "display_name": "R"
    },
    "language_info": {
      "name": "R"
    }
  },
  "cells": [
    {
      "cell_type": "code",
      "source": [
        "install.packages(\"readxl\")\n",
        "library(readxl)\n",
        "install.packages(\"survival\")\n",
        "library(survival)\n",
        "install.packages(\"ggsurvfit\")\n",
        "library(ggsurvfit)\n",
        "install.packages(\"gtsummary\")\n",
        "library(gtsummary)\n",
        "install.packages(\"broom.helpers\")\n",
        "library(broom.helpers)"
      ],
      "metadata": {
        "colab": {
          "base_uri": "https://localhost:8080/"
        },
        "id": "GN_GAjdRXX8x",
        "outputId": "99ee7838-3cd6-4fda-e527-f951f7fce0f4"
      },
      "execution_count": null,
      "outputs": [
        {
          "output_type": "stream",
          "name": "stderr",
          "text": [
            "Installing package into ‘/usr/local/lib/R/site-library’\n",
            "(as ‘lib’ is unspecified)\n",
            "\n",
            "also installing the dependency ‘labelled’\n",
            "\n",
            "\n",
            "\n",
            "Attaching package: ‘broom.helpers’\n",
            "\n",
            "\n",
            "The following objects are masked from ‘package:gtsummary’:\n",
            "\n",
            "    all_categorical, all_continuous, all_contrasts, all_dichotomous,\n",
            "    all_interaction, all_intercepts\n",
            "\n",
            "\n"
          ]
        }
      ]
    },
    {
      "cell_type": "code",
      "execution_count": null,
      "metadata": {
        "colab": {
          "base_uri": "https://localhost:8080/",
          "height": 324
        },
        "id": "PTbJKvYUWrxs",
        "outputId": "74db6a2f-b0d2-421b-e96d-20129da50e27"
      },
      "outputs": [
        {
          "output_type": "display_data",
          "data": {
            "text/html": [
              "<table class=\"dataframe\">\n",
              "<caption>A tibble: 6 × 163</caption>\n",
              "<thead>\n",
              "\t<tr><th scope=col>N pacienta</th><th scope=col>N statusov</th><th scope=col>N vaccin</th><th scope=col>vaccina</th><th scope=col>diagnoz</th><th scope=col>vozrast</th><th scope=col>gender</th><th scope=col>zadacha</th><th scope=col>remissia</th><th scope=col>dni zhil</th><th scope=col>⋯</th><th scope=col>MI 0</th><th scope=col>MI 1</th><th scope=col>MI 2</th><th scope=col>MI 3</th><th scope=col>MI11</th><th scope=col>НСТ0</th><th scope=col>НСТ1</th><th scope=col>НСТ2</th><th scope=col>НСТ3</th><th scope=col>НСТ11</th></tr>\n",
              "\t<tr><th scope=col>&lt;dbl&gt;</th><th scope=col>&lt;dbl&gt;</th><th scope=col>&lt;dbl&gt;</th><th scope=col>&lt;dbl&gt;</th><th scope=col>&lt;dbl&gt;</th><th scope=col>&lt;dbl&gt;</th><th scope=col>&lt;dbl&gt;</th><th scope=col>&lt;dbl&gt;</th><th scope=col>&lt;dbl&gt;</th><th scope=col>&lt;dbl&gt;</th><th scope=col>⋯</th><th scope=col>&lt;dbl&gt;</th><th scope=col>&lt;dbl&gt;</th><th scope=col>&lt;dbl&gt;</th><th scope=col>&lt;dbl&gt;</th><th scope=col>&lt;dbl&gt;</th><th scope=col>&lt;dbl&gt;</th><th scope=col>&lt;dbl&gt;</th><th scope=col>&lt;dbl&gt;</th><th scope=col>&lt;dbl&gt;</th><th scope=col>&lt;dbl&gt;</th></tr>\n",
              "</thead>\n",
              "<tbody>\n",
              "\t<tr><td> 2</td><td> 6</td><td>8</td><td>3</td><td>1</td><td>66</td><td>1</td><td>0</td><td> 0</td><td>424</td><td>⋯</td><td>4.7</td><td>3.0</td><td>3.4</td><td>3.0</td><td>2.1</td><td>9</td><td> 7</td><td> 8</td><td> 9</td><td> 7</td></tr>\n",
              "\t<tr><td> 7</td><td> 9</td><td>6</td><td>1</td><td>2</td><td>50</td><td>0</td><td>0</td><td>-2</td><td>646</td><td>⋯</td><td>3.0</td><td>4.0</td><td>2.4</td><td>4.0</td><td>3.2</td><td>4</td><td> 5</td><td> 3</td><td>14</td><td> 4</td></tr>\n",
              "\t<tr><td> 8</td><td>10</td><td>6</td><td>2</td><td>1</td><td>42</td><td>1</td><td>0</td><td>-2</td><td>767</td><td>⋯</td><td>3.3</td><td>4.3</td><td>3.0</td><td>4.6</td><td>4.0</td><td>7</td><td>10</td><td>12</td><td>18</td><td>18</td></tr>\n",
              "\t<tr><td>11</td><td> 5</td><td>8</td><td>3</td><td>1</td><td>54</td><td>0</td><td>0</td><td>-2</td><td>564</td><td>⋯</td><td>3.0</td><td>3.0</td><td>5.2</td><td>3.8</td><td>3.0</td><td>5</td><td> 2</td><td> 7</td><td>10</td><td>12</td></tr>\n",
              "\t<tr><td>12</td><td> 6</td><td>8</td><td>3</td><td>2</td><td>45</td><td>0</td><td>1</td><td> 2</td><td>505</td><td>⋯</td><td>3.2</td><td>3.8</td><td>2.9</td><td>3.6</td><td>3.0</td><td>6</td><td> 9</td><td> 8</td><td> 7</td><td> 7</td></tr>\n",
              "\t<tr><td>22</td><td> 6</td><td>9</td><td>2</td><td>1</td><td>56</td><td>0</td><td>1</td><td> 1</td><td>414</td><td>⋯</td><td>2.8</td><td>2.4</td><td>2.3</td><td>3.2</td><td>3.0</td><td>5</td><td> 7</td><td> 7</td><td>10</td><td> 3</td></tr>\n",
              "</tbody>\n",
              "</table>\n"
            ],
            "text/markdown": "\nA tibble: 6 × 163\n\n| N pacienta &lt;dbl&gt; | N statusov &lt;dbl&gt; | N vaccin &lt;dbl&gt; | vaccina &lt;dbl&gt; | diagnoz &lt;dbl&gt; | vozrast &lt;dbl&gt; | gender &lt;dbl&gt; | zadacha &lt;dbl&gt; | remissia &lt;dbl&gt; | dni zhil &lt;dbl&gt; | ⋯ ⋯ | MI 0 &lt;dbl&gt; | MI 1 &lt;dbl&gt; | MI 2 &lt;dbl&gt; | MI 3 &lt;dbl&gt; | MI11 &lt;dbl&gt; | НСТ0 &lt;dbl&gt; | НСТ1 &lt;dbl&gt; | НСТ2 &lt;dbl&gt; | НСТ3 &lt;dbl&gt; | НСТ11 &lt;dbl&gt; |\n|---|---|---|---|---|---|---|---|---|---|---|---|---|---|---|---|---|---|---|---|---|\n|  2 |  6 | 8 | 3 | 1 | 66 | 1 | 0 |  0 | 424 | ⋯ | 4.7 | 3.0 | 3.4 | 3.0 | 2.1 | 9 |  7 |  8 |  9 |  7 |\n|  7 |  9 | 6 | 1 | 2 | 50 | 0 | 0 | -2 | 646 | ⋯ | 3.0 | 4.0 | 2.4 | 4.0 | 3.2 | 4 |  5 |  3 | 14 |  4 |\n|  8 | 10 | 6 | 2 | 1 | 42 | 1 | 0 | -2 | 767 | ⋯ | 3.3 | 4.3 | 3.0 | 4.6 | 4.0 | 7 | 10 | 12 | 18 | 18 |\n| 11 |  5 | 8 | 3 | 1 | 54 | 0 | 0 | -2 | 564 | ⋯ | 3.0 | 3.0 | 5.2 | 3.8 | 3.0 | 5 |  2 |  7 | 10 | 12 |\n| 12 |  6 | 8 | 3 | 2 | 45 | 0 | 1 |  2 | 505 | ⋯ | 3.2 | 3.8 | 2.9 | 3.6 | 3.0 | 6 |  9 |  8 |  7 |  7 |\n| 22 |  6 | 9 | 2 | 1 | 56 | 0 | 1 |  1 | 414 | ⋯ | 2.8 | 2.4 | 2.3 | 3.2 | 3.0 | 5 |  7 |  7 | 10 |  3 |\n\n",
            "text/latex": "A tibble: 6 × 163\n\\begin{tabular}{lllllllllllllllllllll}\n N pacienta & N statusov & N vaccin & vaccina & diagnoz & vozrast & gender & zadacha & remissia & dni zhil & ⋯ & MI 0 & MI 1 & MI 2 & MI 3 & MI11 & НСТ0 & НСТ1 & НСТ2 & НСТ3 & НСТ11\\\\\n <dbl> & <dbl> & <dbl> & <dbl> & <dbl> & <dbl> & <dbl> & <dbl> & <dbl> & <dbl> & ⋯ & <dbl> & <dbl> & <dbl> & <dbl> & <dbl> & <dbl> & <dbl> & <dbl> & <dbl> & <dbl>\\\\\n\\hline\n\t  2 &  6 & 8 & 3 & 1 & 66 & 1 & 0 &  0 & 424 & ⋯ & 4.7 & 3.0 & 3.4 & 3.0 & 2.1 & 9 &  7 &  8 &  9 &  7\\\\\n\t  7 &  9 & 6 & 1 & 2 & 50 & 0 & 0 & -2 & 646 & ⋯ & 3.0 & 4.0 & 2.4 & 4.0 & 3.2 & 4 &  5 &  3 & 14 &  4\\\\\n\t  8 & 10 & 6 & 2 & 1 & 42 & 1 & 0 & -2 & 767 & ⋯ & 3.3 & 4.3 & 3.0 & 4.6 & 4.0 & 7 & 10 & 12 & 18 & 18\\\\\n\t 11 &  5 & 8 & 3 & 1 & 54 & 0 & 0 & -2 & 564 & ⋯ & 3.0 & 3.0 & 5.2 & 3.8 & 3.0 & 5 &  2 &  7 & 10 & 12\\\\\n\t 12 &  6 & 8 & 3 & 2 & 45 & 0 & 1 &  2 & 505 & ⋯ & 3.2 & 3.8 & 2.9 & 3.6 & 3.0 & 6 &  9 &  8 &  7 &  7\\\\\n\t 22 &  6 & 9 & 2 & 1 & 56 & 0 & 1 &  1 & 414 & ⋯ & 2.8 & 2.4 & 2.3 & 3.2 & 3.0 & 5 &  7 &  7 & 10 &  3\\\\\n\\end{tabular}\n",
            "text/plain": [
              "  N pacienta N statusov N vaccin vaccina diagnoz vozrast gender zadacha\n",
              "1  2          6         8        3       1       66      1      0      \n",
              "2  7          9         6        1       2       50      0      0      \n",
              "3  8         10         6        2       1       42      1      0      \n",
              "4 11          5         8        3       1       54      0      0      \n",
              "5 12          6         8        3       2       45      0      1      \n",
              "6 22          6         9        2       1       56      0      1      \n",
              "  remissia dni zhil ⋯ MI 0 MI 1 MI 2 MI 3 MI11 НСТ0 НСТ1 НСТ2 НСТ3 НСТ11\n",
              "1  0       424      ⋯ 4.7  3.0  3.4  3.0  2.1  9     7    8    9    7   \n",
              "2 -2       646      ⋯ 3.0  4.0  2.4  4.0  3.2  4     5    3   14    4   \n",
              "3 -2       767      ⋯ 3.3  4.3  3.0  4.6  4.0  7    10   12   18   18   \n",
              "4 -2       564      ⋯ 3.0  3.0  5.2  3.8  3.0  5     2    7   10   12   \n",
              "5  2       505      ⋯ 3.2  3.8  2.9  3.6  3.0  6     9    8    7    7   \n",
              "6  1       414      ⋯ 2.8  2.4  2.3  3.2  3.0  5     7    7   10    3   "
            ]
          },
          "metadata": {}
        }
      ],
      "source": [
        "df <- read_excel(\"/content/points5A.xlsx\",sheet=2)\n",
        "df <- na.omit (df)\n",
        "head(df)"
      ]
    },
    {
      "cell_type": "code",
      "source": [
        "df <- df[, c(\"dni zhil\", \"zhiv\", \"chimio\", \"gender\", \"IgA3\")]\n",
        "head(df)"
      ],
      "metadata": {
        "colab": {
          "base_uri": "https://localhost:8080/",
          "height": 72
        },
        "id": "QlMcOS-KY3b0",
        "outputId": "5a0ae956-02ca-4096-b9ba-826332fcd389"
      },
      "execution_count": null,
      "outputs": [
        {
          "output_type": "error",
          "ename": "ERROR",
          "evalue": "Error in df[, c(\"dni zhil\", \"zhiv\", \"chimio\", \"gender\", \"IgA3\")]: object of type 'closure' is not subsettable\n",
          "traceback": [
            "Error in df[, c(\"dni zhil\", \"zhiv\", \"chimio\", \"gender\", \"IgA3\")]: object of type 'closure' is not subsettable\nTraceback:\n"
          ]
        }
      ]
    },
    {
      "cell_type": "code",
      "source": [
        "boxplot(df$IgA3 ~ df$zhiv)"
      ],
      "metadata": {
        "colab": {
          "base_uri": "https://localhost:8080/",
          "height": 193
        },
        "id": "n9lrGyXQBpk5",
        "outputId": "3b9682ab-4f79-4bbc-8ad1-ff6376a3155b"
      },
      "execution_count": null,
      "outputs": [
        {
          "output_type": "error",
          "ename": "ERROR",
          "evalue": "Error in df$IgA3: object of type 'closure' is not subsettable\n",
          "traceback": [
            "Error in df$IgA3: object of type 'closure' is not subsettable\nTraceback:\n",
            "1. boxplot.formula(df$IgA3 ~ df$zhiv)",
            "2. eval(m, parent.frame())",
            "3. eval(m, parent.frame())",
            "4. stats::model.frame.default(formula = df$IgA3 ~ df$zhiv)",
            "5. eval(predvars, data, env)",
            "6. eval(predvars, data, env)"
          ]
        }
      ]
    },
    {
      "cell_type": "code",
      "source": [
        "df$zhiv"
      ],
      "metadata": {
        "id": "8mij09cFCCw0",
        "outputId": "126c65d2-8d0f-4a1a-d908-53786863fec6",
        "colab": {
          "base_uri": "https://localhost:8080/",
          "height": 72
        }
      },
      "execution_count": null,
      "outputs": [
        {
          "output_type": "error",
          "ename": "ERROR",
          "evalue": "Error in df$zhiv: object of type 'closure' is not subsettable\n",
          "traceback": [
            "Error in df$zhiv: object of type 'closure' is not subsettable\nTraceback:\n"
          ]
        }
      ]
    },
    {
      "cell_type": "code",
      "source": [
        "plot(df$zhiv, df$IgA3)"
      ],
      "metadata": {
        "colab": {
          "base_uri": "https://localhost:8080/",
          "height": 72
        },
        "id": "mf2bpPE-B0Za",
        "outputId": "de5d7ab2-3848-45c9-c0d7-aef7b880e1be"
      },
      "execution_count": null,
      "outputs": [
        {
          "output_type": "error",
          "ename": "ERROR",
          "evalue": "Error in df$zhiv: object of type 'closure' is not subsettable\n",
          "traceback": [
            "Error in df$zhiv: object of type 'closure' is not subsettable\nTraceback:\n"
          ]
        }
      ]
    },
    {
      "cell_type": "code",
      "source": [
        "names(df)"
      ],
      "metadata": {
        "colab": {
          "base_uri": "https://localhost:8080/",
          "height": 34
        },
        "id": "kg8pX7sfav5q",
        "outputId": "0bc1e0fe-2b43-49be-bd04-db003fd17999"
      },
      "execution_count": null,
      "outputs": [
        {
          "output_type": "display_data",
          "data": {
            "text/html": [
              "<style>\n",
              ".list-inline {list-style: none; margin:0; padding: 0}\n",
              ".list-inline>li {display: inline-block}\n",
              ".list-inline>li:not(:last-child)::after {content: \"\\00b7\"; padding: 0 .5ex}\n",
              "</style>\n",
              "<ol class=list-inline><li>'dni zhil'</li><li>'zhiv'</li><li>'chimio'</li><li>'gender'</li><li>'IgA3'</li></ol>\n"
            ],
            "text/markdown": "1. 'dni zhil'\n2. 'zhiv'\n3. 'chimio'\n4. 'gender'\n5. 'IgA3'\n\n\n",
            "text/latex": "\\begin{enumerate*}\n\\item 'dni zhil'\n\\item 'zhiv'\n\\item 'chimio'\n\\item 'gender'\n\\item 'IgA3'\n\\end{enumerate*}\n",
            "text/plain": [
              "[1] \"dni zhil\" \"zhiv\"     \"chimio\"   \"gender\"   \"IgA3\"    "
            ]
          },
          "metadata": {}
        }
      ]
    },
    {
      "cell_type": "code",
      "source": [
        "names(df) = c('dni_zhil','zhiv','chimio','gender','IgA3')"
      ],
      "metadata": {
        "id": "mhm1FzBMay1R"
      },
      "execution_count": null,
      "outputs": []
    },
    {
      "cell_type": "markdown",
      "source": [
        "Оставим нужные значения."
      ],
      "metadata": {
        "id": "cjEkD1W-b4_B"
      }
    },
    {
      "cell_type": "code",
      "source": [
        "df <- df[df[\"chimio\"] == 0,]\n",
        "head(df)"
      ],
      "metadata": {
        "colab": {
          "base_uri": "https://localhost:8080/",
          "height": 286
        },
        "id": "ClyVzbXucATZ",
        "outputId": "f047a5c3-1fc1-4b34-98b0-efd61aff55b7"
      },
      "execution_count": null,
      "outputs": [
        {
          "output_type": "display_data",
          "data": {
            "text/html": [
              "<table class=\"dataframe\">\n",
              "<caption>A tibble: 6 × 5</caption>\n",
              "<thead>\n",
              "\t<tr><th scope=col>dni_zhil</th><th scope=col>zhiv</th><th scope=col>chimio</th><th scope=col>gender</th><th scope=col>IgA3</th></tr>\n",
              "\t<tr><th scope=col>&lt;dbl&gt;</th><th scope=col>&lt;dbl&gt;</th><th scope=col>&lt;dbl&gt;</th><th scope=col>&lt;dbl&gt;</th><th scope=col>&lt;dbl&gt;</th></tr>\n",
              "</thead>\n",
              "<tbody>\n",
              "\t<tr><td>424</td><td>1</td><td>0</td><td>1</td><td>3.80</td></tr>\n",
              "\t<tr><td>646</td><td>0</td><td>0</td><td>0</td><td>1.40</td></tr>\n",
              "\t<tr><td>767</td><td>0</td><td>0</td><td>1</td><td>2.00</td></tr>\n",
              "\t<tr><td>564</td><td>0</td><td>0</td><td>0</td><td>2.70</td></tr>\n",
              "\t<tr><td>505</td><td>1</td><td>0</td><td>0</td><td>1.40</td></tr>\n",
              "\t<tr><td>414</td><td>1</td><td>0</td><td>0</td><td>1.45</td></tr>\n",
              "</tbody>\n",
              "</table>\n"
            ],
            "text/markdown": "\nA tibble: 6 × 5\n\n| dni_zhil &lt;dbl&gt; | zhiv &lt;dbl&gt; | chimio &lt;dbl&gt; | gender &lt;dbl&gt; | IgA3 &lt;dbl&gt; |\n|---|---|---|---|---|\n| 424 | 1 | 0 | 1 | 3.80 |\n| 646 | 0 | 0 | 0 | 1.40 |\n| 767 | 0 | 0 | 1 | 2.00 |\n| 564 | 0 | 0 | 0 | 2.70 |\n| 505 | 1 | 0 | 0 | 1.40 |\n| 414 | 1 | 0 | 0 | 1.45 |\n\n",
            "text/latex": "A tibble: 6 × 5\n\\begin{tabular}{lllll}\n dni\\_zhil & zhiv & chimio & gender & IgA3\\\\\n <dbl> & <dbl> & <dbl> & <dbl> & <dbl>\\\\\n\\hline\n\t 424 & 1 & 0 & 1 & 3.80\\\\\n\t 646 & 0 & 0 & 0 & 1.40\\\\\n\t 767 & 0 & 0 & 1 & 2.00\\\\\n\t 564 & 0 & 0 & 0 & 2.70\\\\\n\t 505 & 1 & 0 & 0 & 1.40\\\\\n\t 414 & 1 & 0 & 0 & 1.45\\\\\n\\end{tabular}\n",
            "text/plain": [
              "  dni_zhil zhiv chimio gender IgA3\n",
              "1 424      1    0      1      3.80\n",
              "2 646      0    0      0      1.40\n",
              "3 767      0    0      1      2.00\n",
              "4 564      0    0      0      2.70\n",
              "5 505      1    0      0      1.40\n",
              "6 414      1    0      0      1.45"
            ]
          },
          "metadata": {}
        }
      ]
    },
    {
      "cell_type": "code",
      "source": [
        "km <- survfit(Surv(dni_zhil, event = 1 - zhiv) ~ 1, data = df)\n",
        "print(km, print.rmean = TRUE)"
      ],
      "metadata": {
        "colab": {
          "base_uri": "https://localhost:8080/"
        },
        "id": "hXRI_Y6PZsoU",
        "outputId": "465a6588-3585-449e-a2fe-5e39fe36b15b"
      },
      "execution_count": null,
      "outputs": [
        {
          "output_type": "stream",
          "name": "stdout",
          "text": [
            "Call: survfit(formula = Surv(dni_zhil, event = 1 - zhiv) ~ 1, data = df)\n",
            "\n",
            "      n events rmean* se(rmean) median 0.95LCL 0.95UCL\n",
            "[1,] 30     17   1268       246    703     564      NA\n",
            "    * restricted mean with upper limit =  3061 \n"
          ]
        }
      ]
    },
    {
      "cell_type": "markdown",
      "source": [
        "Построим кривую дожития без указания цензурирования."
      ],
      "metadata": {
        "id": "zrQA67yabem6"
      }
    },
    {
      "cell_type": "code",
      "source": [
        "plot(km, mark.time = FALSE, col = 1, conf.int = FALSE, xlab = \"t\", ylab = \"S(t)\")"
      ],
      "metadata": {
        "colab": {
          "base_uri": "https://localhost:8080/",
          "height": 437
        },
        "id": "anvMMxyPbA1x",
        "outputId": "308c74e7-48e5-4917-bc79-08cdb789d1e8"
      },
      "execution_count": null,
      "outputs": [
        {
          "output_type": "display_data",
          "data": {
            "text/plain": [
              "plot without title"
            ],
            "image/png": "[encoded data removed]"
          },
          "metadata": {
            "image/png": {
              "width": 420,
              "height": 420
            }
          }
        }
      ]
    },
    {
      "cell_type": "markdown",
      "source": [
        "Добавим указание цензурирования."
      ],
      "metadata": {
        "id": "0d1zL6bvAUgp"
      }
    },
    {
      "cell_type": "code",
      "source": [
        "plot(km, mark.time = TRUE, col = 1, conf.int = FALSE, xlab = \"t\", ylab = \"S(t)\")"
      ],
      "metadata": {
        "colab": {
          "base_uri": "https://localhost:8080/",
          "height": 437
        },
        "id": "a2Y1YNhEAOvB",
        "outputId": "e664cadc-0b65-43f3-fe61-e9501a62bb43"
      },
      "execution_count": null,
      "outputs": [
        {
          "output_type": "display_data",
          "data": {
            "text/plain": [
              "plot without title"
            ],
            "image/png": "[encoded data removed]"
          },
          "metadata": {
            "image/png": {
              "width": 420,
              "height": 420
            }
          }
        }
      ]
    },
    {
      "cell_type": "markdown",
      "source": [
        "Посмотрим на кривую с указанием доверительного интервала."
      ],
      "metadata": {
        "id": "7Y1fqJ1tbmW5"
      }
    },
    {
      "cell_type": "code",
      "source": [
        "survfit2(Surv(dni_zhil, 1 - zhiv) ~ 1, data = df) %>%\n",
        "  ggsurvfit() +\n",
        "  labs(\n",
        "    x = \"t\",\n",
        "    y = \"S(t)\"\n",
        "  ) +\n",
        "  add_confidence_interval()"
      ],
      "metadata": {
        "colab": {
          "base_uri": "https://localhost:8080/",
          "height": 437
        },
        "id": "33ruJsl56pAJ",
        "outputId": "fd5d02a3-9263-43e8-f71c-d10a176fcd5e"
      },
      "execution_count": null,
      "outputs": [
        {
          "output_type": "display_data",
          "data": {
            "text/plain": [
              "plot without title"
            ],
            "image/png": "[encoded data removed]"
          },
          "metadata": {
            "image/png": {
              "width": 420,
              "height": 420
            }
          }
        }
      ]
    },
    {
      "cell_type": "markdown",
      "source": [
        "Сравним времена дожития внутри групп в зависимости от пола."
      ],
      "metadata": {
        "id": "cFIiEwLa7YnG"
      }
    },
    {
      "cell_type": "markdown",
      "source": [
        "Лог-ранговый критерий"
      ],
      "metadata": {
        "id": "0PNh8_Ux-GN1"
      }
    },
    {
      "cell_type": "code",
      "source": [
        "survdiff(Surv(dni_zhil, event = 1 - zhiv) ~ gender, data = df, rho = 0)"
      ],
      "metadata": {
        "colab": {
          "base_uri": "https://localhost:8080/",
          "height": 173
        },
        "id": "UvRtq886cvOg",
        "outputId": "e53ee282-6dae-46b1-ca80-3b6e0f571a93"
      },
      "execution_count": null,
      "outputs": [
        {
          "output_type": "display_data",
          "data": {
            "text/plain": [
              "Call:\n",
              "survdiff(formula = Surv(dni_zhil, event = 1 - zhiv) ~ gender, \n",
              "    data = df, rho = 0)\n",
              "\n",
              "          N Observed Expected (O-E)^2/E (O-E)^2/V\n",
              "gender=0 15        8     8.78    0.0700     0.146\n",
              "gender=1 15        9     8.22    0.0749     0.146\n",
              "\n",
              " Chisq= 0.1  on 1 degrees of freedom, p= 0.7 "
            ]
          },
          "metadata": {}
        }
      ]
    },
    {
      "cell_type": "markdown",
      "source": [
        "Гипотеза об однородности не отвергается."
      ],
      "metadata": {
        "id": "WAfNoO1tA0WO"
      }
    },
    {
      "cell_type": "markdown",
      "source": [
        "Характеристики кривых"
      ],
      "metadata": {
        "id": "J2xnEZ8S-K3o"
      }
    },
    {
      "cell_type": "code",
      "source": [
        "sf <- survfit(Surv(dni_zhil, event = 1 - zhiv) ~ gender, data = df)\n",
        "print(sf, print.rmean = TRUE)"
      ],
      "metadata": {
        "colab": {
          "base_uri": "https://localhost:8080/"
        },
        "id": "VtV_VrpH9dNW",
        "outputId": "c85104a6-653d-4b1c-fb41-5e9130a4cafa"
      },
      "execution_count": null,
      "outputs": [
        {
          "output_type": "stream",
          "name": "stdout",
          "text": [
            "Call: survfit(formula = Surv(dni_zhil, event = 1 - zhiv) ~ gender, \n",
            "    data = df)\n",
            "\n",
            "          n events rmean* se(rmean) median 0.95LCL 0.95UCL\n",
            "gender=0 15      8   1407       359    646     488      NA\n",
            "gender=1 15      9   1084       319    767     602      NA\n",
            "    * restricted mean with upper limit =  3061 \n"
          ]
        }
      ]
    },
    {
      "cell_type": "markdown",
      "source": [
        "Критерий Гехана-Вилкоксона"
      ],
      "metadata": {
        "id": "ljAcrQpYdvSA"
      }
    },
    {
      "cell_type": "code",
      "source": [
        "with(df, gehan.test(dni_zhil, 1 - zhiv, gender))"
      ],
      "metadata": {
        "colab": {
          "base_uri": "https://localhost:8080/",
          "height": 34
        },
        "id": "Achd1uNrdxxI",
        "outputId": "61a45453-81a2-4afa-f66d-d6f1538a9041"
      },
      "execution_count": null,
      "outputs": [
        {
          "output_type": "display_data",
          "data": {
            "text/plain": [
              "statistic =  -0.1503976 , p-value =  0.8804509 "
            ]
          },
          "metadata": {}
        }
      ]
    },
    {
      "cell_type": "markdown",
      "source": [
        "Графики в зависимости от пола пациента"
      ],
      "metadata": {
        "id": "9-zZ1Q_K-O5d"
      }
    },
    {
      "cell_type": "code",
      "source": [
        "survfit2(Surv(dni_zhil, 1 - zhiv) ~ gender, data = df) %>%\n",
        "  ggsurvfit() +\n",
        "  labs(\n",
        "    x = \"t\",\n",
        "    y = \"S(t)\"\n",
        "  )"
      ],
      "metadata": {
        "colab": {
          "base_uri": "https://localhost:8080/",
          "height": 437
        },
        "id": "-BQIBbuZ7nuZ",
        "outputId": "0ae7b10f-0e30-49c8-903b-1137f4f7ccc8"
      },
      "execution_count": null,
      "outputs": [
        {
          "output_type": "display_data",
          "data": {
            "text/plain": [
              "plot without title"
            ],
            "image/png": "[encoded data removed]"
          },
          "metadata": {
            "image/png": {
              "width": 420,
              "height": 420
            }
          }
        }
      ]
    },
    {
      "cell_type": "markdown",
      "source": [
        "Регрессионная модель Кокса"
      ],
      "metadata": {
        "id": "BOXWWtUX-YDQ"
      }
    },
    {
      "cell_type": "code",
      "source": [
        "summary(coxph(Surv(dni_zhil, 1 - zhiv) ~ IgA3, data = df))"
      ],
      "metadata": {
        "colab": {
          "base_uri": "https://localhost:8080/",
          "height": 277
        },
        "id": "lMmJO6wo-2ed",
        "outputId": "3ac186b2-cd26-434d-d297-b1621bd64b97"
      },
      "execution_count": null,
      "outputs": [
        {
          "output_type": "display_data",
          "data": {
            "text/plain": [
              "Call:\n",
              "coxph(formula = Surv(dni_zhil, 1 - zhiv) ~ IgA3, data = df)\n",
              "\n",
              "  n= 30, number of events= 17 \n",
              "\n",
              "       coef exp(coef) se(coef)     z Pr(>|z|)\n",
              "IgA3 0.3486    1.4172   0.2182 1.598     0.11\n",
              "\n",
              "     exp(coef) exp(-coef) lower .95 upper .95\n",
              "IgA3     1.417     0.7056    0.9241     2.173\n",
              "\n",
              "Concordance= 0.581  (se = 0.099 )\n",
              "Likelihood ratio test= 2.42  on 1 df,   p=0.1\n",
              "Wald test            = 2.55  on 1 df,   p=0.1\n",
              "Score (logrank) test = 2.6  on 1 df,   p=0.1\n"
            ]
          },
          "metadata": {}
        }
      ]
    }
  ]
}
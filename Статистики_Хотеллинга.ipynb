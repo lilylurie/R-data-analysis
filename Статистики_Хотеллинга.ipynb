{
  "nbformat": 4,
  "nbformat_minor": 0,
  "metadata": {
    "colab": {
      "provenance": []
    },
    "kernelspec": {
      "name": "python3",
      "display_name": "Python 3"
    },
    "language_info": {
      "name": "python"
    }
  },
  "cells": [
    {
      "cell_type": "code",
      "execution_count": null,
      "metadata": {
        "colab": {
          "base_uri": "https://localhost:8080/",
          "height": 306
        },
        "id": "IPYoVUdM22Ud",
        "outputId": "c7967195-8f84-453c-efae-6dce72a208cf"
      },
      "outputs": [
        {
          "output_type": "display_data",
          "data": {
            "text/html": [
              "<table class=\"dataframe\">\n",
              "<caption>A data.frame: 6 × 27</caption>\n",
              "<thead>\n",
              "\t<tr><th></th><th scope=col>prcod</th><th scope=col>intpla</th><th scope=col>sex</th><th scope=col>age</th><th scope=col>educat</th><th scope=col>curwor</th><th scope=col>asi1_med</th><th scope=col>asi2_emp</th><th scope=col>asi3_alc</th><th scope=col>asi4_dr</th><th scope=col>⋯</th><th scope=col>ha</th><th scope=col>se</th><th scope=col>cravin</th><th scope=col>rabdru</th><th scope=col>rubsex</th><th scope=col>gaf</th><th scope=col>bdi</th><th scope=col>sstati</th><th scope=col>end</th><th scope=col>endpo</th></tr>\n",
              "\t<tr><th></th><th scope=col>&lt;int&gt;</th><th scope=col>&lt;int&gt;</th><th scope=col>&lt;int&gt;</th><th scope=col>&lt;int&gt;</th><th scope=col>&lt;int&gt;</th><th scope=col>&lt;int&gt;</th><th scope=col>&lt;dbl&gt;</th><th scope=col>&lt;dbl&gt;</th><th scope=col>&lt;dbl&gt;</th><th scope=col>&lt;dbl&gt;</th><th scope=col>⋯</th><th scope=col>&lt;int&gt;</th><th scope=col>&lt;int&gt;</th><th scope=col>&lt;dbl&gt;</th><th scope=col>&lt;dbl&gt;</th><th scope=col>&lt;int&gt;</th><th scope=col>&lt;int&gt;</th><th scope=col>&lt;int&gt;</th><th scope=col>&lt;int&gt;</th><th scope=col>&lt;int&gt;</th><th scope=col>&lt;int&gt;</th></tr>\n",
              "</thead>\n",
              "<tbody>\n",
              "\t<tr><th scope=row>1</th><td>4</td><td>1</td><td>0</td><td>18</td><td>1</td><td>1</td><td>0.19</td><td>0.70</td><td>0.120</td><td>0.30</td><td>⋯</td><td>1</td><td>0</td><td> 4.6</td><td> 1</td><td>4</td><td>55</td><td>25</td><td>60</td><td>0</td><td>5</td></tr>\n",
              "\t<tr><th scope=row>2</th><td>2</td><td>2</td><td>1</td><td>30</td><td>4</td><td>1</td><td>0.44</td><td>0.23</td><td>0.006</td><td>0.27</td><td>⋯</td><td>0</td><td>0</td><td> 9.7</td><td> 4</td><td>5</td><td>55</td><td>39</td><td>50</td><td>0</td><td>5</td></tr>\n",
              "\t<tr><th scope=row>3</th><td>2</td><td>1</td><td>0</td><td>23</td><td>2</td><td>0</td><td>0.50</td><td>1.00</td><td>0.300</td><td>0.30</td><td>⋯</td><td>0</td><td>0</td><td> 9.5</td><td> 6</td><td>1</td><td>45</td><td>29</td><td>55</td><td>0</td><td>2</td></tr>\n",
              "\t<tr><th scope=row>4</th><td>4</td><td>1</td><td>0</td><td>20</td><td>2</td><td>1</td><td>0.00</td><td>0.80</td><td>0.050</td><td>0.26</td><td>⋯</td><td>1</td><td>0</td><td> 2.7</td><td>11</td><td>4</td><td>40</td><td>28</td><td>58</td><td>0</td><td>5</td></tr>\n",
              "\t<tr><th scope=row>5</th><td>3</td><td>2</td><td>0</td><td>20</td><td>2</td><td>0</td><td>0.00</td><td>0.75</td><td>0.780</td><td>0.23</td><td>⋯</td><td>0</td><td>0</td><td> 3.0</td><td>19</td><td>4</td><td>40</td><td>28</td><td>58</td><td>0</td><td>2</td></tr>\n",
              "\t<tr><th scope=row>6</th><td>1</td><td>1</td><td>0</td><td>24</td><td>2</td><td>0</td><td>0.52</td><td>0.50</td><td>0.100</td><td>0.30</td><td>⋯</td><td>0</td><td>0</td><td>10.0</td><td> 3</td><td>2</td><td>41</td><td>33</td><td>68</td><td>0</td><td>2</td></tr>\n",
              "</tbody>\n",
              "</table>\n"
            ],
            "text/markdown": "\nA data.frame: 6 × 27\n\n| <!--/--> | prcod &lt;int&gt; | intpla &lt;int&gt; | sex &lt;int&gt; | age &lt;int&gt; | educat &lt;int&gt; | curwor &lt;int&gt; | asi1_med &lt;dbl&gt; | asi2_emp &lt;dbl&gt; | asi3_alc &lt;dbl&gt; | asi4_dr &lt;dbl&gt; | ⋯ ⋯ | ha &lt;int&gt; | se &lt;int&gt; | cravin &lt;dbl&gt; | rabdru &lt;dbl&gt; | rubsex &lt;int&gt; | gaf &lt;int&gt; | bdi &lt;int&gt; | sstati &lt;int&gt; | end &lt;int&gt; | endpo &lt;int&gt; |\n|---|---|---|---|---|---|---|---|---|---|---|---|---|---|---|---|---|---|---|---|---|---|\n| 1 | 4 | 1 | 0 | 18 | 1 | 1 | 0.19 | 0.70 | 0.120 | 0.30 | ⋯ | 1 | 0 |  4.6 |  1 | 4 | 55 | 25 | 60 | 0 | 5 |\n| 2 | 2 | 2 | 1 | 30 | 4 | 1 | 0.44 | 0.23 | 0.006 | 0.27 | ⋯ | 0 | 0 |  9.7 |  4 | 5 | 55 | 39 | 50 | 0 | 5 |\n| 3 | 2 | 1 | 0 | 23 | 2 | 0 | 0.50 | 1.00 | 0.300 | 0.30 | ⋯ | 0 | 0 |  9.5 |  6 | 1 | 45 | 29 | 55 | 0 | 2 |\n| 4 | 4 | 1 | 0 | 20 | 2 | 1 | 0.00 | 0.80 | 0.050 | 0.26 | ⋯ | 1 | 0 |  2.7 | 11 | 4 | 40 | 28 | 58 | 0 | 5 |\n| 5 | 3 | 2 | 0 | 20 | 2 | 0 | 0.00 | 0.75 | 0.780 | 0.23 | ⋯ | 0 | 0 |  3.0 | 19 | 4 | 40 | 28 | 58 | 0 | 2 |\n| 6 | 1 | 1 | 0 | 24 | 2 | 0 | 0.52 | 0.50 | 0.100 | 0.30 | ⋯ | 0 | 0 | 10.0 |  3 | 2 | 41 | 33 | 68 | 0 | 2 |\n\n",
            "text/latex": "A data.frame: 6 × 27\n\\begin{tabular}{r|lllllllllllllllllllll}\n  & prcod & intpla & sex & age & educat & curwor & asi1\\_med & asi2\\_emp & asi3\\_alc & asi4\\_dr & ⋯ & ha & se & cravin & rabdru & rubsex & gaf & bdi & sstati & end & endpo\\\\\n  & <int> & <int> & <int> & <int> & <int> & <int> & <dbl> & <dbl> & <dbl> & <dbl> & ⋯ & <int> & <int> & <dbl> & <dbl> & <int> & <int> & <int> & <int> & <int> & <int>\\\\\n\\hline\n\t1 & 4 & 1 & 0 & 18 & 1 & 1 & 0.19 & 0.70 & 0.120 & 0.30 & ⋯ & 1 & 0 &  4.6 &  1 & 4 & 55 & 25 & 60 & 0 & 5\\\\\n\t2 & 2 & 2 & 1 & 30 & 4 & 1 & 0.44 & 0.23 & 0.006 & 0.27 & ⋯ & 0 & 0 &  9.7 &  4 & 5 & 55 & 39 & 50 & 0 & 5\\\\\n\t3 & 2 & 1 & 0 & 23 & 2 & 0 & 0.50 & 1.00 & 0.300 & 0.30 & ⋯ & 0 & 0 &  9.5 &  6 & 1 & 45 & 29 & 55 & 0 & 2\\\\\n\t4 & 4 & 1 & 0 & 20 & 2 & 1 & 0.00 & 0.80 & 0.050 & 0.26 & ⋯ & 1 & 0 &  2.7 & 11 & 4 & 40 & 28 & 58 & 0 & 5\\\\\n\t5 & 3 & 2 & 0 & 20 & 2 & 0 & 0.00 & 0.75 & 0.780 & 0.23 & ⋯ & 0 & 0 &  3.0 & 19 & 4 & 40 & 28 & 58 & 0 & 2\\\\\n\t6 & 1 & 1 & 0 & 24 & 2 & 0 & 0.52 & 0.50 & 0.100 & 0.30 & ⋯ & 0 & 0 & 10.0 &  3 & 2 & 41 & 33 & 68 & 0 & 2\\\\\n\\end{tabular}\n",
            "text/plain": [
              "  prcod intpla sex age educat curwor asi1_med asi2_emp asi3_alc asi4_dr ⋯ ha se\n",
              "1 4     1      0   18  1      1      0.19     0.70     0.120    0.30    ⋯ 1  0 \n",
              "2 2     2      1   30  4      1      0.44     0.23     0.006    0.27    ⋯ 0  0 \n",
              "3 2     1      0   23  2      0      0.50     1.00     0.300    0.30    ⋯ 0  0 \n",
              "4 4     1      0   20  2      1      0.00     0.80     0.050    0.26    ⋯ 1  0 \n",
              "5 3     2      0   20  2      0      0.00     0.75     0.780    0.23    ⋯ 0  0 \n",
              "6 1     1      0   24  2      0      0.52     0.50     0.100    0.30    ⋯ 0  0 \n",
              "  cravin rabdru rubsex gaf bdi sstati end endpo\n",
              "1  4.6    1     4      55  25  60     0   5    \n",
              "2  9.7    4     5      55  39  50     0   5    \n",
              "3  9.5    6     1      45  29  55     0   2    \n",
              "4  2.7   11     4      40  28  58     0   5    \n",
              "5  3.0   19     4      40  28  58     0   2    \n",
              "6 10.0    3     2      41  33  68     0   2    "
            ]
          },
          "metadata": {}
        }
      ],
      "source": [
        "df <- read.csv(\"/content/addicts.txt\", sep = \"\\t\")\n",
        "df <- na.omit(df)\n",
        "head(df)"
      ]
    },
    {
      "cell_type": "code",
      "source": [
        "names(df)"
      ],
      "metadata": {
        "colab": {
          "base_uri": "https://localhost:8080/",
          "height": 34
        },
        "id": "8vybgp8H3f9w",
        "outputId": "a4d27c54-0e9d-4eb9-91f5-8fd8de8536b7"
      },
      "execution_count": null,
      "outputs": [
        {
          "output_type": "display_data",
          "data": {
            "text/html": [
              "<style>\n",
              ".list-inline {list-style: none; margin:0; padding: 0}\n",
              ".list-inline>li {display: inline-block}\n",
              ".list-inline>li:not(:last-child)::after {content: \"\\00b7\"; padding: 0 .5ex}\n",
              "</style>\n",
              "<ol class=list-inline><li>'prcod'</li><li>'intpla'</li><li>'sex'</li><li>'age'</li><li>'educat'</li><li>'curwor'</li><li>'asi1_med'</li><li>'asi2_emp'</li><li>'asi3_alc'</li><li>'asi4_dr'</li><li>'asi5_leg'</li><li>'asi6_fam'</li><li>'asi7_psy'</li><li>'asid3_dyr'</li><li>'tlfba2'</li><li>'tlfbh2'</li><li>'st'</li><li>'ha'</li><li>'se'</li><li>'cravin'</li><li>'rabdru'</li><li>'rubsex'</li><li>'gaf'</li><li>'bdi'</li><li>'sstati'</li><li>'end'</li><li>'endpo'</li></ol>\n"
            ],
            "text/markdown": "1. 'prcod'\n2. 'intpla'\n3. 'sex'\n4. 'age'\n5. 'educat'\n6. 'curwor'\n7. 'asi1_med'\n8. 'asi2_emp'\n9. 'asi3_alc'\n10. 'asi4_dr'\n11. 'asi5_leg'\n12. 'asi6_fam'\n13. 'asi7_psy'\n14. 'asid3_dyr'\n15. 'tlfba2'\n16. 'tlfbh2'\n17. 'st'\n18. 'ha'\n19. 'se'\n20. 'cravin'\n21. 'rabdru'\n22. 'rubsex'\n23. 'gaf'\n24. 'bdi'\n25. 'sstati'\n26. 'end'\n27. 'endpo'\n\n\n",
            "text/latex": "\\begin{enumerate*}\n\\item 'prcod'\n\\item 'intpla'\n\\item 'sex'\n\\item 'age'\n\\item 'educat'\n\\item 'curwor'\n\\item 'asi1\\_med'\n\\item 'asi2\\_emp'\n\\item 'asi3\\_alc'\n\\item 'asi4\\_dr'\n\\item 'asi5\\_leg'\n\\item 'asi6\\_fam'\n\\item 'asi7\\_psy'\n\\item 'asid3\\_dyr'\n\\item 'tlfba2'\n\\item 'tlfbh2'\n\\item 'st'\n\\item 'ha'\n\\item 'se'\n\\item 'cravin'\n\\item 'rabdru'\n\\item 'rubsex'\n\\item 'gaf'\n\\item 'bdi'\n\\item 'sstati'\n\\item 'end'\n\\item 'endpo'\n\\end{enumerate*}\n",
            "text/plain": [
              " [1] \"prcod\"     \"intpla\"    \"sex\"       \"age\"       \"educat\"    \"curwor\"   \n",
              " [7] \"asi1_med\"  \"asi2_emp\"  \"asi3_alc\"  \"asi4_dr\"   \"asi5_leg\"  \"asi6_fam\" \n",
              "[13] \"asi7_psy\"  \"asid3_dyr\" \"tlfba2\"    \"tlfbh2\"    \"st\"        \"ha\"       \n",
              "[19] \"se\"        \"cravin\"    \"rabdru\"    \"rubsex\"    \"gaf\"       \"bdi\"      \n",
              "[25] \"sstati\"    \"end\"       \"endpo\"    "
            ]
          },
          "metadata": {}
        }
      ]
    },
    {
      "cell_type": "markdown",
      "source": [
        "Оставим нужные признаки."
      ],
      "metadata": {
        "id": "tcOMbitV3iRn"
      }
    },
    {
      "cell_type": "code",
      "source": [
        "df_hot <- df[, c('asi1_med','asi2_emp','asi3_alc','asi4_dr','asi5_leg','asi6_fam','asi7_psy','asid3_dyr', 'se', 'prcod')]\n",
        "head(df_hot)"
      ],
      "metadata": {
        "colab": {
          "base_uri": "https://localhost:8080/",
          "height": 286
        },
        "id": "lufTnpXm3h5_",
        "outputId": "5de11380-67fa-45b8-bb2c-fb5bbc32fb38"
      },
      "execution_count": null,
      "outputs": [
        {
          "output_type": "display_data",
          "data": {
            "text/html": [
              "<table class=\"dataframe\">\n",
              "<caption>A data.frame: 6 × 10</caption>\n",
              "<thead>\n",
              "\t<tr><th></th><th scope=col>asi1_med</th><th scope=col>asi2_emp</th><th scope=col>asi3_alc</th><th scope=col>asi4_dr</th><th scope=col>asi5_leg</th><th scope=col>asi6_fam</th><th scope=col>asi7_psy</th><th scope=col>asid3_dyr</th><th scope=col>se</th><th scope=col>prcod</th></tr>\n",
              "\t<tr><th></th><th scope=col>&lt;dbl&gt;</th><th scope=col>&lt;dbl&gt;</th><th scope=col>&lt;dbl&gt;</th><th scope=col>&lt;dbl&gt;</th><th scope=col>&lt;dbl&gt;</th><th scope=col>&lt;dbl&gt;</th><th scope=col>&lt;dbl&gt;</th><th scope=col>&lt;dbl&gt;</th><th scope=col>&lt;int&gt;</th><th scope=col>&lt;int&gt;</th></tr>\n",
              "</thead>\n",
              "<tbody>\n",
              "\t<tr><th scope=row>1</th><td>0.19</td><td>0.70</td><td>0.120</td><td>0.30</td><td>0.06</td><td>0.50</td><td>0.20</td><td>3</td><td>0</td><td>4</td></tr>\n",
              "\t<tr><th scope=row>2</th><td>0.44</td><td>0.23</td><td>0.006</td><td>0.27</td><td>0.00</td><td>0.62</td><td>0.00</td><td>1</td><td>0</td><td>2</td></tr>\n",
              "\t<tr><th scope=row>3</th><td>0.50</td><td>1.00</td><td>0.300</td><td>0.30</td><td>0.07</td><td>0.60</td><td>0.20</td><td>5</td><td>0</td><td>2</td></tr>\n",
              "\t<tr><th scope=row>4</th><td>0.00</td><td>0.80</td><td>0.050</td><td>0.26</td><td>0.00</td><td>0.39</td><td>0.22</td><td>2</td><td>0</td><td>4</td></tr>\n",
              "\t<tr><th scope=row>5</th><td>0.00</td><td>0.75</td><td>0.780</td><td>0.23</td><td>0.00</td><td>0.70</td><td>0.61</td><td>4</td><td>0</td><td>3</td></tr>\n",
              "\t<tr><th scope=row>6</th><td>0.52</td><td>0.50</td><td>0.100</td><td>0.30</td><td>0.07</td><td>0.63</td><td>0.49</td><td>3</td><td>0</td><td>1</td></tr>\n",
              "</tbody>\n",
              "</table>\n"
            ],
            "text/markdown": "\nA data.frame: 6 × 10\n\n| <!--/--> | asi1_med &lt;dbl&gt; | asi2_emp &lt;dbl&gt; | asi3_alc &lt;dbl&gt; | asi4_dr &lt;dbl&gt; | asi5_leg &lt;dbl&gt; | asi6_fam &lt;dbl&gt; | asi7_psy &lt;dbl&gt; | asid3_dyr &lt;dbl&gt; | se &lt;int&gt; | prcod &lt;int&gt; |\n|---|---|---|---|---|---|---|---|---|---|---|\n| 1 | 0.19 | 0.70 | 0.120 | 0.30 | 0.06 | 0.50 | 0.20 | 3 | 0 | 4 |\n| 2 | 0.44 | 0.23 | 0.006 | 0.27 | 0.00 | 0.62 | 0.00 | 1 | 0 | 2 |\n| 3 | 0.50 | 1.00 | 0.300 | 0.30 | 0.07 | 0.60 | 0.20 | 5 | 0 | 2 |\n| 4 | 0.00 | 0.80 | 0.050 | 0.26 | 0.00 | 0.39 | 0.22 | 2 | 0 | 4 |\n| 5 | 0.00 | 0.75 | 0.780 | 0.23 | 0.00 | 0.70 | 0.61 | 4 | 0 | 3 |\n| 6 | 0.52 | 0.50 | 0.100 | 0.30 | 0.07 | 0.63 | 0.49 | 3 | 0 | 1 |\n\n",
            "text/latex": "A data.frame: 6 × 10\n\\begin{tabular}{r|llllllllll}\n  & asi1\\_med & asi2\\_emp & asi3\\_alc & asi4\\_dr & asi5\\_leg & asi6\\_fam & asi7\\_psy & asid3\\_dyr & se & prcod\\\\\n  & <dbl> & <dbl> & <dbl> & <dbl> & <dbl> & <dbl> & <dbl> & <dbl> & <int> & <int>\\\\\n\\hline\n\t1 & 0.19 & 0.70 & 0.120 & 0.30 & 0.06 & 0.50 & 0.20 & 3 & 0 & 4\\\\\n\t2 & 0.44 & 0.23 & 0.006 & 0.27 & 0.00 & 0.62 & 0.00 & 1 & 0 & 2\\\\\n\t3 & 0.50 & 1.00 & 0.300 & 0.30 & 0.07 & 0.60 & 0.20 & 5 & 0 & 2\\\\\n\t4 & 0.00 & 0.80 & 0.050 & 0.26 & 0.00 & 0.39 & 0.22 & 2 & 0 & 4\\\\\n\t5 & 0.00 & 0.75 & 0.780 & 0.23 & 0.00 & 0.70 & 0.61 & 4 & 0 & 3\\\\\n\t6 & 0.52 & 0.50 & 0.100 & 0.30 & 0.07 & 0.63 & 0.49 & 3 & 0 & 1\\\\\n\\end{tabular}\n",
            "text/plain": [
              "  asi1_med asi2_emp asi3_alc asi4_dr asi5_leg asi6_fam asi7_psy asid3_dyr se\n",
              "1 0.19     0.70     0.120    0.30    0.06     0.50     0.20     3         0 \n",
              "2 0.44     0.23     0.006    0.27    0.00     0.62     0.00     1         0 \n",
              "3 0.50     1.00     0.300    0.30    0.07     0.60     0.20     5         0 \n",
              "4 0.00     0.80     0.050    0.26    0.00     0.39     0.22     2         0 \n",
              "5 0.00     0.75     0.780    0.23    0.00     0.70     0.61     4         0 \n",
              "6 0.52     0.50     0.100    0.30    0.07     0.63     0.49     3         0 \n",
              "  prcod\n",
              "1 4    \n",
              "2 2    \n",
              "3 2    \n",
              "4 4    \n",
              "5 3    \n",
              "6 1    "
            ]
          },
          "metadata": {}
        }
      ]
    },
    {
      "cell_type": "markdown",
      "source": [
        "### Однородность независимых выборок"
      ],
      "metadata": {
        "id": "eLsW-14yw1z2"
      }
    },
    {
      "cell_type": "code",
      "source": [
        "install.packages(\"Hotelling\")\n",
        "library(Hotelling)"
      ],
      "metadata": {
        "colab": {
          "base_uri": "https://localhost:8080/"
        },
        "id": "Q_GlFuctxnDe",
        "outputId": "6f55bc0e-52ed-4c03-8f8e-909e0b86a836"
      },
      "execution_count": null,
      "outputs": [
        {
          "output_type": "stream",
          "name": "stderr",
          "text": [
            "Installing package into ‘/usr/local/lib/R/site-library’\n",
            "(as ‘lib’ is unspecified)\n",
            "\n",
            "Installing package into ‘/usr/local/lib/R/site-library’\n",
            "(as ‘lib’ is unspecified)\n",
            "\n",
            "also installing the dependencies ‘pcaPP’, ‘DEoptimR’, ‘rrcov’, ‘mvtnorm’, ‘robustbase’\n",
            "\n",
            "\n",
            "\n",
            "Attaching package: ‘MVTests’\n",
            "\n",
            "\n",
            "The following object is masked from ‘package:datasets’:\n",
            "\n",
            "    iris\n",
            "\n",
            "\n"
          ]
        }
      ]
    },
    {
      "cell_type": "code",
      "source": [
        "df0 <- df_hot[df_hot$se == 0, ]\n",
        "df1 <- df_hot[df_hot$se == 1, ]\n",
        "head(df1)"
      ],
      "metadata": {
        "colab": {
          "base_uri": "https://localhost:8080/",
          "height": 286
        },
        "id": "w0aNw1htw5T1",
        "outputId": "1605fa6e-93db-40f9-8e12-b5314cd7961b"
      },
      "execution_count": null,
      "outputs": [
        {
          "output_type": "display_data",
          "data": {
            "text/html": [
              "<table class=\"dataframe\">\n",
              "<caption>A data.frame: 6 × 10</caption>\n",
              "<thead>\n",
              "\t<tr><th></th><th scope=col>asi1_med</th><th scope=col>asi2_emp</th><th scope=col>asi3_alc</th><th scope=col>asi4_dr</th><th scope=col>asi5_leg</th><th scope=col>asi6_fam</th><th scope=col>asi7_psy</th><th scope=col>asid3_dyr</th><th scope=col>se</th><th scope=col>prcod</th></tr>\n",
              "\t<tr><th></th><th scope=col>&lt;dbl&gt;</th><th scope=col>&lt;dbl&gt;</th><th scope=col>&lt;dbl&gt;</th><th scope=col>&lt;dbl&gt;</th><th scope=col>&lt;dbl&gt;</th><th scope=col>&lt;dbl&gt;</th><th scope=col>&lt;dbl&gt;</th><th scope=col>&lt;dbl&gt;</th><th scope=col>&lt;int&gt;</th><th scope=col>&lt;int&gt;</th></tr>\n",
              "</thead>\n",
              "<tbody>\n",
              "\t<tr><th scope=row>31</th><td>0.00</td><td>1</td><td>0.08</td><td>0.27</td><td>0.20</td><td>0.63</td><td>0.54</td><td>4</td><td>1</td><td>2</td></tr>\n",
              "\t<tr><th scope=row>34</th><td>0.57</td><td>1</td><td>0.01</td><td>0.27</td><td>0.02</td><td>0.33</td><td>0.66</td><td>3</td><td>1</td><td>2</td></tr>\n",
              "\t<tr><th scope=row>47</th><td>0.00</td><td>1</td><td>0.79</td><td>0.66</td><td>0.80</td><td>0.05</td><td>0.41</td><td>5</td><td>1</td><td>3</td></tr>\n",
              "\t<tr><th scope=row>48</th><td>0.00</td><td>1</td><td>0.01</td><td>0.24</td><td>0.00</td><td>0.04</td><td>0.38</td><td>1</td><td>1</td><td>3</td></tr>\n",
              "\t<tr><th scope=row>59</th><td>0.00</td><td>1</td><td>0.00</td><td>0.22</td><td>0.60</td><td>0.60</td><td>0.51</td><td>1</td><td>1</td><td>4</td></tr>\n",
              "\t<tr><th scope=row>61</th><td>0.00</td><td>1</td><td>0.00</td><td>0.30</td><td>0.40</td><td>0.35</td><td>0.00</td><td>4</td><td>1</td><td>1</td></tr>\n",
              "</tbody>\n",
              "</table>\n"
            ],
            "text/markdown": "\nA data.frame: 6 × 10\n\n| <!--/--> | asi1_med &lt;dbl&gt; | asi2_emp &lt;dbl&gt; | asi3_alc &lt;dbl&gt; | asi4_dr &lt;dbl&gt; | asi5_leg &lt;dbl&gt; | asi6_fam &lt;dbl&gt; | asi7_psy &lt;dbl&gt; | asid3_dyr &lt;dbl&gt; | se &lt;int&gt; | prcod &lt;int&gt; |\n|---|---|---|---|---|---|---|---|---|---|---|\n| 31 | 0.00 | 1 | 0.08 | 0.27 | 0.20 | 0.63 | 0.54 | 4 | 1 | 2 |\n| 34 | 0.57 | 1 | 0.01 | 0.27 | 0.02 | 0.33 | 0.66 | 3 | 1 | 2 |\n| 47 | 0.00 | 1 | 0.79 | 0.66 | 0.80 | 0.05 | 0.41 | 5 | 1 | 3 |\n| 48 | 0.00 | 1 | 0.01 | 0.24 | 0.00 | 0.04 | 0.38 | 1 | 1 | 3 |\n| 59 | 0.00 | 1 | 0.00 | 0.22 | 0.60 | 0.60 | 0.51 | 1 | 1 | 4 |\n| 61 | 0.00 | 1 | 0.00 | 0.30 | 0.40 | 0.35 | 0.00 | 4 | 1 | 1 |\n\n",
            "text/latex": "A data.frame: 6 × 10\n\\begin{tabular}{r|llllllllll}\n  & asi1\\_med & asi2\\_emp & asi3\\_alc & asi4\\_dr & asi5\\_leg & asi6\\_fam & asi7\\_psy & asid3\\_dyr & se & prcod\\\\\n  & <dbl> & <dbl> & <dbl> & <dbl> & <dbl> & <dbl> & <dbl> & <dbl> & <int> & <int>\\\\\n\\hline\n\t31 & 0.00 & 1 & 0.08 & 0.27 & 0.20 & 0.63 & 0.54 & 4 & 1 & 2\\\\\n\t34 & 0.57 & 1 & 0.01 & 0.27 & 0.02 & 0.33 & 0.66 & 3 & 1 & 2\\\\\n\t47 & 0.00 & 1 & 0.79 & 0.66 & 0.80 & 0.05 & 0.41 & 5 & 1 & 3\\\\\n\t48 & 0.00 & 1 & 0.01 & 0.24 & 0.00 & 0.04 & 0.38 & 1 & 1 & 3\\\\\n\t59 & 0.00 & 1 & 0.00 & 0.22 & 0.60 & 0.60 & 0.51 & 1 & 1 & 4\\\\\n\t61 & 0.00 & 1 & 0.00 & 0.30 & 0.40 & 0.35 & 0.00 & 4 & 1 & 1\\\\\n\\end{tabular}\n",
            "text/plain": [
              "   asi1_med asi2_emp asi3_alc asi4_dr asi5_leg asi6_fam asi7_psy asid3_dyr se\n",
              "31 0.00     1        0.08     0.27    0.20     0.63     0.54     4         1 \n",
              "34 0.57     1        0.01     0.27    0.02     0.33     0.66     3         1 \n",
              "47 0.00     1        0.79     0.66    0.80     0.05     0.41     5         1 \n",
              "48 0.00     1        0.01     0.24    0.00     0.04     0.38     1         1 \n",
              "59 0.00     1        0.00     0.22    0.60     0.60     0.51     1         1 \n",
              "61 0.00     1        0.00     0.30    0.40     0.35     0.00     4         1 \n",
              "   prcod\n",
              "31 2    \n",
              "34 2    \n",
              "47 3    \n",
              "48 3    \n",
              "59 4    \n",
              "61 1    "
            ]
          },
          "metadata": {}
        }
      ]
    },
    {
      "cell_type": "code",
      "source": [
        "print(hotelling.test(df0[, 1:8], df1[, 1:8]))"
      ],
      "metadata": {
        "colab": {
          "base_uri": "https://localhost:8080/"
        },
        "id": "UCZFiqdmxabm",
        "outputId": "57796685-9a05-4542-9031-fd423e15fffe"
      },
      "execution_count": null,
      "outputs": [
        {
          "output_type": "stream",
          "name": "stdout",
          "text": [
            "Test stat:  67.203 \n",
            "Numerator df:  8 \n",
            "Denominator df:  262 \n",
            "P-value:  7.055e-10 \n"
          ]
        }
      ]
    },
    {
      "cell_type": "code",
      "source": [
        "install.packages(\"MVTests\")\n",
        "library(MVTests)"
      ],
      "metadata": {
        "colab": {
          "base_uri": "https://localhost:8080/"
        },
        "id": "rmYk17V_HClU",
        "outputId": "17bf91ca-7dd9-4445-cbb6-fdb1f69d8324"
      },
      "execution_count": null,
      "outputs": [
        {
          "output_type": "stream",
          "name": "stderr",
          "text": [
            "Installing package into ‘/usr/local/lib/R/site-library’\n",
            "(as ‘lib’ is unspecified)\n",
            "\n",
            "also installing the dependencies ‘pcaPP’, ‘DEoptimR’, ‘rrcov’, ‘mvtnorm’, ‘robustbase’\n",
            "\n",
            "\n",
            "\n",
            "Attaching package: ‘MVTests’\n",
            "\n",
            "\n",
            "The following object is masked from ‘package:datasets’:\n",
            "\n",
            "    iris\n",
            "\n",
            "\n"
          ]
        }
      ]
    },
    {
      "cell_type": "code",
      "source": [
        "df_hot[df_hot$se == 0, ]$se <- 2\n",
        "head(df_hot)"
      ],
      "metadata": {
        "colab": {
          "base_uri": "https://localhost:8080/",
          "height": 286
        },
        "id": "7N63HtijHeTO",
        "outputId": "91b64337-f252-4232-b562-dcb638f96b71"
      },
      "execution_count": null,
      "outputs": [
        {
          "output_type": "display_data",
          "data": {
            "text/html": [
              "<table class=\"dataframe\">\n",
              "<caption>A data.frame: 6 × 10</caption>\n",
              "<thead>\n",
              "\t<tr><th></th><th scope=col>asi1_med</th><th scope=col>asi2_emp</th><th scope=col>asi3_alc</th><th scope=col>asi4_dr</th><th scope=col>asi5_leg</th><th scope=col>asi6_fam</th><th scope=col>asi7_psy</th><th scope=col>asid3_dyr</th><th scope=col>se</th><th scope=col>prcod</th></tr>\n",
              "\t<tr><th></th><th scope=col>&lt;dbl&gt;</th><th scope=col>&lt;dbl&gt;</th><th scope=col>&lt;dbl&gt;</th><th scope=col>&lt;dbl&gt;</th><th scope=col>&lt;dbl&gt;</th><th scope=col>&lt;dbl&gt;</th><th scope=col>&lt;dbl&gt;</th><th scope=col>&lt;dbl&gt;</th><th scope=col>&lt;dbl&gt;</th><th scope=col>&lt;int&gt;</th></tr>\n",
              "</thead>\n",
              "<tbody>\n",
              "\t<tr><th scope=row>1</th><td>0.19</td><td>0.70</td><td>0.120</td><td>0.30</td><td>0.06</td><td>0.50</td><td>0.20</td><td>3</td><td>2</td><td>4</td></tr>\n",
              "\t<tr><th scope=row>2</th><td>0.44</td><td>0.23</td><td>0.006</td><td>0.27</td><td>0.00</td><td>0.62</td><td>0.00</td><td>1</td><td>2</td><td>2</td></tr>\n",
              "\t<tr><th scope=row>3</th><td>0.50</td><td>1.00</td><td>0.300</td><td>0.30</td><td>0.07</td><td>0.60</td><td>0.20</td><td>5</td><td>2</td><td>2</td></tr>\n",
              "\t<tr><th scope=row>4</th><td>0.00</td><td>0.80</td><td>0.050</td><td>0.26</td><td>0.00</td><td>0.39</td><td>0.22</td><td>2</td><td>2</td><td>4</td></tr>\n",
              "\t<tr><th scope=row>5</th><td>0.00</td><td>0.75</td><td>0.780</td><td>0.23</td><td>0.00</td><td>0.70</td><td>0.61</td><td>4</td><td>2</td><td>3</td></tr>\n",
              "\t<tr><th scope=row>6</th><td>0.52</td><td>0.50</td><td>0.100</td><td>0.30</td><td>0.07</td><td>0.63</td><td>0.49</td><td>3</td><td>2</td><td>1</td></tr>\n",
              "</tbody>\n",
              "</table>\n"
            ],
            "text/markdown": "\nA data.frame: 6 × 10\n\n| <!--/--> | asi1_med &lt;dbl&gt; | asi2_emp &lt;dbl&gt; | asi3_alc &lt;dbl&gt; | asi4_dr &lt;dbl&gt; | asi5_leg &lt;dbl&gt; | asi6_fam &lt;dbl&gt; | asi7_psy &lt;dbl&gt; | asid3_dyr &lt;dbl&gt; | se &lt;dbl&gt; | prcod &lt;int&gt; |\n|---|---|---|---|---|---|---|---|---|---|---|\n| 1 | 0.19 | 0.70 | 0.120 | 0.30 | 0.06 | 0.50 | 0.20 | 3 | 2 | 4 |\n| 2 | 0.44 | 0.23 | 0.006 | 0.27 | 0.00 | 0.62 | 0.00 | 1 | 2 | 2 |\n| 3 | 0.50 | 1.00 | 0.300 | 0.30 | 0.07 | 0.60 | 0.20 | 5 | 2 | 2 |\n| 4 | 0.00 | 0.80 | 0.050 | 0.26 | 0.00 | 0.39 | 0.22 | 2 | 2 | 4 |\n| 5 | 0.00 | 0.75 | 0.780 | 0.23 | 0.00 | 0.70 | 0.61 | 4 | 2 | 3 |\n| 6 | 0.52 | 0.50 | 0.100 | 0.30 | 0.07 | 0.63 | 0.49 | 3 | 2 | 1 |\n\n",
            "text/latex": "A data.frame: 6 × 10\n\\begin{tabular}{r|llllllllll}\n  & asi1\\_med & asi2\\_emp & asi3\\_alc & asi4\\_dr & asi5\\_leg & asi6\\_fam & asi7\\_psy & asid3\\_dyr & se & prcod\\\\\n  & <dbl> & <dbl> & <dbl> & <dbl> & <dbl> & <dbl> & <dbl> & <dbl> & <dbl> & <int>\\\\\n\\hline\n\t1 & 0.19 & 0.70 & 0.120 & 0.30 & 0.06 & 0.50 & 0.20 & 3 & 2 & 4\\\\\n\t2 & 0.44 & 0.23 & 0.006 & 0.27 & 0.00 & 0.62 & 0.00 & 1 & 2 & 2\\\\\n\t3 & 0.50 & 1.00 & 0.300 & 0.30 & 0.07 & 0.60 & 0.20 & 5 & 2 & 2\\\\\n\t4 & 0.00 & 0.80 & 0.050 & 0.26 & 0.00 & 0.39 & 0.22 & 2 & 2 & 4\\\\\n\t5 & 0.00 & 0.75 & 0.780 & 0.23 & 0.00 & 0.70 & 0.61 & 4 & 2 & 3\\\\\n\t6 & 0.52 & 0.50 & 0.100 & 0.30 & 0.07 & 0.63 & 0.49 & 3 & 2 & 1\\\\\n\\end{tabular}\n",
            "text/plain": [
              "  asi1_med asi2_emp asi3_alc asi4_dr asi5_leg asi6_fam asi7_psy asid3_dyr se\n",
              "1 0.19     0.70     0.120    0.30    0.06     0.50     0.20     3         2 \n",
              "2 0.44     0.23     0.006    0.27    0.00     0.62     0.00     1         2 \n",
              "3 0.50     1.00     0.300    0.30    0.07     0.60     0.20     5         2 \n",
              "4 0.00     0.80     0.050    0.26    0.00     0.39     0.22     2         2 \n",
              "5 0.00     0.75     0.780    0.23    0.00     0.70     0.61     4         2 \n",
              "6 0.52     0.50     0.100    0.30    0.07     0.63     0.49     3         2 \n",
              "  prcod\n",
              "1 4    \n",
              "2 2    \n",
              "3 2    \n",
              "4 4    \n",
              "5 3    \n",
              "6 1    "
            ]
          },
          "metadata": {}
        }
      ]
    },
    {
      "cell_type": "code",
      "source": [
        "se_vec <- df_hot$se"
      ],
      "metadata": {
        "id": "-dWDm-5vH3QH"
      },
      "execution_count": null,
      "outputs": []
    },
    {
      "cell_type": "code",
      "source": [
        "result <- TwoSamplesHT2(data=df_hot[,1:8], group=se_vec, alpha = 0.05)\n",
        "summary(result)"
      ],
      "metadata": {
        "colab": {
          "base_uri": "https://localhost:8080/"
        },
        "id": "eqWB1neoGsO0",
        "outputId": "9ead2ae5-21d8-4228-aa10-53a70d74b2cb"
      },
      "execution_count": null,
      "outputs": [
        {
          "output_type": "stream",
          "name": "stdout",
          "text": [
            "              Two Independent Samples Hotelling T Square Test \n",
            "\n",
            "Hotelling T Sqaure Statistic = 67.20338 \n",
            " F value = 8.182 , df1 = 8 , df2 = 262 , p-value: 7.05e-10 \n",
            "\n",
            "   \t       Descriptive Statistics (The First Group) \n",
            "\n",
            "       asi1_med  asi2_emp   asi3_alc    asi4_dr  asi5_leg  asi6_fam  asi7_psy\n",
            "Means 0.2457813 0.8578125 0.05828125 0.28781250 0.2325000 0.3551563 0.3637500\n",
            "Sd    0.2969785 0.2094700 0.10894173 0.06825416 0.2693437 0.2543962 0.1927619\n",
            "      asid3_dyr\n",
            "Means  4.046875\n",
            "Sd     3.185681\n",
            "\n",
            "\n",
            "   \t       Descriptive Statistics (The Second Group) \n",
            "\n",
            "       asi1_med  asi2_emp   asi3_alc    asi4_dr  asi5_leg  asi6_fam  asi7_psy\n",
            "Means 0.2482609 0.7577778 0.08756522 0.27599034 0.1296473 0.4391643 0.2301256\n",
            "Sd    0.2619158 0.2839405 0.10400044 0.05176365 0.1774988 0.2475490 0.1706634\n",
            "      asid3_dyr\n",
            "Means  3.495169\n",
            "Sd     1.974344\n",
            "\n",
            "\n",
            "  \t       Detection important variable(s)\n",
            "\n",
            "                Lower      Upper Important Variables?\n",
            "asi1_med  -0.15827685 0.15331761                FALSE\n",
            "asi2_emp  -0.05450928 0.25457872                FALSE\n",
            "asi3_alc  -0.08985470 0.03128676                FALSE\n",
            "asi4_dr   -0.02046335 0.04410767                FALSE\n",
            "asi5_leg  -0.01392212 0.21962743                FALSE\n",
            "asi6_fam  -0.22750098 0.05948498                FALSE\n",
            "asi7_psy   0.03221811 0.23503068               *TRUE*\n",
            "asid3_dyr -0.78180217 1.88521400                FALSE\n"
          ]
        }
      ]
    },
    {
      "cell_type": "markdown",
      "source": [
        "Различие значимо, выборки неоднородны."
      ],
      "metadata": {
        "id": "pcXk4rwRKLDx"
      }
    },
    {
      "cell_type": "markdown",
      "source": [
        "### Гипотеза о равенстве $H_0: \\mu = \\mu_0$"
      ],
      "metadata": {
        "id": "u8SOT-ZIKRdZ"
      }
    },
    {
      "cell_type": "markdown",
      "source": [
        "Вычислим $\\mu_0$ - вектор средних при условии `prcod = 2`."
      ],
      "metadata": {
        "id": "MlqmunEGKZ15"
      }
    },
    {
      "cell_type": "code",
      "source": [
        "df_hot1 = df_hot[, -9]\n",
        "head(df_hot1)"
      ],
      "metadata": {
        "colab": {
          "base_uri": "https://localhost:8080/",
          "height": 286
        },
        "id": "IHdgFdwxKx-q",
        "outputId": "a42daae8-abdd-49dd-983d-65e70a06f278"
      },
      "execution_count": null,
      "outputs": [
        {
          "output_type": "display_data",
          "data": {
            "text/html": [
              "<table class=\"dataframe\">\n",
              "<caption>A data.frame: 6 × 9</caption>\n",
              "<thead>\n",
              "\t<tr><th></th><th scope=col>asi1_med</th><th scope=col>asi2_emp</th><th scope=col>asi3_alc</th><th scope=col>asi4_dr</th><th scope=col>asi5_leg</th><th scope=col>asi6_fam</th><th scope=col>asi7_psy</th><th scope=col>asid3_dyr</th><th scope=col>prcod</th></tr>\n",
              "\t<tr><th></th><th scope=col>&lt;dbl&gt;</th><th scope=col>&lt;dbl&gt;</th><th scope=col>&lt;dbl&gt;</th><th scope=col>&lt;dbl&gt;</th><th scope=col>&lt;dbl&gt;</th><th scope=col>&lt;dbl&gt;</th><th scope=col>&lt;dbl&gt;</th><th scope=col>&lt;dbl&gt;</th><th scope=col>&lt;int&gt;</th></tr>\n",
              "</thead>\n",
              "<tbody>\n",
              "\t<tr><th scope=row>1</th><td>0.19</td><td>0.70</td><td>0.120</td><td>0.30</td><td>0.06</td><td>0.50</td><td>0.20</td><td>3</td><td>4</td></tr>\n",
              "\t<tr><th scope=row>2</th><td>0.44</td><td>0.23</td><td>0.006</td><td>0.27</td><td>0.00</td><td>0.62</td><td>0.00</td><td>1</td><td>2</td></tr>\n",
              "\t<tr><th scope=row>3</th><td>0.50</td><td>1.00</td><td>0.300</td><td>0.30</td><td>0.07</td><td>0.60</td><td>0.20</td><td>5</td><td>2</td></tr>\n",
              "\t<tr><th scope=row>4</th><td>0.00</td><td>0.80</td><td>0.050</td><td>0.26</td><td>0.00</td><td>0.39</td><td>0.22</td><td>2</td><td>4</td></tr>\n",
              "\t<tr><th scope=row>5</th><td>0.00</td><td>0.75</td><td>0.780</td><td>0.23</td><td>0.00</td><td>0.70</td><td>0.61</td><td>4</td><td>3</td></tr>\n",
              "\t<tr><th scope=row>6</th><td>0.52</td><td>0.50</td><td>0.100</td><td>0.30</td><td>0.07</td><td>0.63</td><td>0.49</td><td>3</td><td>1</td></tr>\n",
              "</tbody>\n",
              "</table>\n"
            ],
            "text/markdown": "\nA data.frame: 6 × 9\n\n| <!--/--> | asi1_med &lt;dbl&gt; | asi2_emp &lt;dbl&gt; | asi3_alc &lt;dbl&gt; | asi4_dr &lt;dbl&gt; | asi5_leg &lt;dbl&gt; | asi6_fam &lt;dbl&gt; | asi7_psy &lt;dbl&gt; | asid3_dyr &lt;dbl&gt; | prcod &lt;int&gt; |\n|---|---|---|---|---|---|---|---|---|---|\n| 1 | 0.19 | 0.70 | 0.120 | 0.30 | 0.06 | 0.50 | 0.20 | 3 | 4 |\n| 2 | 0.44 | 0.23 | 0.006 | 0.27 | 0.00 | 0.62 | 0.00 | 1 | 2 |\n| 3 | 0.50 | 1.00 | 0.300 | 0.30 | 0.07 | 0.60 | 0.20 | 5 | 2 |\n| 4 | 0.00 | 0.80 | 0.050 | 0.26 | 0.00 | 0.39 | 0.22 | 2 | 4 |\n| 5 | 0.00 | 0.75 | 0.780 | 0.23 | 0.00 | 0.70 | 0.61 | 4 | 3 |\n| 6 | 0.52 | 0.50 | 0.100 | 0.30 | 0.07 | 0.63 | 0.49 | 3 | 1 |\n\n",
            "text/latex": "A data.frame: 6 × 9\n\\begin{tabular}{r|lllllllll}\n  & asi1\\_med & asi2\\_emp & asi3\\_alc & asi4\\_dr & asi5\\_leg & asi6\\_fam & asi7\\_psy & asid3\\_dyr & prcod\\\\\n  & <dbl> & <dbl> & <dbl> & <dbl> & <dbl> & <dbl> & <dbl> & <dbl> & <int>\\\\\n\\hline\n\t1 & 0.19 & 0.70 & 0.120 & 0.30 & 0.06 & 0.50 & 0.20 & 3 & 4\\\\\n\t2 & 0.44 & 0.23 & 0.006 & 0.27 & 0.00 & 0.62 & 0.00 & 1 & 2\\\\\n\t3 & 0.50 & 1.00 & 0.300 & 0.30 & 0.07 & 0.60 & 0.20 & 5 & 2\\\\\n\t4 & 0.00 & 0.80 & 0.050 & 0.26 & 0.00 & 0.39 & 0.22 & 2 & 4\\\\\n\t5 & 0.00 & 0.75 & 0.780 & 0.23 & 0.00 & 0.70 & 0.61 & 4 & 3\\\\\n\t6 & 0.52 & 0.50 & 0.100 & 0.30 & 0.07 & 0.63 & 0.49 & 3 & 1\\\\\n\\end{tabular}\n",
            "text/plain": [
              "  asi1_med asi2_emp asi3_alc asi4_dr asi5_leg asi6_fam asi7_psy asid3_dyr prcod\n",
              "1 0.19     0.70     0.120    0.30    0.06     0.50     0.20     3         4    \n",
              "2 0.44     0.23     0.006    0.27    0.00     0.62     0.00     1         2    \n",
              "3 0.50     1.00     0.300    0.30    0.07     0.60     0.20     5         2    \n",
              "4 0.00     0.80     0.050    0.26    0.00     0.39     0.22     2         4    \n",
              "5 0.00     0.75     0.780    0.23    0.00     0.70     0.61     4         3    \n",
              "6 0.52     0.50     0.100    0.30    0.07     0.63     0.49     3         1    "
            ]
          },
          "metadata": {}
        }
      ]
    },
    {
      "cell_type": "code",
      "source": [
        "mean_prcod_2 = colMeans(df_hot1[df_hot1$prcod == 2, ])\n",
        "mean_prcod_2"
      ],
      "metadata": {
        "colab": {
          "base_uri": "https://localhost:8080/",
          "height": 69
        },
        "id": "eQHxEWCXKliY",
        "outputId": "aec57c1c-e9f7-48ef-f73e-e3d5defb91d8"
      },
      "execution_count": null,
      "outputs": [
        {
          "output_type": "display_data",
          "data": {
            "text/html": [
              "<style>\n",
              ".dl-inline {width: auto; margin:0; padding: 0}\n",
              ".dl-inline>dt, .dl-inline>dd {float: none; width: auto; display: inline-block}\n",
              ".dl-inline>dt::after {content: \":\\0020\"; padding-right: .5ex}\n",
              ".dl-inline>dt:not(:first-of-type) {padding-left: .5ex}\n",
              "</style><dl class=dl-inline><dt>asi1_med</dt><dd>0.257101449275362</dd><dt>asi2_emp</dt><dd>0.825217391304348</dd><dt>asi3_alc</dt><dd>0.0728260869565217</dd><dt>asi4_dr</dt><dd>0.281014492753623</dd><dt>asi5_leg</dt><dd>0.179855072463768</dd><dt>asi6_fam</dt><dd>0.426811594202899</dd><dt>asi7_psy</dt><dd>0.246376811594203</dd><dt>asid3_dyr</dt><dd>3.68115942028985</dd><dt>prcod</dt><dd>2</dd></dl>\n"
            ],
            "text/markdown": "asi1_med\n:   0.257101449275362asi2_emp\n:   0.825217391304348asi3_alc\n:   0.0728260869565217asi4_dr\n:   0.281014492753623asi5_leg\n:   0.179855072463768asi6_fam\n:   0.426811594202899asi7_psy\n:   0.246376811594203asid3_dyr\n:   3.68115942028985prcod\n:   2\n\n",
            "text/latex": "\\begin{description*}\n\\item[asi1\\textbackslash{}\\_med] 0.257101449275362\n\\item[asi2\\textbackslash{}\\_emp] 0.825217391304348\n\\item[asi3\\textbackslash{}\\_alc] 0.0728260869565217\n\\item[asi4\\textbackslash{}\\_dr] 0.281014492753623\n\\item[asi5\\textbackslash{}\\_leg] 0.179855072463768\n\\item[asi6\\textbackslash{}\\_fam] 0.426811594202899\n\\item[asi7\\textbackslash{}\\_psy] 0.246376811594203\n\\item[asid3\\textbackslash{}\\_dyr] 3.68115942028985\n\\item[prcod] 2\n\\end{description*}\n",
            "text/plain": [
              "  asi1_med   asi2_emp   asi3_alc    asi4_dr   asi5_leg   asi6_fam   asi7_psy \n",
              "0.25710145 0.82521739 0.07282609 0.28101449 0.17985507 0.42681159 0.24637681 \n",
              " asid3_dyr      prcod \n",
              "3.68115942 2.00000000 "
            ]
          },
          "metadata": {}
        }
      ]
    },
    {
      "cell_type": "markdown",
      "source": [
        "Далее применим тест Хотеллинга для проверки гипотезы о равенстве среднего вектору $\\mu_0$."
      ],
      "metadata": {
        "id": "Xo_B_TqXMSxf"
      }
    },
    {
      "cell_type": "code",
      "source": [
        "head(df_hot1[df_hot1$prcod == 2,])"
      ],
      "metadata": {
        "colab": {
          "base_uri": "https://localhost:8080/",
          "height": 286
        },
        "id": "LAStjyNAQQI_",
        "outputId": "b73820e0-4ca4-4dd7-eede-09515e699b1f"
      },
      "execution_count": null,
      "outputs": [
        {
          "output_type": "display_data",
          "data": {
            "text/html": [
              "<table class=\"dataframe\">\n",
              "<caption>A data.frame: 6 × 9</caption>\n",
              "<thead>\n",
              "\t<tr><th></th><th scope=col>asi1_med</th><th scope=col>asi2_emp</th><th scope=col>asi3_alc</th><th scope=col>asi4_dr</th><th scope=col>asi5_leg</th><th scope=col>asi6_fam</th><th scope=col>asi7_psy</th><th scope=col>asid3_dyr</th><th scope=col>prcod</th></tr>\n",
              "\t<tr><th></th><th scope=col>&lt;dbl&gt;</th><th scope=col>&lt;dbl&gt;</th><th scope=col>&lt;dbl&gt;</th><th scope=col>&lt;dbl&gt;</th><th scope=col>&lt;dbl&gt;</th><th scope=col>&lt;dbl&gt;</th><th scope=col>&lt;dbl&gt;</th><th scope=col>&lt;dbl&gt;</th><th scope=col>&lt;int&gt;</th></tr>\n",
              "</thead>\n",
              "<tbody>\n",
              "\t<tr><th scope=row>2</th><td>0.44</td><td>0.23</td><td>0.006</td><td>0.27</td><td>0.00</td><td>0.62</td><td>0.00</td><td>1</td><td>2</td></tr>\n",
              "\t<tr><th scope=row>3</th><td>0.50</td><td>1.00</td><td>0.300</td><td>0.30</td><td>0.07</td><td>0.60</td><td>0.20</td><td>5</td><td>2</td></tr>\n",
              "\t<tr><th scope=row>10</th><td>0.16</td><td>1.00</td><td>0.020</td><td>0.29</td><td>0.00</td><td>0.00</td><td>0.47</td><td>5</td><td>2</td></tr>\n",
              "\t<tr><th scope=row>11</th><td>0.00</td><td>0.96</td><td>0.000</td><td>0.34</td><td>0.19</td><td>0.63</td><td>0.46</td><td>2</td><td>2</td></tr>\n",
              "\t<tr><th scope=row>12</th><td>0.70</td><td>0.19</td><td>0.100</td><td>0.30</td><td>0.06</td><td>0.30</td><td>0.29</td><td>5</td><td>2</td></tr>\n",
              "\t<tr><th scope=row>17</th><td>0.40</td><td>1.00</td><td>0.160</td><td>0.30</td><td>0.05</td><td>0.30</td><td>0.80</td><td>8</td><td>2</td></tr>\n",
              "</tbody>\n",
              "</table>\n"
            ],
            "text/markdown": "\nA data.frame: 6 × 9\n\n| <!--/--> | asi1_med &lt;dbl&gt; | asi2_emp &lt;dbl&gt; | asi3_alc &lt;dbl&gt; | asi4_dr &lt;dbl&gt; | asi5_leg &lt;dbl&gt; | asi6_fam &lt;dbl&gt; | asi7_psy &lt;dbl&gt; | asid3_dyr &lt;dbl&gt; | prcod &lt;int&gt; |\n|---|---|---|---|---|---|---|---|---|---|\n| 2 | 0.44 | 0.23 | 0.006 | 0.27 | 0.00 | 0.62 | 0.00 | 1 | 2 |\n| 3 | 0.50 | 1.00 | 0.300 | 0.30 | 0.07 | 0.60 | 0.20 | 5 | 2 |\n| 10 | 0.16 | 1.00 | 0.020 | 0.29 | 0.00 | 0.00 | 0.47 | 5 | 2 |\n| 11 | 0.00 | 0.96 | 0.000 | 0.34 | 0.19 | 0.63 | 0.46 | 2 | 2 |\n| 12 | 0.70 | 0.19 | 0.100 | 0.30 | 0.06 | 0.30 | 0.29 | 5 | 2 |\n| 17 | 0.40 | 1.00 | 0.160 | 0.30 | 0.05 | 0.30 | 0.80 | 8 | 2 |\n\n",
            "text/latex": "A data.frame: 6 × 9\n\\begin{tabular}{r|lllllllll}\n  & asi1\\_med & asi2\\_emp & asi3\\_alc & asi4\\_dr & asi5\\_leg & asi6\\_fam & asi7\\_psy & asid3\\_dyr & prcod\\\\\n  & <dbl> & <dbl> & <dbl> & <dbl> & <dbl> & <dbl> & <dbl> & <dbl> & <int>\\\\\n\\hline\n\t2 & 0.44 & 0.23 & 0.006 & 0.27 & 0.00 & 0.62 & 0.00 & 1 & 2\\\\\n\t3 & 0.50 & 1.00 & 0.300 & 0.30 & 0.07 & 0.60 & 0.20 & 5 & 2\\\\\n\t10 & 0.16 & 1.00 & 0.020 & 0.29 & 0.00 & 0.00 & 0.47 & 5 & 2\\\\\n\t11 & 0.00 & 0.96 & 0.000 & 0.34 & 0.19 & 0.63 & 0.46 & 2 & 2\\\\\n\t12 & 0.70 & 0.19 & 0.100 & 0.30 & 0.06 & 0.30 & 0.29 & 5 & 2\\\\\n\t17 & 0.40 & 1.00 & 0.160 & 0.30 & 0.05 & 0.30 & 0.80 & 8 & 2\\\\\n\\end{tabular}\n",
            "text/plain": [
              "   asi1_med asi2_emp asi3_alc asi4_dr asi5_leg asi6_fam asi7_psy asid3_dyr\n",
              "2  0.44     0.23     0.006    0.27    0.00     0.62     0.00     1        \n",
              "3  0.50     1.00     0.300    0.30    0.07     0.60     0.20     5        \n",
              "10 0.16     1.00     0.020    0.29    0.00     0.00     0.47     5        \n",
              "11 0.00     0.96     0.000    0.34    0.19     0.63     0.46     2        \n",
              "12 0.70     0.19     0.100    0.30    0.06     0.30     0.29     5        \n",
              "17 0.40     1.00     0.160    0.30    0.05     0.30     0.80     8        \n",
              "   prcod\n",
              "2  2    \n",
              "3  2    \n",
              "10 2    \n",
              "11 2    \n",
              "12 2    \n",
              "17 2    "
            ]
          },
          "metadata": {}
        }
      ]
    },
    {
      "cell_type": "code",
      "source": [
        "head(df_hot1[df_hot1$prcod != 2, 1:8])\n",
        "mean_prcod_2[1:8]"
      ],
      "metadata": {
        "colab": {
          "base_uri": "https://localhost:8080/",
          "height": 338
        },
        "id": "-yUZ6dM3QKLg",
        "outputId": "c1b0df4b-d0e2-4ce1-8aea-93ca3f0c475c"
      },
      "execution_count": null,
      "outputs": [
        {
          "output_type": "display_data",
          "data": {
            "text/html": [
              "<table class=\"dataframe\">\n",
              "<caption>A data.frame: 6 × 8</caption>\n",
              "<thead>\n",
              "\t<tr><th></th><th scope=col>asi1_med</th><th scope=col>asi2_emp</th><th scope=col>asi3_alc</th><th scope=col>asi4_dr</th><th scope=col>asi5_leg</th><th scope=col>asi6_fam</th><th scope=col>asi7_psy</th><th scope=col>asid3_dyr</th></tr>\n",
              "\t<tr><th></th><th scope=col>&lt;dbl&gt;</th><th scope=col>&lt;dbl&gt;</th><th scope=col>&lt;dbl&gt;</th><th scope=col>&lt;dbl&gt;</th><th scope=col>&lt;dbl&gt;</th><th scope=col>&lt;dbl&gt;</th><th scope=col>&lt;dbl&gt;</th><th scope=col>&lt;dbl&gt;</th></tr>\n",
              "</thead>\n",
              "<tbody>\n",
              "\t<tr><th scope=row>1</th><td>0.19</td><td>0.70</td><td>0.120</td><td>0.30</td><td>0.06</td><td>0.50</td><td>0.20</td><td>3.0</td></tr>\n",
              "\t<tr><th scope=row>4</th><td>0.00</td><td>0.80</td><td>0.050</td><td>0.26</td><td>0.00</td><td>0.39</td><td>0.22</td><td>2.0</td></tr>\n",
              "\t<tr><th scope=row>5</th><td>0.00</td><td>0.75</td><td>0.780</td><td>0.23</td><td>0.00</td><td>0.70</td><td>0.61</td><td>4.0</td></tr>\n",
              "\t<tr><th scope=row>6</th><td>0.52</td><td>0.50</td><td>0.100</td><td>0.30</td><td>0.07</td><td>0.63</td><td>0.49</td><td>3.0</td></tr>\n",
              "\t<tr><th scope=row>7</th><td>0.00</td><td>1.00</td><td>0.088</td><td>0.42</td><td>0.15</td><td>0.95</td><td>0.34</td><td>4.0</td></tr>\n",
              "\t<tr><th scope=row>8</th><td>0.00</td><td>0.24</td><td>0.040</td><td>0.28</td><td>0.14</td><td>0.73</td><td>0.34</td><td>2.5</td></tr>\n",
              "</tbody>\n",
              "</table>\n"
            ],
            "text/markdown": "\nA data.frame: 6 × 8\n\n| <!--/--> | asi1_med &lt;dbl&gt; | asi2_emp &lt;dbl&gt; | asi3_alc &lt;dbl&gt; | asi4_dr &lt;dbl&gt; | asi5_leg &lt;dbl&gt; | asi6_fam &lt;dbl&gt; | asi7_psy &lt;dbl&gt; | asid3_dyr &lt;dbl&gt; |\n|---|---|---|---|---|---|---|---|---|\n| 1 | 0.19 | 0.70 | 0.120 | 0.30 | 0.06 | 0.50 | 0.20 | 3.0 |\n| 4 | 0.00 | 0.80 | 0.050 | 0.26 | 0.00 | 0.39 | 0.22 | 2.0 |\n| 5 | 0.00 | 0.75 | 0.780 | 0.23 | 0.00 | 0.70 | 0.61 | 4.0 |\n| 6 | 0.52 | 0.50 | 0.100 | 0.30 | 0.07 | 0.63 | 0.49 | 3.0 |\n| 7 | 0.00 | 1.00 | 0.088 | 0.42 | 0.15 | 0.95 | 0.34 | 4.0 |\n| 8 | 0.00 | 0.24 | 0.040 | 0.28 | 0.14 | 0.73 | 0.34 | 2.5 |\n\n",
            "text/latex": "A data.frame: 6 × 8\n\\begin{tabular}{r|llllllll}\n  & asi1\\_med & asi2\\_emp & asi3\\_alc & asi4\\_dr & asi5\\_leg & asi6\\_fam & asi7\\_psy & asid3\\_dyr\\\\\n  & <dbl> & <dbl> & <dbl> & <dbl> & <dbl> & <dbl> & <dbl> & <dbl>\\\\\n\\hline\n\t1 & 0.19 & 0.70 & 0.120 & 0.30 & 0.06 & 0.50 & 0.20 & 3.0\\\\\n\t4 & 0.00 & 0.80 & 0.050 & 0.26 & 0.00 & 0.39 & 0.22 & 2.0\\\\\n\t5 & 0.00 & 0.75 & 0.780 & 0.23 & 0.00 & 0.70 & 0.61 & 4.0\\\\\n\t6 & 0.52 & 0.50 & 0.100 & 0.30 & 0.07 & 0.63 & 0.49 & 3.0\\\\\n\t7 & 0.00 & 1.00 & 0.088 & 0.42 & 0.15 & 0.95 & 0.34 & 4.0\\\\\n\t8 & 0.00 & 0.24 & 0.040 & 0.28 & 0.14 & 0.73 & 0.34 & 2.5\\\\\n\\end{tabular}\n",
            "text/plain": [
              "  asi1_med asi2_emp asi3_alc asi4_dr asi5_leg asi6_fam asi7_psy asid3_dyr\n",
              "1 0.19     0.70     0.120    0.30    0.06     0.50     0.20     3.0      \n",
              "4 0.00     0.80     0.050    0.26    0.00     0.39     0.22     2.0      \n",
              "5 0.00     0.75     0.780    0.23    0.00     0.70     0.61     4.0      \n",
              "6 0.52     0.50     0.100    0.30    0.07     0.63     0.49     3.0      \n",
              "7 0.00     1.00     0.088    0.42    0.15     0.95     0.34     4.0      \n",
              "8 0.00     0.24     0.040    0.28    0.14     0.73     0.34     2.5      "
            ]
          },
          "metadata": {}
        },
        {
          "output_type": "display_data",
          "data": {
            "text/html": [
              "<style>\n",
              ".dl-inline {width: auto; margin:0; padding: 0}\n",
              ".dl-inline>dt, .dl-inline>dd {float: none; width: auto; display: inline-block}\n",
              ".dl-inline>dt::after {content: \":\\0020\"; padding-right: .5ex}\n",
              ".dl-inline>dt:not(:first-of-type) {padding-left: .5ex}\n",
              "</style><dl class=dl-inline><dt>asi1_med</dt><dd>0.257101449275362</dd><dt>asi2_emp</dt><dd>0.825217391304348</dd><dt>asi3_alc</dt><dd>0.0728260869565217</dd><dt>asi4_dr</dt><dd>0.281014492753623</dd><dt>asi5_leg</dt><dd>0.179855072463768</dd><dt>asi6_fam</dt><dd>0.426811594202899</dd><dt>asi7_psy</dt><dd>0.246376811594203</dd><dt>asid3_dyr</dt><dd>3.68115942028985</dd></dl>\n"
            ],
            "text/markdown": "asi1_med\n:   0.257101449275362asi2_emp\n:   0.825217391304348asi3_alc\n:   0.0728260869565217asi4_dr\n:   0.281014492753623asi5_leg\n:   0.179855072463768asi6_fam\n:   0.426811594202899asi7_psy\n:   0.246376811594203asid3_dyr\n:   3.68115942028985\n\n",
            "text/latex": "\\begin{description*}\n\\item[asi1\\textbackslash{}\\_med] 0.257101449275362\n\\item[asi2\\textbackslash{}\\_emp] 0.825217391304348\n\\item[asi3\\textbackslash{}\\_alc] 0.0728260869565217\n\\item[asi4\\textbackslash{}\\_dr] 0.281014492753623\n\\item[asi5\\textbackslash{}\\_leg] 0.179855072463768\n\\item[asi6\\textbackslash{}\\_fam] 0.426811594202899\n\\item[asi7\\textbackslash{}\\_psy] 0.246376811594203\n\\item[asid3\\textbackslash{}\\_dyr] 3.68115942028985\n\\end{description*}\n",
            "text/plain": [
              "  asi1_med   asi2_emp   asi3_alc    asi4_dr   asi5_leg   asi6_fam   asi7_psy \n",
              "0.25710145 0.82521739 0.07282609 0.28101449 0.17985507 0.42681159 0.24637681 \n",
              " asid3_dyr \n",
              "3.68115942 "
            ]
          },
          "metadata": {}
        }
      ]
    },
    {
      "cell_type": "code",
      "source": [
        "OneSampleHT2(df_hot1[df_hot1$prcod != 2, 1:8], mu0 = mean_prcod_2[1:8], alpha = 0.05)"
      ],
      "metadata": {
        "colab": {
          "base_uri": "https://localhost:8080/",
          "height": 965
        },
        "id": "jlVGdXKxQr2A",
        "outputId": "9e76b9d3-5a28-41d2-d3e8-e5944643a0bc"
      },
      "execution_count": null,
      "outputs": [
        {
          "output_type": "display_data",
          "data": {
            "text/html": [
              "<dl>\n",
              "\t<dt>$HT2</dt>\n",
              "\t\t<dd><table class=\"dataframe\">\n",
              "<caption>A matrix: 1 × 1 of type dbl</caption>\n",
              "<tbody>\n",
              "\t<tr><td>25.47983</td></tr>\n",
              "</tbody>\n",
              "</table>\n",
              "</dd>\n",
              "\t<dt>$F</dt>\n",
              "\t\t<dd><table class=\"dataframe\">\n",
              "<caption>A matrix: 1 × 1 of type dbl</caption>\n",
              "<tbody>\n",
              "\t<tr><td>3.074059</td></tr>\n",
              "</tbody>\n",
              "</table>\n",
              "</dd>\n",
              "\t<dt>$df</dt>\n",
              "\t\t<dd><style>\n",
              ".list-inline {list-style: none; margin:0; padding: 0}\n",
              ".list-inline>li {display: inline-block}\n",
              ".list-inline>li:not(:last-child)::after {content: \"\\00b7\"; padding: 0 .5ex}\n",
              "</style>\n",
              "<ol class=list-inline><li>8</li><li>194</li></ol>\n",
              "</dd>\n",
              "\t<dt>$p.value</dt>\n",
              "\t\t<dd><table class=\"dataframe\">\n",
              "<caption>A matrix: 1 × 1 of type dbl</caption>\n",
              "<tbody>\n",
              "\t<tr><td>0.002770727</td></tr>\n",
              "</tbody>\n",
              "</table>\n",
              "</dd>\n",
              "\t<dt>$CI</dt>\n",
              "\t\t<dd><table class=\"dataframe\">\n",
              "<caption>A data.frame: 8 × 4</caption>\n",
              "<thead>\n",
              "\t<tr><th></th><th scope=col>Lower</th><th scope=col>Upper</th><th scope=col>Mu0</th><th scope=col>Important Variables?</th></tr>\n",
              "\t<tr><th></th><th scope=col>&lt;dbl&gt;</th><th scope=col>&lt;dbl&gt;</th><th scope=col>&lt;dbl&gt;</th><th scope=col>&lt;chr&gt;</th></tr>\n",
              "</thead>\n",
              "<tbody>\n",
              "\t<tr><th scope=row>asi1_med</th><td>0.16668673</td><td>0.3222242</td><td>0.25710145</td><td>FALSE</td></tr>\n",
              "\t<tr><th scope=row>asi2_emp</th><td>0.68923358</td><td>0.8436377</td><td>0.82521739</td><td>FALSE</td></tr>\n",
              "\t<tr><th scope=row>asi3_alc</th><td>0.05148929</td><td>0.1151543</td><td>0.07282609</td><td>FALSE</td></tr>\n",
              "\t<tr><th scope=row>asi4_dr</th><td>0.26165520</td><td>0.2943844</td><td>0.28101449</td><td>FALSE</td></tr>\n",
              "\t<tr><th scope=row>asi5_leg</th><td>0.08930784</td><td>0.2008605</td><td>0.17985507</td><td>FALSE</td></tr>\n",
              "\t<tr><th scope=row>asi6_fam</th><td>0.34506954</td><td>0.4884651</td><td>0.42681159</td><td>FALSE</td></tr>\n",
              "\t<tr><th scope=row>asi7_psy</th><td>0.21437072</td><td>0.3194511</td><td>0.24637681</td><td>FALSE</td></tr>\n",
              "\t<tr><th scope=row>asid3_dyr</th><td>2.89863019</td><td>4.3142411</td><td>3.68115942</td><td>FALSE</td></tr>\n",
              "</tbody>\n",
              "</table>\n",
              "</dd>\n",
              "\t<dt>$alpha</dt>\n",
              "\t\t<dd>0.05</dd>\n",
              "\t<dt>$Descriptive</dt>\n",
              "\t\t<dd><table class=\"dataframe\">\n",
              "<caption>A matrix: 3 × 8 of type dbl</caption>\n",
              "<thead>\n",
              "\t<tr><th></th><th scope=col>asi1_med</th><th scope=col>asi2_emp</th><th scope=col>asi3_alc</th><th scope=col>asi4_dr</th><th scope=col>asi5_leg</th><th scope=col>asi6_fam</th><th scope=col>asi7_psy</th><th scope=col>asid3_dyr</th></tr>\n",
              "</thead>\n",
              "<tbody>\n",
              "\t<tr><th scope=row>N</th><td>202.0000000</td><td>202.0000000</td><td>202.00000000</td><td>202.00000000</td><td>202.0000000</td><td>202.0000000</td><td>202.0000000</td><td>202.000000</td></tr>\n",
              "\t<tr><th scope=row>Means</th><td>  0.2444554</td><td>  0.7664356</td><td>  0.08332178</td><td>  0.27801980</td><td>  0.1450842</td><td>  0.4167673</td><td>  0.2669109</td><td>  3.606436</td></tr>\n",
              "\t<tr><th scope=row>Sd</th><td>  0.2724003</td><td>  0.2704155</td><td>  0.11149959</td><td>  0.05732025</td><td>  0.1953676</td><td>  0.2511357</td><td>  0.1840323</td><td>  2.479229</td></tr>\n",
              "</tbody>\n",
              "</table>\n",
              "</dd>\n",
              "\t<dt>$Test</dt>\n",
              "\t\t<dd>'OneSampleHT2'</dd>\n",
              "</dl>\n"
            ],
            "text/markdown": "$HT2\n:   \nA matrix: 1 × 1 of type dbl\n\n| 25.47983 |\n\n\n$F\n:   \nA matrix: 1 × 1 of type dbl\n\n| 3.074059 |\n\n\n$df\n:   1. 8\n2. 194\n\n\n\n$p.value\n:   \nA matrix: 1 × 1 of type dbl\n\n| 0.002770727 |\n\n\n$CI\n:   \nA data.frame: 8 × 4\n\n| <!--/--> | Lower &lt;dbl&gt; | Upper &lt;dbl&gt; | Mu0 &lt;dbl&gt; | Important Variables? &lt;chr&gt; |\n|---|---|---|---|---|\n| asi1_med | 0.16668673 | 0.3222242 | 0.25710145 | FALSE |\n| asi2_emp | 0.68923358 | 0.8436377 | 0.82521739 | FALSE |\n| asi3_alc | 0.05148929 | 0.1151543 | 0.07282609 | FALSE |\n| asi4_dr | 0.26165520 | 0.2943844 | 0.28101449 | FALSE |\n| asi5_leg | 0.08930784 | 0.2008605 | 0.17985507 | FALSE |\n| asi6_fam | 0.34506954 | 0.4884651 | 0.42681159 | FALSE |\n| asi7_psy | 0.21437072 | 0.3194511 | 0.24637681 | FALSE |\n| asid3_dyr | 2.89863019 | 4.3142411 | 3.68115942 | FALSE |\n\n\n$alpha\n:   0.05\n$Descriptive\n:   \nA matrix: 3 × 8 of type dbl\n\n| <!--/--> | asi1_med | asi2_emp | asi3_alc | asi4_dr | asi5_leg | asi6_fam | asi7_psy | asid3_dyr |\n|---|---|---|---|---|---|---|---|---|\n| N | 202.0000000 | 202.0000000 | 202.00000000 | 202.00000000 | 202.0000000 | 202.0000000 | 202.0000000 | 202.000000 |\n| Means |   0.2444554 |   0.7664356 |   0.08332178 |   0.27801980 |   0.1450842 |   0.4167673 |   0.2669109 |   3.606436 |\n| Sd |   0.2724003 |   0.2704155 |   0.11149959 |   0.05732025 |   0.1953676 |   0.2511357 |   0.1840323 |   2.479229 |\n\n\n$Test\n:   'OneSampleHT2'\n\n\n",
            "text/latex": "\\begin{description}\n\\item[\\$HT2] A matrix: 1 × 1 of type dbl\n\\begin{tabular}{l}\n\t 25.47983\\\\\n\\end{tabular}\n\n\\item[\\$F] A matrix: 1 × 1 of type dbl\n\\begin{tabular}{l}\n\t 3.074059\\\\\n\\end{tabular}\n\n\\item[\\$df] \\begin{enumerate*}\n\\item 8\n\\item 194\n\\end{enumerate*}\n\n\\item[\\$p.value] A matrix: 1 × 1 of type dbl\n\\begin{tabular}{l}\n\t 0.002770727\\\\\n\\end{tabular}\n\n\\item[\\$CI] A data.frame: 8 × 4\n\\begin{tabular}{r|llll}\n  & Lower & Upper & Mu0 & Important Variables?\\\\\n  & <dbl> & <dbl> & <dbl> & <chr>\\\\\n\\hline\n\tasi1\\_med & 0.16668673 & 0.3222242 & 0.25710145 & FALSE\\\\\n\tasi2\\_emp & 0.68923358 & 0.8436377 & 0.82521739 & FALSE\\\\\n\tasi3\\_alc & 0.05148929 & 0.1151543 & 0.07282609 & FALSE\\\\\n\tasi4\\_dr & 0.26165520 & 0.2943844 & 0.28101449 & FALSE\\\\\n\tasi5\\_leg & 0.08930784 & 0.2008605 & 0.17985507 & FALSE\\\\\n\tasi6\\_fam & 0.34506954 & 0.4884651 & 0.42681159 & FALSE\\\\\n\tasi7\\_psy & 0.21437072 & 0.3194511 & 0.24637681 & FALSE\\\\\n\tasid3\\_dyr & 2.89863019 & 4.3142411 & 3.68115942 & FALSE\\\\\n\\end{tabular}\n\n\\item[\\$alpha] 0.05\n\\item[\\$Descriptive] A matrix: 3 × 8 of type dbl\n\\begin{tabular}{r|llllllll}\n  & asi1\\_med & asi2\\_emp & asi3\\_alc & asi4\\_dr & asi5\\_leg & asi6\\_fam & asi7\\_psy & asid3\\_dyr\\\\\n\\hline\n\tN & 202.0000000 & 202.0000000 & 202.00000000 & 202.00000000 & 202.0000000 & 202.0000000 & 202.0000000 & 202.000000\\\\\n\tMeans &   0.2444554 &   0.7664356 &   0.08332178 &   0.27801980 &   0.1450842 &   0.4167673 &   0.2669109 &   3.606436\\\\\n\tSd &   0.2724003 &   0.2704155 &   0.11149959 &   0.05732025 &   0.1953676 &   0.2511357 &   0.1840323 &   2.479229\\\\\n\\end{tabular}\n\n\\item[\\$Test] 'OneSampleHT2'\n\\end{description}\n",
            "text/plain": [
              "$HT2\n",
              "         [,1]\n",
              "[1,] 25.47983\n",
              "\n",
              "$F\n",
              "         [,1]\n",
              "[1,] 3.074059\n",
              "\n",
              "$df\n",
              "[1]   8 194\n",
              "\n",
              "$p.value\n",
              "            [,1]\n",
              "[1,] 0.002770727\n",
              "\n",
              "$CI\n",
              "               Lower     Upper        Mu0 Important Variables?\n",
              "asi1_med  0.16668673 0.3222242 0.25710145                FALSE\n",
              "asi2_emp  0.68923358 0.8436377 0.82521739                FALSE\n",
              "asi3_alc  0.05148929 0.1151543 0.07282609                FALSE\n",
              "asi4_dr   0.26165520 0.2943844 0.28101449                FALSE\n",
              "asi5_leg  0.08930784 0.2008605 0.17985507                FALSE\n",
              "asi6_fam  0.34506954 0.4884651 0.42681159                FALSE\n",
              "asi7_psy  0.21437072 0.3194511 0.24637681                FALSE\n",
              "asid3_dyr 2.89863019 4.3142411 3.68115942                FALSE\n",
              "\n",
              "$alpha\n",
              "[1] 0.05\n",
              "\n",
              "$Descriptive\n",
              "         asi1_med    asi2_emp     asi3_alc      asi4_dr    asi5_leg    asi6_fam\n",
              "N     202.0000000 202.0000000 202.00000000 202.00000000 202.0000000 202.0000000\n",
              "Means   0.2444554   0.7664356   0.08332178   0.27801980   0.1450842   0.4167673\n",
              "Sd      0.2724003   0.2704155   0.11149959   0.05732025   0.1953676   0.2511357\n",
              "         asi7_psy  asid3_dyr\n",
              "N     202.0000000 202.000000\n",
              "Means   0.2669109   3.606436\n",
              "Sd      0.1840323   2.479229\n",
              "\n",
              "$Test\n",
              "[1] \"OneSampleHT2\"\n",
              "\n",
              "attr(,\"class\")\n",
              "[1] \"MVTests\" \"list\"   "
            ]
          },
          "metadata": {}
        }
      ]
    },
    {
      "cell_type": "markdown",
      "source": [
        "Гипотеза о равенстве вектора средних при `prcod != 2` вектору $\\mu_0$ отвергается."
      ],
      "metadata": {
        "id": "iqfhU9B2RppJ"
      }
    },
    {
      "cell_type": "markdown",
      "source": [
        "### Наличие выбросов"
      ],
      "metadata": {
        "id": "MSf3eLXb77RT"
      }
    },
    {
      "cell_type": "code",
      "source": [
        "df_hot0 <- df[, c('asi1_med','asi2_emp','asi3_alc','asi4_dr')]\n",
        "head(df_hot0)"
      ],
      "metadata": {
        "colab": {
          "base_uri": "https://localhost:8080/",
          "height": 286
        },
        "id": "Bol-movmTOYG",
        "outputId": "aa5997d5-bc1c-4b60-fd79-71c9bae82342"
      },
      "execution_count": null,
      "outputs": [
        {
          "output_type": "display_data",
          "data": {
            "text/html": [
              "<table class=\"dataframe\">\n",
              "<caption>A data.frame: 6 × 4</caption>\n",
              "<thead>\n",
              "\t<tr><th></th><th scope=col>asi1_med</th><th scope=col>asi2_emp</th><th scope=col>asi3_alc</th><th scope=col>asi4_dr</th></tr>\n",
              "\t<tr><th></th><th scope=col>&lt;dbl&gt;</th><th scope=col>&lt;dbl&gt;</th><th scope=col>&lt;dbl&gt;</th><th scope=col>&lt;dbl&gt;</th></tr>\n",
              "</thead>\n",
              "<tbody>\n",
              "\t<tr><th scope=row>1</th><td>0.19</td><td>0.70</td><td>0.120</td><td>0.30</td></tr>\n",
              "\t<tr><th scope=row>2</th><td>0.44</td><td>0.23</td><td>0.006</td><td>0.27</td></tr>\n",
              "\t<tr><th scope=row>3</th><td>0.50</td><td>1.00</td><td>0.300</td><td>0.30</td></tr>\n",
              "\t<tr><th scope=row>4</th><td>0.00</td><td>0.80</td><td>0.050</td><td>0.26</td></tr>\n",
              "\t<tr><th scope=row>5</th><td>0.00</td><td>0.75</td><td>0.780</td><td>0.23</td></tr>\n",
              "\t<tr><th scope=row>6</th><td>0.52</td><td>0.50</td><td>0.100</td><td>0.30</td></tr>\n",
              "</tbody>\n",
              "</table>\n"
            ],
            "text/markdown": "\nA data.frame: 6 × 4\n\n| <!--/--> | asi1_med &lt;dbl&gt; | asi2_emp &lt;dbl&gt; | asi3_alc &lt;dbl&gt; | asi4_dr &lt;dbl&gt; |\n|---|---|---|---|---|\n| 1 | 0.19 | 0.70 | 0.120 | 0.30 |\n| 2 | 0.44 | 0.23 | 0.006 | 0.27 |\n| 3 | 0.50 | 1.00 | 0.300 | 0.30 |\n| 4 | 0.00 | 0.80 | 0.050 | 0.26 |\n| 5 | 0.00 | 0.75 | 0.780 | 0.23 |\n| 6 | 0.52 | 0.50 | 0.100 | 0.30 |\n\n",
            "text/latex": "A data.frame: 6 × 4\n\\begin{tabular}{r|llll}\n  & asi1\\_med & asi2\\_emp & asi3\\_alc & asi4\\_dr\\\\\n  & <dbl> & <dbl> & <dbl> & <dbl>\\\\\n\\hline\n\t1 & 0.19 & 0.70 & 0.120 & 0.30\\\\\n\t2 & 0.44 & 0.23 & 0.006 & 0.27\\\\\n\t3 & 0.50 & 1.00 & 0.300 & 0.30\\\\\n\t4 & 0.00 & 0.80 & 0.050 & 0.26\\\\\n\t5 & 0.00 & 0.75 & 0.780 & 0.23\\\\\n\t6 & 0.52 & 0.50 & 0.100 & 0.30\\\\\n\\end{tabular}\n",
            "text/plain": [
              "  asi1_med asi2_emp asi3_alc asi4_dr\n",
              "1 0.19     0.70     0.120    0.30   \n",
              "2 0.44     0.23     0.006    0.27   \n",
              "3 0.50     1.00     0.300    0.30   \n",
              "4 0.00     0.80     0.050    0.26   \n",
              "5 0.00     0.75     0.780    0.23   \n",
              "6 0.52     0.50     0.100    0.30   "
            ]
          },
          "metadata": {}
        }
      ]
    },
    {
      "cell_type": "markdown",
      "source": [
        "Вычислим расстояния Махаланобиса."
      ],
      "metadata": {
        "id": "TA0OY0sRT7QX"
      }
    },
    {
      "cell_type": "code",
      "source": [
        "library(stats)"
      ],
      "metadata": {
        "id": "s3OWcQyST-gC"
      },
      "execution_count": null,
      "outputs": []
    },
    {
      "cell_type": "code",
      "source": [
        "df_hot0$mahalnobis<- mahalanobis(df_hot0, colMeans(df_hot0), cov(df_hot0))\n",
        "head(df_hot0)"
      ],
      "metadata": {
        "colab": {
          "base_uri": "https://localhost:8080/",
          "height": 286
        },
        "id": "bdo6NFQhc_rP",
        "outputId": "907cefec-145b-461e-c9bc-bb76efb1c13f"
      },
      "execution_count": null,
      "outputs": [
        {
          "output_type": "display_data",
          "data": {
            "text/html": [
              "<table class=\"dataframe\">\n",
              "<caption>A data.frame: 6 × 5</caption>\n",
              "<thead>\n",
              "\t<tr><th></th><th scope=col>asi1_med</th><th scope=col>asi2_emp</th><th scope=col>asi3_alc</th><th scope=col>asi4_dr</th><th scope=col>mahalnobis</th></tr>\n",
              "\t<tr><th></th><th scope=col>&lt;dbl&gt;</th><th scope=col>&lt;dbl&gt;</th><th scope=col>&lt;dbl&gt;</th><th scope=col>&lt;dbl&gt;</th><th scope=col>&lt;dbl&gt;</th></tr>\n",
              "</thead>\n",
              "<tbody>\n",
              "\t<tr><th scope=row>1</th><td>0.19</td><td>0.70</td><td>0.120</td><td>0.30</td><td> 0.3835866</td></tr>\n",
              "\t<tr><th scope=row>2</th><td>0.44</td><td>0.23</td><td>0.006</td><td>0.27</td><td> 5.0509994</td></tr>\n",
              "\t<tr><th scope=row>3</th><td>0.50</td><td>1.00</td><td>0.300</td><td>0.30</td><td> 5.7209275</td></tr>\n",
              "\t<tr><th scope=row>4</th><td>0.00</td><td>0.80</td><td>0.050</td><td>0.26</td><td> 0.9120479</td></tr>\n",
              "\t<tr><th scope=row>5</th><td>0.00</td><td>0.75</td><td>0.780</td><td>0.23</td><td>55.7318789</td></tr>\n",
              "\t<tr><th scope=row>6</th><td>0.52</td><td>0.50</td><td>0.100</td><td>0.30</td><td> 2.0935703</td></tr>\n",
              "</tbody>\n",
              "</table>\n"
            ],
            "text/markdown": "\nA data.frame: 6 × 5\n\n| <!--/--> | asi1_med &lt;dbl&gt; | asi2_emp &lt;dbl&gt; | asi3_alc &lt;dbl&gt; | asi4_dr &lt;dbl&gt; | mahalnobis &lt;dbl&gt; |\n|---|---|---|---|---|---|\n| 1 | 0.19 | 0.70 | 0.120 | 0.30 |  0.3835866 |\n| 2 | 0.44 | 0.23 | 0.006 | 0.27 |  5.0509994 |\n| 3 | 0.50 | 1.00 | 0.300 | 0.30 |  5.7209275 |\n| 4 | 0.00 | 0.80 | 0.050 | 0.26 |  0.9120479 |\n| 5 | 0.00 | 0.75 | 0.780 | 0.23 | 55.7318789 |\n| 6 | 0.52 | 0.50 | 0.100 | 0.30 |  2.0935703 |\n\n",
            "text/latex": "A data.frame: 6 × 5\n\\begin{tabular}{r|lllll}\n  & asi1\\_med & asi2\\_emp & asi3\\_alc & asi4\\_dr & mahalnobis\\\\\n  & <dbl> & <dbl> & <dbl> & <dbl> & <dbl>\\\\\n\\hline\n\t1 & 0.19 & 0.70 & 0.120 & 0.30 &  0.3835866\\\\\n\t2 & 0.44 & 0.23 & 0.006 & 0.27 &  5.0509994\\\\\n\t3 & 0.50 & 1.00 & 0.300 & 0.30 &  5.7209275\\\\\n\t4 & 0.00 & 0.80 & 0.050 & 0.26 &  0.9120479\\\\\n\t5 & 0.00 & 0.75 & 0.780 & 0.23 & 55.7318789\\\\\n\t6 & 0.52 & 0.50 & 0.100 & 0.30 &  2.0935703\\\\\n\\end{tabular}\n",
            "text/plain": [
              "  asi1_med asi2_emp asi3_alc asi4_dr mahalnobis\n",
              "1 0.19     0.70     0.120    0.30     0.3835866\n",
              "2 0.44     0.23     0.006    0.27     5.0509994\n",
              "3 0.50     1.00     0.300    0.30     5.7209275\n",
              "4 0.00     0.80     0.050    0.26     0.9120479\n",
              "5 0.00     0.75     0.780    0.23    55.7318789\n",
              "6 0.52     0.50     0.100    0.30     2.0935703"
            ]
          },
          "metadata": {}
        }
      ]
    },
    {
      "cell_type": "markdown",
      "source": [
        "Добавим значения p-value."
      ],
      "metadata": {
        "id": "WueED8Rjh6pu"
      }
    },
    {
      "cell_type": "code",
      "source": [
        "df_hot0$pvalue <- pchisq(df_hot0$mahalnobis, df=3)\n",
        "head(df_hot0)"
      ],
      "metadata": {
        "colab": {
          "base_uri": "https://localhost:8080/",
          "height": 286
        },
        "id": "6bxUZAaCdSh3",
        "outputId": "6a661278-9a8a-4b4e-fb84-627681f22125"
      },
      "execution_count": null,
      "outputs": [
        {
          "output_type": "display_data",
          "data": {
            "text/html": [
              "<table class=\"dataframe\">\n",
              "<caption>A data.frame: 6 × 6</caption>\n",
              "<thead>\n",
              "\t<tr><th></th><th scope=col>asi1_med</th><th scope=col>asi2_emp</th><th scope=col>asi3_alc</th><th scope=col>asi4_dr</th><th scope=col>mahalnobis</th><th scope=col>pvalue</th></tr>\n",
              "\t<tr><th></th><th scope=col>&lt;dbl&gt;</th><th scope=col>&lt;dbl&gt;</th><th scope=col>&lt;dbl&gt;</th><th scope=col>&lt;dbl&gt;</th><th scope=col>&lt;dbl&gt;</th><th scope=col>&lt;dbl&gt;</th></tr>\n",
              "</thead>\n",
              "<tbody>\n",
              "\t<tr><th scope=row>1</th><td>0.19</td><td>0.70</td><td>0.120</td><td>0.30</td><td> 0.3835866</td><td>0.05638814</td></tr>\n",
              "\t<tr><th scope=row>2</th><td>0.44</td><td>0.23</td><td>0.006</td><td>0.27</td><td> 5.0509994</td><td>0.83189942</td></tr>\n",
              "\t<tr><th scope=row>3</th><td>0.50</td><td>1.00</td><td>0.300</td><td>0.30</td><td> 5.7209275</td><td>0.87399412</td></tr>\n",
              "\t<tr><th scope=row>4</th><td>0.00</td><td>0.80</td><td>0.050</td><td>0.26</td><td> 0.9120479</td><td>0.17748055</td></tr>\n",
              "\t<tr><th scope=row>5</th><td>0.00</td><td>0.75</td><td>0.780</td><td>0.23</td><td>55.7318789</td><td>1.00000000</td></tr>\n",
              "\t<tr><th scope=row>6</th><td>0.52</td><td>0.50</td><td>0.100</td><td>0.30</td><td> 2.0935703</td><td>0.44678537</td></tr>\n",
              "</tbody>\n",
              "</table>\n"
            ],
            "text/markdown": "\nA data.frame: 6 × 6\n\n| <!--/--> | asi1_med &lt;dbl&gt; | asi2_emp &lt;dbl&gt; | asi3_alc &lt;dbl&gt; | asi4_dr &lt;dbl&gt; | mahalnobis &lt;dbl&gt; | pvalue &lt;dbl&gt; |\n|---|---|---|---|---|---|---|\n| 1 | 0.19 | 0.70 | 0.120 | 0.30 |  0.3835866 | 0.05638814 |\n| 2 | 0.44 | 0.23 | 0.006 | 0.27 |  5.0509994 | 0.83189942 |\n| 3 | 0.50 | 1.00 | 0.300 | 0.30 |  5.7209275 | 0.87399412 |\n| 4 | 0.00 | 0.80 | 0.050 | 0.26 |  0.9120479 | 0.17748055 |\n| 5 | 0.00 | 0.75 | 0.780 | 0.23 | 55.7318789 | 1.00000000 |\n| 6 | 0.52 | 0.50 | 0.100 | 0.30 |  2.0935703 | 0.44678537 |\n\n",
            "text/latex": "A data.frame: 6 × 6\n\\begin{tabular}{r|llllll}\n  & asi1\\_med & asi2\\_emp & asi3\\_alc & asi4\\_dr & mahalnobis & pvalue\\\\\n  & <dbl> & <dbl> & <dbl> & <dbl> & <dbl> & <dbl>\\\\\n\\hline\n\t1 & 0.19 & 0.70 & 0.120 & 0.30 &  0.3835866 & 0.05638814\\\\\n\t2 & 0.44 & 0.23 & 0.006 & 0.27 &  5.0509994 & 0.83189942\\\\\n\t3 & 0.50 & 1.00 & 0.300 & 0.30 &  5.7209275 & 0.87399412\\\\\n\t4 & 0.00 & 0.80 & 0.050 & 0.26 &  0.9120479 & 0.17748055\\\\\n\t5 & 0.00 & 0.75 & 0.780 & 0.23 & 55.7318789 & 1.00000000\\\\\n\t6 & 0.52 & 0.50 & 0.100 & 0.30 &  2.0935703 & 0.44678537\\\\\n\\end{tabular}\n",
            "text/plain": [
              "  asi1_med asi2_emp asi3_alc asi4_dr mahalnobis pvalue    \n",
              "1 0.19     0.70     0.120    0.30     0.3835866 0.05638814\n",
              "2 0.44     0.23     0.006    0.27     5.0509994 0.83189942\n",
              "3 0.50     1.00     0.300    0.30     5.7209275 0.87399412\n",
              "4 0.00     0.80     0.050    0.26     0.9120479 0.17748055\n",
              "5 0.00     0.75     0.780    0.23    55.7318789 1.00000000\n",
              "6 0.52     0.50     0.100    0.30     2.0935703 0.44678537"
            ]
          },
          "metadata": {}
        }
      ]
    },
    {
      "cell_type": "code",
      "source": [
        "df_hot0[df_hot0$pvalue < 0.05,]"
      ],
      "metadata": {
        "colab": {
          "base_uri": "https://localhost:8080/",
          "height": 192
        },
        "id": "0j1J_pztdfb4",
        "outputId": "ee105abf-de88-48ac-b37b-9ee2b1ff5235"
      },
      "execution_count": null,
      "outputs": [
        {
          "output_type": "display_data",
          "data": {
            "text/html": [
              "<table class=\"dataframe\">\n",
              "<caption>A data.frame: 3 × 6</caption>\n",
              "<thead>\n",
              "\t<tr><th></th><th scope=col>asi1_med</th><th scope=col>asi2_emp</th><th scope=col>asi3_alc</th><th scope=col>asi4_dr</th><th scope=col>mahalnobis</th><th scope=col>pvalue</th></tr>\n",
              "\t<tr><th></th><th scope=col>&lt;dbl&gt;</th><th scope=col>&lt;dbl&gt;</th><th scope=col>&lt;dbl&gt;</th><th scope=col>&lt;dbl&gt;</th><th scope=col>&lt;dbl&gt;</th><th scope=col>&lt;dbl&gt;</th></tr>\n",
              "</thead>\n",
              "<tbody>\n",
              "\t<tr><th scope=row>37</th><td>0.2</td><td>0.70</td><td>0.10</td><td>0.3</td><td>0.2931631</td><td>0.03869086</td></tr>\n",
              "\t<tr><th scope=row>77</th><td>0.2</td><td>0.71</td><td>0.08</td><td>0.3</td><td>0.2837457</td><td>0.03694408</td></tr>\n",
              "\t<tr><th scope=row>259</th><td>0.2</td><td>0.70</td><td>0.09</td><td>0.3</td><td>0.2883831</td><td>0.03780170</td></tr>\n",
              "</tbody>\n",
              "</table>\n"
            ],
            "text/markdown": "\nA data.frame: 3 × 6\n\n| <!--/--> | asi1_med &lt;dbl&gt; | asi2_emp &lt;dbl&gt; | asi3_alc &lt;dbl&gt; | asi4_dr &lt;dbl&gt; | mahalnobis &lt;dbl&gt; | pvalue &lt;dbl&gt; |\n|---|---|---|---|---|---|---|\n| 37 | 0.2 | 0.70 | 0.10 | 0.3 | 0.2931631 | 0.03869086 |\n| 77 | 0.2 | 0.71 | 0.08 | 0.3 | 0.2837457 | 0.03694408 |\n| 259 | 0.2 | 0.70 | 0.09 | 0.3 | 0.2883831 | 0.03780170 |\n\n",
            "text/latex": "A data.frame: 3 × 6\n\\begin{tabular}{r|llllll}\n  & asi1\\_med & asi2\\_emp & asi3\\_alc & asi4\\_dr & mahalnobis & pvalue\\\\\n  & <dbl> & <dbl> & <dbl> & <dbl> & <dbl> & <dbl>\\\\\n\\hline\n\t37 & 0.2 & 0.70 & 0.10 & 0.3 & 0.2931631 & 0.03869086\\\\\n\t77 & 0.2 & 0.71 & 0.08 & 0.3 & 0.2837457 & 0.03694408\\\\\n\t259 & 0.2 & 0.70 & 0.09 & 0.3 & 0.2883831 & 0.03780170\\\\\n\\end{tabular}\n",
            "text/plain": [
              "    asi1_med asi2_emp asi3_alc asi4_dr mahalnobis pvalue    \n",
              "37  0.2      0.70     0.10     0.3     0.2931631  0.03869086\n",
              "77  0.2      0.71     0.08     0.3     0.2837457  0.03694408\n",
              "259 0.2      0.70     0.09     0.3     0.2883831  0.03780170"
            ]
          },
          "metadata": {}
        }
      ]
    },
    {
      "cell_type": "code",
      "source": [
        "df_hot0[df_hot0$pvalue == min(df_hot0$pvalue),]"
      ],
      "metadata": {
        "colab": {
          "base_uri": "https://localhost:8080/",
          "height": 129
        },
        "id": "2wmtmRzbfmBb",
        "outputId": "c518977e-5102-4b43-b1b6-374e336306ae"
      },
      "execution_count": null,
      "outputs": [
        {
          "output_type": "display_data",
          "data": {
            "text/html": [
              "<table class=\"dataframe\">\n",
              "<caption>A data.frame: 1 × 6</caption>\n",
              "<thead>\n",
              "\t<tr><th></th><th scope=col>asi1_med</th><th scope=col>asi2_emp</th><th scope=col>asi3_alc</th><th scope=col>asi4_dr</th><th scope=col>mahalnobis</th><th scope=col>pvalue</th></tr>\n",
              "\t<tr><th></th><th scope=col>&lt;dbl&gt;</th><th scope=col>&lt;dbl&gt;</th><th scope=col>&lt;dbl&gt;</th><th scope=col>&lt;dbl&gt;</th><th scope=col>&lt;dbl&gt;</th><th scope=col>&lt;dbl&gt;</th></tr>\n",
              "</thead>\n",
              "<tbody>\n",
              "\t<tr><th scope=row>77</th><td>0.2</td><td>0.71</td><td>0.08</td><td>0.3</td><td>0.2837457</td><td>0.03694408</td></tr>\n",
              "</tbody>\n",
              "</table>\n"
            ],
            "text/markdown": "\nA data.frame: 1 × 6\n\n| <!--/--> | asi1_med &lt;dbl&gt; | asi2_emp &lt;dbl&gt; | asi3_alc &lt;dbl&gt; | asi4_dr &lt;dbl&gt; | mahalnobis &lt;dbl&gt; | pvalue &lt;dbl&gt; |\n|---|---|---|---|---|---|---|\n| 77 | 0.2 | 0.71 | 0.08 | 0.3 | 0.2837457 | 0.03694408 |\n\n",
            "text/latex": "A data.frame: 1 × 6\n\\begin{tabular}{r|llllll}\n  & asi1\\_med & asi2\\_emp & asi3\\_alc & asi4\\_dr & mahalnobis & pvalue\\\\\n  & <dbl> & <dbl> & <dbl> & <dbl> & <dbl> & <dbl>\\\\\n\\hline\n\t77 & 0.2 & 0.71 & 0.08 & 0.3 & 0.2837457 & 0.03694408\\\\\n\\end{tabular}\n",
            "text/plain": [
              "   asi1_med asi2_emp asi3_alc asi4_dr mahalnobis pvalue    \n",
              "77 0.2      0.71     0.08     0.3     0.2837457  0.03694408"
            ]
          },
          "metadata": {}
        }
      ]
    },
    {
      "cell_type": "markdown",
      "source": [
        "Исключим наблюдение с наименьшим p-value и повторим процесс."
      ],
      "metadata": {
        "id": "ZMDrFLHLeADo"
      }
    },
    {
      "cell_type": "code",
      "source": [
        "df_hot0 <- df_hot0[df_hot0$pvalue != min(df_hot0$pvalue),]\n",
        "df_hot0$mahalnobis<- mahalanobis(df_hot0, colMeans(df_hot0), cov(df_hot0))\n",
        "df_hot0$pvalue <- pchisq(df_hot0$mahalnobis, df=3)\n",
        "df_hot0[df_hot0$pvalue < 0.05,]"
      ],
      "metadata": {
        "colab": {
          "base_uri": "https://localhost:8080/",
          "height": 98
        },
        "id": "VVd7D-WIeHyK",
        "outputId": "489de8ff-1060-414f-d9eb-608915b6c27f"
      },
      "execution_count": null,
      "outputs": [
        {
          "output_type": "display_data",
          "data": {
            "text/html": [
              "<table class=\"dataframe\">\n",
              "<caption>A data.frame: 0 × 6</caption>\n",
              "<thead>\n",
              "\t<tr><th scope=col>asi1_med</th><th scope=col>asi2_emp</th><th scope=col>asi3_alc</th><th scope=col>asi4_dr</th><th scope=col>mahalnobis</th><th scope=col>pvalue</th></tr>\n",
              "\t<tr><th scope=col>&lt;dbl&gt;</th><th scope=col>&lt;dbl&gt;</th><th scope=col>&lt;dbl&gt;</th><th scope=col>&lt;dbl&gt;</th><th scope=col>&lt;dbl&gt;</th><th scope=col>&lt;dbl&gt;</th></tr>\n",
              "</thead>\n",
              "<tbody>\n",
              "</tbody>\n",
              "</table>\n"
            ],
            "text/markdown": "\nA data.frame: 0 × 6\n\n| asi1_med &lt;dbl&gt; | asi2_emp &lt;dbl&gt; | asi3_alc &lt;dbl&gt; | asi4_dr &lt;dbl&gt; | mahalnobis &lt;dbl&gt; | pvalue &lt;dbl&gt; |\n|---|---|---|---|---|---|\n\n",
            "text/latex": "A data.frame: 0 × 6\n\\begin{tabular}{llllll}\n asi1\\_med & asi2\\_emp & asi3\\_alc & asi4\\_dr & mahalnobis & pvalue\\\\\n <dbl> & <dbl> & <dbl> & <dbl> & <dbl> & <dbl>\\\\\n\\hline\n\\end{tabular}\n",
            "text/plain": [
              "     asi1_med asi2_emp asi3_alc asi4_dr mahalnobis pvalue"
            ]
          },
          "metadata": {}
        }
      ]
    },
    {
      "cell_type": "code",
      "source": [
        "df_hot0[df_hot0$pvalue == min(df_hot0$pvalue), ]"
      ],
      "metadata": {
        "colab": {
          "base_uri": "https://localhost:8080/",
          "height": 129
        },
        "id": "EM0DaGYdegeC",
        "outputId": "56c65595-7308-4500-cdc7-21467776ab52"
      },
      "execution_count": null,
      "outputs": [
        {
          "output_type": "display_data",
          "data": {
            "text/html": [
              "<table class=\"dataframe\">\n",
              "<caption>A data.frame: 1 × 6</caption>\n",
              "<thead>\n",
              "\t<tr><th></th><th scope=col>asi1_med</th><th scope=col>asi2_emp</th><th scope=col>asi3_alc</th><th scope=col>asi4_dr</th><th scope=col>mahalnobis</th><th scope=col>pvalue</th></tr>\n",
              "\t<tr><th></th><th scope=col>&lt;dbl&gt;</th><th scope=col>&lt;dbl&gt;</th><th scope=col>&lt;dbl&gt;</th><th scope=col>&lt;dbl&gt;</th><th scope=col>&lt;dbl&gt;</th><th scope=col>&lt;dbl&gt;</th></tr>\n",
              "</thead>\n",
              "<tbody>\n",
              "\t<tr><th scope=row>105</th><td>0</td><td>1</td><td>0.03</td><td>0.26</td><td>1.781396</td><td>0.3810083</td></tr>\n",
              "</tbody>\n",
              "</table>\n"
            ],
            "text/markdown": "\nA data.frame: 1 × 6\n\n| <!--/--> | asi1_med &lt;dbl&gt; | asi2_emp &lt;dbl&gt; | asi3_alc &lt;dbl&gt; | asi4_dr &lt;dbl&gt; | mahalnobis &lt;dbl&gt; | pvalue &lt;dbl&gt; |\n|---|---|---|---|---|---|---|\n| 105 | 0 | 1 | 0.03 | 0.26 | 1.781396 | 0.3810083 |\n\n",
            "text/latex": "A data.frame: 1 × 6\n\\begin{tabular}{r|llllll}\n  & asi1\\_med & asi2\\_emp & asi3\\_alc & asi4\\_dr & mahalnobis & pvalue\\\\\n  & <dbl> & <dbl> & <dbl> & <dbl> & <dbl> & <dbl>\\\\\n\\hline\n\t105 & 0 & 1 & 0.03 & 0.26 & 1.781396 & 0.3810083\\\\\n\\end{tabular}\n",
            "text/plain": [
              "    asi1_med asi2_emp asi3_alc asi4_dr mahalnobis pvalue   \n",
              "105 0        1        0.03     0.26    1.781396   0.3810083"
            ]
          },
          "metadata": {}
        }
      ]
    },
    {
      "cell_type": "markdown",
      "source": [
        "Так как теперь все p-value > 0.05, считается, что в выборке нет выбросов."
      ],
      "metadata": {
        "id": "KforOeitgM8E"
      }
    }
  ]
}
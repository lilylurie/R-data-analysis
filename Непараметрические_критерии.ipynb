{
  "nbformat": 4,
  "nbformat_minor": 0,
  "metadata": {
    "colab": {
      "provenance": []
    },
    "kernelspec": {
      "name": "ir",
      "display_name": "R"
    },
    "language_info": {
      "name": "R"
    }
  },
  "cells": [
    {
      "cell_type": "code",
      "execution_count": null,
      "metadata": {
        "colab": {
          "base_uri": "https://localhost:8080/"
        },
        "id": "G4g0PP0TFjhP",
        "outputId": "7c13ed2b-27f8-460a-b764-cfd9d5b881cb"
      },
      "outputs": [
        {
          "output_type": "stream",
          "name": "stderr",
          "text": [
            "*** Package RVAideMemoire v 0.9-83-7 ***\n",
            "\n"
          ]
        }
      ],
      "source": [
        "# install.packages(\"nonparam\")\n",
        "# install.packages(\"agricolae\")\n",
        "install.packages(\"RVAideMemoire\")\n",
        "library(RVAideMemoire)"
      ]
    },
    {
      "cell_type": "code",
      "source": [
        "library(stats)"
      ],
      "metadata": {
        "id": "vy2GfNo_H-uI"
      },
      "execution_count": null,
      "outputs": []
    },
    {
      "cell_type": "code",
      "source": [
        "df <- read.csv(\"/content/addicts.txt\", sep = \"\\t\")\n",
        "head(df)"
      ],
      "metadata": {
        "colab": {
          "base_uri": "https://localhost:8080/",
          "height": 306
        },
        "id": "ZhqzX5E8GGJu",
        "outputId": "9c54976b-8cbf-4ea8-f648-f574eda05633"
      },
      "execution_count": null,
      "outputs": [
        {
          "output_type": "display_data",
          "data": {
            "text/html": [
              "<table class=\"dataframe\">\n",
              "<caption>A data.frame: 6 × 27</caption>\n",
              "<thead>\n",
              "\t<tr><th></th><th scope=col>prcod</th><th scope=col>intpla</th><th scope=col>sex</th><th scope=col>age</th><th scope=col>educat</th><th scope=col>curwor</th><th scope=col>asi1_med</th><th scope=col>asi2_emp</th><th scope=col>asi3_alc</th><th scope=col>asi4_dr</th><th scope=col>⋯</th><th scope=col>ha</th><th scope=col>se</th><th scope=col>cravin</th><th scope=col>rabdru</th><th scope=col>rubsex</th><th scope=col>gaf</th><th scope=col>bdi</th><th scope=col>sstati</th><th scope=col>end</th><th scope=col>endpo</th></tr>\n",
              "\t<tr><th></th><th scope=col>&lt;int&gt;</th><th scope=col>&lt;int&gt;</th><th scope=col>&lt;int&gt;</th><th scope=col>&lt;int&gt;</th><th scope=col>&lt;int&gt;</th><th scope=col>&lt;int&gt;</th><th scope=col>&lt;dbl&gt;</th><th scope=col>&lt;dbl&gt;</th><th scope=col>&lt;dbl&gt;</th><th scope=col>&lt;dbl&gt;</th><th scope=col>⋯</th><th scope=col>&lt;int&gt;</th><th scope=col>&lt;int&gt;</th><th scope=col>&lt;dbl&gt;</th><th scope=col>&lt;dbl&gt;</th><th scope=col>&lt;int&gt;</th><th scope=col>&lt;int&gt;</th><th scope=col>&lt;int&gt;</th><th scope=col>&lt;int&gt;</th><th scope=col>&lt;int&gt;</th><th scope=col>&lt;int&gt;</th></tr>\n",
              "</thead>\n",
              "<tbody>\n",
              "\t<tr><th scope=row>1</th><td>4</td><td>1</td><td>0</td><td>18</td><td>1</td><td>1</td><td>0.19</td><td>0.70</td><td>0.120</td><td>0.30</td><td>⋯</td><td>1</td><td>0</td><td> 4.6</td><td> 1</td><td>4</td><td>55</td><td>25</td><td>60</td><td>0</td><td>5</td></tr>\n",
              "\t<tr><th scope=row>2</th><td>2</td><td>2</td><td>1</td><td>30</td><td>4</td><td>1</td><td>0.44</td><td>0.23</td><td>0.006</td><td>0.27</td><td>⋯</td><td>0</td><td>0</td><td> 9.7</td><td> 4</td><td>5</td><td>55</td><td>39</td><td>50</td><td>0</td><td>5</td></tr>\n",
              "\t<tr><th scope=row>3</th><td>2</td><td>1</td><td>0</td><td>23</td><td>2</td><td>0</td><td>0.50</td><td>1.00</td><td>0.300</td><td>0.30</td><td>⋯</td><td>0</td><td>0</td><td> 9.5</td><td> 6</td><td>1</td><td>45</td><td>29</td><td>55</td><td>0</td><td>2</td></tr>\n",
              "\t<tr><th scope=row>4</th><td>4</td><td>1</td><td>0</td><td>20</td><td>2</td><td>1</td><td>0.00</td><td>0.80</td><td>0.050</td><td>0.26</td><td>⋯</td><td>1</td><td>0</td><td> 2.7</td><td>11</td><td>4</td><td>40</td><td>28</td><td>58</td><td>0</td><td>5</td></tr>\n",
              "\t<tr><th scope=row>5</th><td>3</td><td>2</td><td>0</td><td>20</td><td>2</td><td>0</td><td>0.00</td><td>0.75</td><td>0.780</td><td>0.23</td><td>⋯</td><td>0</td><td>0</td><td> 3.0</td><td>19</td><td>4</td><td>40</td><td>28</td><td>58</td><td>0</td><td>2</td></tr>\n",
              "\t<tr><th scope=row>6</th><td>1</td><td>1</td><td>0</td><td>24</td><td>2</td><td>0</td><td>0.52</td><td>0.50</td><td>0.100</td><td>0.30</td><td>⋯</td><td>0</td><td>0</td><td>10.0</td><td> 3</td><td>2</td><td>41</td><td>33</td><td>68</td><td>0</td><td>2</td></tr>\n",
              "</tbody>\n",
              "</table>\n"
            ],
            "text/markdown": "\nA data.frame: 6 × 27\n\n| <!--/--> | prcod &lt;int&gt; | intpla &lt;int&gt; | sex &lt;int&gt; | age &lt;int&gt; | educat &lt;int&gt; | curwor &lt;int&gt; | asi1_med &lt;dbl&gt; | asi2_emp &lt;dbl&gt; | asi3_alc &lt;dbl&gt; | asi4_dr &lt;dbl&gt; | ⋯ ⋯ | ha &lt;int&gt; | se &lt;int&gt; | cravin &lt;dbl&gt; | rabdru &lt;dbl&gt; | rubsex &lt;int&gt; | gaf &lt;int&gt; | bdi &lt;int&gt; | sstati &lt;int&gt; | end &lt;int&gt; | endpo &lt;int&gt; |\n|---|---|---|---|---|---|---|---|---|---|---|---|---|---|---|---|---|---|---|---|---|---|\n| 1 | 4 | 1 | 0 | 18 | 1 | 1 | 0.19 | 0.70 | 0.120 | 0.30 | ⋯ | 1 | 0 |  4.6 |  1 | 4 | 55 | 25 | 60 | 0 | 5 |\n| 2 | 2 | 2 | 1 | 30 | 4 | 1 | 0.44 | 0.23 | 0.006 | 0.27 | ⋯ | 0 | 0 |  9.7 |  4 | 5 | 55 | 39 | 50 | 0 | 5 |\n| 3 | 2 | 1 | 0 | 23 | 2 | 0 | 0.50 | 1.00 | 0.300 | 0.30 | ⋯ | 0 | 0 |  9.5 |  6 | 1 | 45 | 29 | 55 | 0 | 2 |\n| 4 | 4 | 1 | 0 | 20 | 2 | 1 | 0.00 | 0.80 | 0.050 | 0.26 | ⋯ | 1 | 0 |  2.7 | 11 | 4 | 40 | 28 | 58 | 0 | 5 |\n| 5 | 3 | 2 | 0 | 20 | 2 | 0 | 0.00 | 0.75 | 0.780 | 0.23 | ⋯ | 0 | 0 |  3.0 | 19 | 4 | 40 | 28 | 58 | 0 | 2 |\n| 6 | 1 | 1 | 0 | 24 | 2 | 0 | 0.52 | 0.50 | 0.100 | 0.30 | ⋯ | 0 | 0 | 10.0 |  3 | 2 | 41 | 33 | 68 | 0 | 2 |\n\n",
            "text/latex": "A data.frame: 6 × 27\n\\begin{tabular}{r|lllllllllllllllllllll}\n  & prcod & intpla & sex & age & educat & curwor & asi1\\_med & asi2\\_emp & asi3\\_alc & asi4\\_dr & ⋯ & ha & se & cravin & rabdru & rubsex & gaf & bdi & sstati & end & endpo\\\\\n  & <int> & <int> & <int> & <int> & <int> & <int> & <dbl> & <dbl> & <dbl> & <dbl> & ⋯ & <int> & <int> & <dbl> & <dbl> & <int> & <int> & <int> & <int> & <int> & <int>\\\\\n\\hline\n\t1 & 4 & 1 & 0 & 18 & 1 & 1 & 0.19 & 0.70 & 0.120 & 0.30 & ⋯ & 1 & 0 &  4.6 &  1 & 4 & 55 & 25 & 60 & 0 & 5\\\\\n\t2 & 2 & 2 & 1 & 30 & 4 & 1 & 0.44 & 0.23 & 0.006 & 0.27 & ⋯ & 0 & 0 &  9.7 &  4 & 5 & 55 & 39 & 50 & 0 & 5\\\\\n\t3 & 2 & 1 & 0 & 23 & 2 & 0 & 0.50 & 1.00 & 0.300 & 0.30 & ⋯ & 0 & 0 &  9.5 &  6 & 1 & 45 & 29 & 55 & 0 & 2\\\\\n\t4 & 4 & 1 & 0 & 20 & 2 & 1 & 0.00 & 0.80 & 0.050 & 0.26 & ⋯ & 1 & 0 &  2.7 & 11 & 4 & 40 & 28 & 58 & 0 & 5\\\\\n\t5 & 3 & 2 & 0 & 20 & 2 & 0 & 0.00 & 0.75 & 0.780 & 0.23 & ⋯ & 0 & 0 &  3.0 & 19 & 4 & 40 & 28 & 58 & 0 & 2\\\\\n\t6 & 1 & 1 & 0 & 24 & 2 & 0 & 0.52 & 0.50 & 0.100 & 0.30 & ⋯ & 0 & 0 & 10.0 &  3 & 2 & 41 & 33 & 68 & 0 & 2\\\\\n\\end{tabular}\n",
            "text/plain": [
              "  prcod intpla sex age educat curwor asi1_med asi2_emp asi3_alc asi4_dr ⋯ ha se\n",
              "1 4     1      0   18  1      1      0.19     0.70     0.120    0.30    ⋯ 1  0 \n",
              "2 2     2      1   30  4      1      0.44     0.23     0.006    0.27    ⋯ 0  0 \n",
              "3 2     1      0   23  2      0      0.50     1.00     0.300    0.30    ⋯ 0  0 \n",
              "4 4     1      0   20  2      1      0.00     0.80     0.050    0.26    ⋯ 1  0 \n",
              "5 3     2      0   20  2      0      0.00     0.75     0.780    0.23    ⋯ 0  0 \n",
              "6 1     1      0   24  2      0      0.52     0.50     0.100    0.30    ⋯ 0  0 \n",
              "  cravin rabdru rubsex gaf bdi sstati end endpo\n",
              "1  4.6    1     4      55  25  60     0   5    \n",
              "2  9.7    4     5      55  39  50     0   5    \n",
              "3  9.5    6     1      45  29  55     0   2    \n",
              "4  2.7   11     4      40  28  58     0   5    \n",
              "5  3.0   19     4      40  28  58     0   2    \n",
              "6 10.0    3     2      41  33  68     0   2    "
            ]
          },
          "metadata": {}
        }
      ]
    },
    {
      "cell_type": "code",
      "source": [
        "df <- na.omit(df)"
      ],
      "metadata": {
        "id": "5UbIBvq1pW7G"
      },
      "execution_count": null,
      "outputs": []
    },
    {
      "cell_type": "code",
      "source": [
        "names(df)"
      ],
      "metadata": {
        "colab": {
          "base_uri": "https://localhost:8080/",
          "height": 52
        },
        "id": "jDvx7TWXGuFG",
        "outputId": "14725a19-834a-4f50-e04b-36fbb238ae43"
      },
      "execution_count": null,
      "outputs": [
        {
          "output_type": "display_data",
          "data": {
            "text/html": [
              "<style>\n",
              ".list-inline {list-style: none; margin:0; padding: 0}\n",
              ".list-inline>li {display: inline-block}\n",
              ".list-inline>li:not(:last-child)::after {content: \"\\00b7\"; padding: 0 .5ex}\n",
              "</style>\n",
              "<ol class=list-inline><li>'prcod'</li><li>'intpla'</li><li>'sex'</li><li>'age'</li><li>'educat'</li><li>'curwor'</li><li>'asi1_med'</li><li>'asi2_emp'</li><li>'asi3_alc'</li><li>'asi4_dr'</li><li>'asi5_leg'</li><li>'asi6_fam'</li><li>'asi7_psy'</li><li>'asid3_dyr'</li><li>'tlfba2'</li><li>'tlfbh2'</li><li>'st'</li><li>'ha'</li><li>'se'</li><li>'cravin'</li><li>'rabdru'</li><li>'rubsex'</li><li>'gaf'</li><li>'bdi'</li><li>'sstati'</li><li>'end'</li><li>'endpo'</li></ol>\n"
            ],
            "text/markdown": "1. 'prcod'\n2. 'intpla'\n3. 'sex'\n4. 'age'\n5. 'educat'\n6. 'curwor'\n7. 'asi1_med'\n8. 'asi2_emp'\n9. 'asi3_alc'\n10. 'asi4_dr'\n11. 'asi5_leg'\n12. 'asi6_fam'\n13. 'asi7_psy'\n14. 'asid3_dyr'\n15. 'tlfba2'\n16. 'tlfbh2'\n17. 'st'\n18. 'ha'\n19. 'se'\n20. 'cravin'\n21. 'rabdru'\n22. 'rubsex'\n23. 'gaf'\n24. 'bdi'\n25. 'sstati'\n26. 'end'\n27. 'endpo'\n\n\n",
            "text/latex": "\\begin{enumerate*}\n\\item 'prcod'\n\\item 'intpla'\n\\item 'sex'\n\\item 'age'\n\\item 'educat'\n\\item 'curwor'\n\\item 'asi1\\_med'\n\\item 'asi2\\_emp'\n\\item 'asi3\\_alc'\n\\item 'asi4\\_dr'\n\\item 'asi5\\_leg'\n\\item 'asi6\\_fam'\n\\item 'asi7\\_psy'\n\\item 'asid3\\_dyr'\n\\item 'tlfba2'\n\\item 'tlfbh2'\n\\item 'st'\n\\item 'ha'\n\\item 'se'\n\\item 'cravin'\n\\item 'rabdru'\n\\item 'rubsex'\n\\item 'gaf'\n\\item 'bdi'\n\\item 'sstati'\n\\item 'end'\n\\item 'endpo'\n\\end{enumerate*}\n",
            "text/plain": [
              " [1] \"prcod\"     \"intpla\"    \"sex\"       \"age\"       \"educat\"    \"curwor\"   \n",
              " [7] \"asi1_med\"  \"asi2_emp\"  \"asi3_alc\"  \"asi4_dr\"   \"asi5_leg\"  \"asi6_fam\" \n",
              "[13] \"asi7_psy\"  \"asid3_dyr\" \"tlfba2\"    \"tlfbh2\"    \"st\"        \"ha\"       \n",
              "[19] \"se\"        \"cravin\"    \"rabdru\"    \"rubsex\"    \"gaf\"       \"bdi\"      \n",
              "[25] \"sstati\"    \"end\"       \"endpo\"    "
            ]
          },
          "metadata": {}
        }
      ]
    },
    {
      "cell_type": "code",
      "source": [
        "Y <- df$bdi"
      ],
      "metadata": {
        "id": "Tk_ytPLQGcLn"
      },
      "execution_count": null,
      "outputs": []
    },
    {
      "cell_type": "markdown",
      "source": [
        "Критерий Вилкоксона"
      ],
      "metadata": {
        "id": "UFz9YYbCpwWl"
      }
    },
    {
      "cell_type": "code",
      "source": [
        "wilcox.test(Y ~ df$curwor, alternative = \"two.sided\")"
      ],
      "metadata": {
        "id": "8gKkbVmwIAxL",
        "colab": {
          "base_uri": "https://localhost:8080/",
          "height": 121
        },
        "outputId": "b52bbfc6-1d2d-4ab5-b400-005ab876aa30"
      },
      "execution_count": null,
      "outputs": [
        {
          "output_type": "display_data",
          "data": {
            "text/plain": [
              "\n",
              "\tWilcoxon rank sum test with continuity correction\n",
              "\n",
              "data:  Y by df$curwor\n",
              "W = 8381.5, p-value = 0.05728\n",
              "alternative hypothesis: true location shift is not equal to 0\n"
            ]
          },
          "metadata": {}
        }
      ]
    },
    {
      "cell_type": "markdown",
      "source": [
        "Различие не значимо."
      ],
      "metadata": {
        "id": "KiaoM6WdsBk9"
      }
    },
    {
      "cell_type": "markdown",
      "source": [
        "Критерий Манна-Уитни"
      ],
      "metadata": {
        "id": "BxsnfvHXp8wF"
      }
    },
    {
      "cell_type": "code",
      "source": [
        "wilcox.test(Y, df$curwor)"
      ],
      "metadata": {
        "colab": {
          "base_uri": "https://localhost:8080/",
          "height": 121
        },
        "id": "YCfRuq7yp-oZ",
        "outputId": "37cfbd3d-0867-4770-bd7f-8af3606a6f7f"
      },
      "execution_count": null,
      "outputs": [
        {
          "output_type": "display_data",
          "data": {
            "text/plain": [
              "\n",
              "\tWilcoxon rank sum test with continuity correction\n",
              "\n",
              "data:  Y and df$curwor\n",
              "W = 73441, p-value < 2.2e-16\n",
              "alternative hypothesis: true location shift is not equal to 0\n"
            ]
          },
          "metadata": {}
        }
      ]
    },
    {
      "cell_type": "markdown",
      "source": [
        "Различие значимо."
      ],
      "metadata": {
        "id": "UXDR0g9ZsFB9"
      }
    },
    {
      "cell_type": "markdown",
      "source": [
        "Критерий Краскела-Уоллиса"
      ],
      "metadata": {
        "id": "k8m3EeNEqAXS"
      }
    },
    {
      "cell_type": "code",
      "source": [
        "kruskal.test(Y ~ df$educat)"
      ],
      "metadata": {
        "colab": {
          "base_uri": "https://localhost:8080/",
          "height": 104
        },
        "id": "nhyWkj_1rRYF",
        "outputId": "6bf5ed68-58bb-4f96-d1b6-ee421221e5c2"
      },
      "execution_count": null,
      "outputs": [
        {
          "output_type": "display_data",
          "data": {
            "text/plain": [
              "\n",
              "\tKruskal-Wallis rank sum test\n",
              "\n",
              "data:  Y by df$educat\n",
              "Kruskal-Wallis chi-squared = 4.3446, df = 3, p-value = 0.2266\n"
            ]
          },
          "metadata": {}
        }
      ]
    },
    {
      "cell_type": "markdown",
      "source": [
        "Различие не значимо."
      ],
      "metadata": {
        "id": "c9q3hChNsHQo"
      }
    },
    {
      "cell_type": "markdown",
      "source": [
        "Медианный критерий"
      ],
      "metadata": {
        "id": "FbTkB9wYqDse"
      }
    },
    {
      "cell_type": "code",
      "source": [
        "mood.medtest(Y ~ df$curwor)"
      ],
      "metadata": {
        "colab": {
          "base_uri": "https://localhost:8080/",
          "height": 104
        },
        "id": "1sIHJzA2sVu-",
        "outputId": "08f7576f-a56a-4782-886a-9b0f5bbf7eb4"
      },
      "execution_count": null,
      "outputs": [
        {
          "output_type": "display_data",
          "data": {
            "text/plain": [
              "\n",
              "\tMood's median test\n",
              "\n",
              "data:  Y by df$curwor\n",
              "X-squared = 0.41537, df = 1, p-value = 0.5193\n"
            ]
          },
          "metadata": {}
        }
      ]
    },
    {
      "cell_type": "markdown",
      "source": [
        "Различие не значимо."
      ],
      "metadata": {
        "id": "B3aiGpJhvcLp"
      }
    },
    {
      "cell_type": "markdown",
      "source": [
        "## Для зависимых выборок"
      ],
      "metadata": {
        "id": "iQIUA_6Kbm0e"
      }
    },
    {
      "cell_type": "code",
      "source": [
        "df <- read.csv(\"/content/data_big.csv\")\n",
        "head(df)"
      ],
      "metadata": {
        "colab": {
          "base_uri": "https://localhost:8080/",
          "height": 306
        },
        "id": "7VmgM7TBbrYz",
        "outputId": "eb2b45a8-7990-401c-c65d-6134753b7ab9"
      },
      "execution_count": null,
      "outputs": [
        {
          "output_type": "display_data",
          "data": {
            "text/html": [
              "<table class=\"dataframe\">\n",
              "<caption>A data.frame: 6 × 121</caption>\n",
              "<thead>\n",
              "\t<tr><th></th><th scope=col>X</th><th scope=col>X.1</th><th scope=col>depressed.mood.1</th><th scope=col>anxiety.1</th><th scope=col>suspiciousness.1</th><th scope=col>irritability.1</th><th scope=col>craving.to.alcohol.1</th><th scope=col>weakness.1</th><th scope=col>insomia.1</th><th scope=col>headache.1</th><th scope=col>⋯</th><th scope=col>combined2.9</th><th scope=col>HR.9</th><th scope=col>SBP.9</th><th scope=col>DBP.9</th><th scope=col>MBP.9</th><th scope=col>SV.9</th><th scope=col>CO.9</th><th scope=col>SI.9</th><th scope=col>CI.9</th><th scope=col>TPR.9</th></tr>\n",
              "\t<tr><th></th><th scope=col>&lt;int&gt;</th><th scope=col>&lt;int&gt;</th><th scope=col>&lt;int&gt;</th><th scope=col>&lt;int&gt;</th><th scope=col>&lt;int&gt;</th><th scope=col>&lt;int&gt;</th><th scope=col>&lt;int&gt;</th><th scope=col>&lt;int&gt;</th><th scope=col>&lt;int&gt;</th><th scope=col>&lt;int&gt;</th><th scope=col>⋯</th><th scope=col>&lt;int&gt;</th><th scope=col>&lt;int&gt;</th><th scope=col>&lt;int&gt;</th><th scope=col>&lt;int&gt;</th><th scope=col>&lt;int&gt;</th><th scope=col>&lt;int&gt;</th><th scope=col>&lt;dbl&gt;</th><th scope=col>&lt;int&gt;</th><th scope=col>&lt;dbl&gt;</th><th scope=col>&lt;int&gt;</th></tr>\n",
              "</thead>\n",
              "<tbody>\n",
              "\t<tr><th scope=row>1</th><td>1</td><td>1</td><td>1</td><td>1</td><td>0</td><td>1</td><td>1</td><td>1</td><td>1</td><td>0</td><td>⋯</td><td>0</td><td>68</td><td>108</td><td>70</td><td> 83</td><td> 74</td><td>5.0</td><td>40</td><td>2.7</td><td>1321</td></tr>\n",
              "\t<tr><th scope=row>2</th><td>2</td><td>2</td><td>1</td><td>1</td><td>0</td><td>0</td><td>1</td><td>1</td><td>2</td><td>1</td><td>⋯</td><td>9</td><td>63</td><td>114</td><td>70</td><td> 85</td><td>123</td><td>7.7</td><td>60</td><td>3.8</td><td> 879</td></tr>\n",
              "\t<tr><th scope=row>3</th><td>3</td><td>3</td><td>1</td><td>1</td><td>0</td><td>0</td><td>0</td><td>2</td><td>1</td><td>0</td><td>⋯</td><td>0</td><td>64</td><td>120</td><td>80</td><td> 93</td><td>106</td><td>6.8</td><td>55</td><td>3.5</td><td>1098</td></tr>\n",
              "\t<tr><th scope=row>4</th><td>4</td><td>4</td><td>2</td><td>2</td><td>0</td><td>0</td><td>0</td><td>2</td><td>0</td><td>0</td><td>⋯</td><td>0</td><td>56</td><td>124</td><td>90</td><td>101</td><td> 90</td><td>5.1</td><td>43</td><td>2.4</td><td>1600</td></tr>\n",
              "\t<tr><th scope=row>5</th><td>5</td><td>5</td><td>1</td><td>1</td><td>0</td><td>0</td><td>2</td><td>2</td><td>1</td><td>0</td><td>⋯</td><td>0</td><td>66</td><td>116</td><td>78</td><td> 90</td><td> 90</td><td>5.9</td><td>45</td><td>2.2</td><td>1228</td></tr>\n",
              "\t<tr><th scope=row>6</th><td>6</td><td>6</td><td>1</td><td>1</td><td>0</td><td>1</td><td>1</td><td>2</td><td>0</td><td>0</td><td>⋯</td><td>0</td><td>62</td><td>142</td><td>90</td><td>107</td><td>113</td><td>7.0</td><td>56</td><td>3.4</td><td>1225</td></tr>\n",
              "</tbody>\n",
              "</table>\n"
            ],
            "text/markdown": "\nA data.frame: 6 × 121\n\n| <!--/--> | X &lt;int&gt; | X.1 &lt;int&gt; | depressed.mood.1 &lt;int&gt; | anxiety.1 &lt;int&gt; | suspiciousness.1 &lt;int&gt; | irritability.1 &lt;int&gt; | craving.to.alcohol.1 &lt;int&gt; | weakness.1 &lt;int&gt; | insomia.1 &lt;int&gt; | headache.1 &lt;int&gt; | ⋯ ⋯ | combined2.9 &lt;int&gt; | HR.9 &lt;int&gt; | SBP.9 &lt;int&gt; | DBP.9 &lt;int&gt; | MBP.9 &lt;int&gt; | SV.9 &lt;int&gt; | CO.9 &lt;dbl&gt; | SI.9 &lt;int&gt; | CI.9 &lt;dbl&gt; | TPR.9 &lt;int&gt; |\n|---|---|---|---|---|---|---|---|---|---|---|---|---|---|---|---|---|---|---|---|---|---|\n| 1 | 1 | 1 | 1 | 1 | 0 | 1 | 1 | 1 | 1 | 0 | ⋯ | 0 | 68 | 108 | 70 |  83 |  74 | 5.0 | 40 | 2.7 | 1321 |\n| 2 | 2 | 2 | 1 | 1 | 0 | 0 | 1 | 1 | 2 | 1 | ⋯ | 9 | 63 | 114 | 70 |  85 | 123 | 7.7 | 60 | 3.8 |  879 |\n| 3 | 3 | 3 | 1 | 1 | 0 | 0 | 0 | 2 | 1 | 0 | ⋯ | 0 | 64 | 120 | 80 |  93 | 106 | 6.8 | 55 | 3.5 | 1098 |\n| 4 | 4 | 4 | 2 | 2 | 0 | 0 | 0 | 2 | 0 | 0 | ⋯ | 0 | 56 | 124 | 90 | 101 |  90 | 5.1 | 43 | 2.4 | 1600 |\n| 5 | 5 | 5 | 1 | 1 | 0 | 0 | 2 | 2 | 1 | 0 | ⋯ | 0 | 66 | 116 | 78 |  90 |  90 | 5.9 | 45 | 2.2 | 1228 |\n| 6 | 6 | 6 | 1 | 1 | 0 | 1 | 1 | 2 | 0 | 0 | ⋯ | 0 | 62 | 142 | 90 | 107 | 113 | 7.0 | 56 | 3.4 | 1225 |\n\n",
            "text/latex": "A data.frame: 6 × 121\n\\begin{tabular}{r|lllllllllllllllllllll}\n  & X & X.1 & depressed.mood.1 & anxiety.1 & suspiciousness.1 & irritability.1 & craving.to.alcohol.1 & weakness.1 & insomia.1 & headache.1 & ⋯ & combined2.9 & HR.9 & SBP.9 & DBP.9 & MBP.9 & SV.9 & CO.9 & SI.9 & CI.9 & TPR.9\\\\\n  & <int> & <int> & <int> & <int> & <int> & <int> & <int> & <int> & <int> & <int> & ⋯ & <int> & <int> & <int> & <int> & <int> & <int> & <dbl> & <int> & <dbl> & <int>\\\\\n\\hline\n\t1 & 1 & 1 & 1 & 1 & 0 & 1 & 1 & 1 & 1 & 0 & ⋯ & 0 & 68 & 108 & 70 &  83 &  74 & 5.0 & 40 & 2.7 & 1321\\\\\n\t2 & 2 & 2 & 1 & 1 & 0 & 0 & 1 & 1 & 2 & 1 & ⋯ & 9 & 63 & 114 & 70 &  85 & 123 & 7.7 & 60 & 3.8 &  879\\\\\n\t3 & 3 & 3 & 1 & 1 & 0 & 0 & 0 & 2 & 1 & 0 & ⋯ & 0 & 64 & 120 & 80 &  93 & 106 & 6.8 & 55 & 3.5 & 1098\\\\\n\t4 & 4 & 4 & 2 & 2 & 0 & 0 & 0 & 2 & 0 & 0 & ⋯ & 0 & 56 & 124 & 90 & 101 &  90 & 5.1 & 43 & 2.4 & 1600\\\\\n\t5 & 5 & 5 & 1 & 1 & 0 & 0 & 2 & 2 & 1 & 0 & ⋯ & 0 & 66 & 116 & 78 &  90 &  90 & 5.9 & 45 & 2.2 & 1228\\\\\n\t6 & 6 & 6 & 1 & 1 & 0 & 1 & 1 & 2 & 0 & 0 & ⋯ & 0 & 62 & 142 & 90 & 107 & 113 & 7.0 & 56 & 3.4 & 1225\\\\\n\\end{tabular}\n",
            "text/plain": [
              "  X X.1 depressed.mood.1 anxiety.1 suspiciousness.1 irritability.1\n",
              "1 1 1   1                1         0                1             \n",
              "2 2 2   1                1         0                0             \n",
              "3 3 3   1                1         0                0             \n",
              "4 4 4   2                2         0                0             \n",
              "5 5 5   1                1         0                0             \n",
              "6 6 6   1                1         0                1             \n",
              "  craving.to.alcohol.1 weakness.1 insomia.1 headache.1 ⋯ combined2.9 HR.9 SBP.9\n",
              "1 1                    1          1         0          ⋯ 0           68   108  \n",
              "2 1                    1          2         1          ⋯ 9           63   114  \n",
              "3 0                    2          1         0          ⋯ 0           64   120  \n",
              "4 0                    2          0         0          ⋯ 0           56   124  \n",
              "5 2                    2          1         0          ⋯ 0           66   116  \n",
              "6 1                    2          0         0          ⋯ 0           62   142  \n",
              "  DBP.9 MBP.9 SV.9 CO.9 SI.9 CI.9 TPR.9\n",
              "1 70     83    74  5.0  40   2.7  1321 \n",
              "2 70     85   123  7.7  60   3.8   879 \n",
              "3 80     93   106  6.8  55   3.5  1098 \n",
              "4 90    101    90  5.1  43   2.4  1600 \n",
              "5 78     90    90  5.9  45   2.2  1228 \n",
              "6 90    107   113  7.0  56   3.4  1225 "
            ]
          },
          "metadata": {}
        }
      ]
    },
    {
      "cell_type": "markdown",
      "source": [
        "Уберём NA из датасета."
      ],
      "metadata": {
        "id": "oI56vNDfbxNt"
      }
    },
    {
      "cell_type": "code",
      "source": [
        "df <- na.omit(df)"
      ],
      "metadata": {
        "id": "odeqitfxbwGN"
      },
      "execution_count": null,
      "outputs": []
    },
    {
      "cell_type": "code",
      "source": [
        "names(df)"
      ],
      "metadata": {
        "colab": {
          "base_uri": "https://localhost:8080/",
          "height": 225
        },
        "id": "8L_ArysCbwzS",
        "outputId": "eb220211-2295-4714-fa29-7ae903d36b0d"
      },
      "execution_count": null,
      "outputs": [
        {
          "output_type": "display_data",
          "data": {
            "text/html": [
              "<style>\n",
              ".list-inline {list-style: none; margin:0; padding: 0}\n",
              ".list-inline>li {display: inline-block}\n",
              ".list-inline>li:not(:last-child)::after {content: \"\\00b7\"; padding: 0 .5ex}\n",
              "</style>\n",
              "<ol class=list-inline><li>'X'</li><li>'X.1'</li><li>'depressed.mood.1'</li><li>'anxiety.1'</li><li>'suspiciousness.1'</li><li>'irritability.1'</li><li>'craving.to.alcohol.1'</li><li>'weakness.1'</li><li>'insomia.1'</li><li>'headache.1'</li><li>'tremor.1'</li><li>'polyuria.1'</li><li>'sweating.1'</li><li>'transient.hallusinations.1'</li><li>'vomiting.1'</li><li>'anoreksia.1'</li><li>'diarrhea.1'</li><li>'thirst.1'</li><li>'chest.pain.1'</li><li>'hyperemia.1'</li><li>'combined1.1'</li><li>'combined2.1'</li><li>'HR.1'</li><li>'SBP.1'</li><li>'DBP.1'</li><li>'MBP.1'</li><li>'SV.1'</li><li>'CO.1'</li><li>'SI.1'</li><li>'CI.1'</li><li>'TPR.1'</li><li>'X.2'</li><li>'depressed.mood.2'</li><li>'anxiety.2'</li><li>'suspiciousness.2'</li><li>'irritability.2'</li><li>'craving.to.alcohol.2'</li><li>'weakness.2'</li><li>'insomia.2'</li><li>'headache.2'</li><li>'tremor.2'</li><li>'polyuria.2'</li><li>'sweating.2'</li><li>'transient.hallusinations.2'</li><li>'vomiting.2'</li><li>'anoreksia.2'</li><li>'diarrhea.2'</li><li>'thirst.2'</li><li>'chest.pain.2'</li><li>'hyperemia.2'</li><li>'combined1.2'</li><li>'combined2.2'</li><li>'HR.2'</li><li>'SBP.2'</li><li>'MBP.2'</li><li>'DBP.2'</li><li>'SV.2'</li><li>'CO.2'</li><li>'SI.2'</li><li>'CI.2'</li><li>'TPR.2'</li><li>'X.3'</li><li>'depressed.mood.3'</li><li>'anxiety.3'</li><li>'suspiciousness.3'</li><li>'irritability.3'</li><li>'craving.to.alcohol.3'</li><li>'weakness.3'</li><li>'insomia.3'</li><li>'headache.3'</li><li>'tremor.3'</li><li>'polyuria.3'</li><li>'sweating.3'</li><li>'transient.hallusinations.3'</li><li>'vomiting.3'</li><li>'anoreksia.3'</li><li>'diarrhea.3'</li><li>'thirst.3'</li><li>'chest.pain.3'</li><li>'hyperemia.3'</li><li>'combined1.3'</li><li>'combined2.3'</li><li>'HR.3'</li><li>'SBP.3'</li><li>'DBP.3'</li><li>'MBP.3'</li><li>'SV.3'</li><li>'CO.3'</li><li>'SI.3'</li><li>'CI.3'</li><li>'TPR.3'</li><li>'X.9'</li><li>'depressed.mood.9'</li><li>'anxiety.9'</li><li>'suspiciousness.9'</li><li>'irritability.9'</li><li>'craving.to.alcohol.9'</li><li>'weakness.9'</li><li>'insomnia.9'</li><li>'headache.9'</li><li>'tremor.9'</li><li>'polyuria.9'</li><li>'sweating.9'</li><li>'transient.hallusinations.9'</li><li>'vomiting.9'</li><li>'anoreksia.9'</li><li>'diarrhea.9'</li><li>'thirst.9'</li><li>'chest.pain.9'</li><li>'hyperemia.9'</li><li>'combined1.9'</li><li>'combined2.9'</li><li>'HR.9'</li><li>'SBP.9'</li><li>'DBP.9'</li><li>'MBP.9'</li><li>'SV.9'</li><li>'CO.9'</li><li>'SI.9'</li><li>'CI.9'</li><li>'TPR.9'</li></ol>\n"
            ],
            "text/markdown": "1. 'X'\n2. 'X.1'\n3. 'depressed.mood.1'\n4. 'anxiety.1'\n5. 'suspiciousness.1'\n6. 'irritability.1'\n7. 'craving.to.alcohol.1'\n8. 'weakness.1'\n9. 'insomia.1'\n10. 'headache.1'\n11. 'tremor.1'\n12. 'polyuria.1'\n13. 'sweating.1'\n14. 'transient.hallusinations.1'\n15. 'vomiting.1'\n16. 'anoreksia.1'\n17. 'diarrhea.1'\n18. 'thirst.1'\n19. 'chest.pain.1'\n20. 'hyperemia.1'\n21. 'combined1.1'\n22. 'combined2.1'\n23. 'HR.1'\n24. 'SBP.1'\n25. 'DBP.1'\n26. 'MBP.1'\n27. 'SV.1'\n28. 'CO.1'\n29. 'SI.1'\n30. 'CI.1'\n31. 'TPR.1'\n32. 'X.2'\n33. 'depressed.mood.2'\n34. 'anxiety.2'\n35. 'suspiciousness.2'\n36. 'irritability.2'\n37. 'craving.to.alcohol.2'\n38. 'weakness.2'\n39. 'insomia.2'\n40. 'headache.2'\n41. 'tremor.2'\n42. 'polyuria.2'\n43. 'sweating.2'\n44. 'transient.hallusinations.2'\n45. 'vomiting.2'\n46. 'anoreksia.2'\n47. 'diarrhea.2'\n48. 'thirst.2'\n49. 'chest.pain.2'\n50. 'hyperemia.2'\n51. 'combined1.2'\n52. 'combined2.2'\n53. 'HR.2'\n54. 'SBP.2'\n55. 'MBP.2'\n56. 'DBP.2'\n57. 'SV.2'\n58. 'CO.2'\n59. 'SI.2'\n60. 'CI.2'\n61. 'TPR.2'\n62. 'X.3'\n63. 'depressed.mood.3'\n64. 'anxiety.3'\n65. 'suspiciousness.3'\n66. 'irritability.3'\n67. 'craving.to.alcohol.3'\n68. 'weakness.3'\n69. 'insomia.3'\n70. 'headache.3'\n71. 'tremor.3'\n72. 'polyuria.3'\n73. 'sweating.3'\n74. 'transient.hallusinations.3'\n75. 'vomiting.3'\n76. 'anoreksia.3'\n77. 'diarrhea.3'\n78. 'thirst.3'\n79. 'chest.pain.3'\n80. 'hyperemia.3'\n81. 'combined1.3'\n82. 'combined2.3'\n83. 'HR.3'\n84. 'SBP.3'\n85. 'DBP.3'\n86. 'MBP.3'\n87. 'SV.3'\n88. 'CO.3'\n89. 'SI.3'\n90. 'CI.3'\n91. 'TPR.3'\n92. 'X.9'\n93. 'depressed.mood.9'\n94. 'anxiety.9'\n95. 'suspiciousness.9'\n96. 'irritability.9'\n97. 'craving.to.alcohol.9'\n98. 'weakness.9'\n99. 'insomnia.9'\n100. 'headache.9'\n101. 'tremor.9'\n102. 'polyuria.9'\n103. 'sweating.9'\n104. 'transient.hallusinations.9'\n105. 'vomiting.9'\n106. 'anoreksia.9'\n107. 'diarrhea.9'\n108. 'thirst.9'\n109. 'chest.pain.9'\n110. 'hyperemia.9'\n111. 'combined1.9'\n112. 'combined2.9'\n113. 'HR.9'\n114. 'SBP.9'\n115. 'DBP.9'\n116. 'MBP.9'\n117. 'SV.9'\n118. 'CO.9'\n119. 'SI.9'\n120. 'CI.9'\n121. 'TPR.9'\n\n\n",
            "text/latex": "\\begin{enumerate*}\n\\item 'X'\n\\item 'X.1'\n\\item 'depressed.mood.1'\n\\item 'anxiety.1'\n\\item 'suspiciousness.1'\n\\item 'irritability.1'\n\\item 'craving.to.alcohol.1'\n\\item 'weakness.1'\n\\item 'insomia.1'\n\\item 'headache.1'\n\\item 'tremor.1'\n\\item 'polyuria.1'\n\\item 'sweating.1'\n\\item 'transient.hallusinations.1'\n\\item 'vomiting.1'\n\\item 'anoreksia.1'\n\\item 'diarrhea.1'\n\\item 'thirst.1'\n\\item 'chest.pain.1'\n\\item 'hyperemia.1'\n\\item 'combined1.1'\n\\item 'combined2.1'\n\\item 'HR.1'\n\\item 'SBP.1'\n\\item 'DBP.1'\n\\item 'MBP.1'\n\\item 'SV.1'\n\\item 'CO.1'\n\\item 'SI.1'\n\\item 'CI.1'\n\\item 'TPR.1'\n\\item 'X.2'\n\\item 'depressed.mood.2'\n\\item 'anxiety.2'\n\\item 'suspiciousness.2'\n\\item 'irritability.2'\n\\item 'craving.to.alcohol.2'\n\\item 'weakness.2'\n\\item 'insomia.2'\n\\item 'headache.2'\n\\item 'tremor.2'\n\\item 'polyuria.2'\n\\item 'sweating.2'\n\\item 'transient.hallusinations.2'\n\\item 'vomiting.2'\n\\item 'anoreksia.2'\n\\item 'diarrhea.2'\n\\item 'thirst.2'\n\\item 'chest.pain.2'\n\\item 'hyperemia.2'\n\\item 'combined1.2'\n\\item 'combined2.2'\n\\item 'HR.2'\n\\item 'SBP.2'\n\\item 'MBP.2'\n\\item 'DBP.2'\n\\item 'SV.2'\n\\item 'CO.2'\n\\item 'SI.2'\n\\item 'CI.2'\n\\item 'TPR.2'\n\\item 'X.3'\n\\item 'depressed.mood.3'\n\\item 'anxiety.3'\n\\item 'suspiciousness.3'\n\\item 'irritability.3'\n\\item 'craving.to.alcohol.3'\n\\item 'weakness.3'\n\\item 'insomia.3'\n\\item 'headache.3'\n\\item 'tremor.3'\n\\item 'polyuria.3'\n\\item 'sweating.3'\n\\item 'transient.hallusinations.3'\n\\item 'vomiting.3'\n\\item 'anoreksia.3'\n\\item 'diarrhea.3'\n\\item 'thirst.3'\n\\item 'chest.pain.3'\n\\item 'hyperemia.3'\n\\item 'combined1.3'\n\\item 'combined2.3'\n\\item 'HR.3'\n\\item 'SBP.3'\n\\item 'DBP.3'\n\\item 'MBP.3'\n\\item 'SV.3'\n\\item 'CO.3'\n\\item 'SI.3'\n\\item 'CI.3'\n\\item 'TPR.3'\n\\item 'X.9'\n\\item 'depressed.mood.9'\n\\item 'anxiety.9'\n\\item 'suspiciousness.9'\n\\item 'irritability.9'\n\\item 'craving.to.alcohol.9'\n\\item 'weakness.9'\n\\item 'insomnia.9'\n\\item 'headache.9'\n\\item 'tremor.9'\n\\item 'polyuria.9'\n\\item 'sweating.9'\n\\item 'transient.hallusinations.9'\n\\item 'vomiting.9'\n\\item 'anoreksia.9'\n\\item 'diarrhea.9'\n\\item 'thirst.9'\n\\item 'chest.pain.9'\n\\item 'hyperemia.9'\n\\item 'combined1.9'\n\\item 'combined2.9'\n\\item 'HR.9'\n\\item 'SBP.9'\n\\item 'DBP.9'\n\\item 'MBP.9'\n\\item 'SV.9'\n\\item 'CO.9'\n\\item 'SI.9'\n\\item 'CI.9'\n\\item 'TPR.9'\n\\end{enumerate*}\n",
            "text/plain": [
              "  [1] \"X\"                          \"X.1\"                       \n",
              "  [3] \"depressed.mood.1\"           \"anxiety.1\"                 \n",
              "  [5] \"suspiciousness.1\"           \"irritability.1\"            \n",
              "  [7] \"craving.to.alcohol.1\"       \"weakness.1\"                \n",
              "  [9] \"insomia.1\"                  \"headache.1\"                \n",
              " [11] \"tremor.1\"                   \"polyuria.1\"                \n",
              " [13] \"sweating.1\"                 \"transient.hallusinations.1\"\n",
              " [15] \"vomiting.1\"                 \"anoreksia.1\"               \n",
              " [17] \"diarrhea.1\"                 \"thirst.1\"                  \n",
              " [19] \"chest.pain.1\"               \"hyperemia.1\"               \n",
              " [21] \"combined1.1\"                \"combined2.1\"               \n",
              " [23] \"HR.1\"                       \"SBP.1\"                     \n",
              " [25] \"DBP.1\"                      \"MBP.1\"                     \n",
              " [27] \"SV.1\"                       \"CO.1\"                      \n",
              " [29] \"SI.1\"                       \"CI.1\"                      \n",
              " [31] \"TPR.1\"                      \"X.2\"                       \n",
              " [33] \"depressed.mood.2\"           \"anxiety.2\"                 \n",
              " [35] \"suspiciousness.2\"           \"irritability.2\"            \n",
              " [37] \"craving.to.alcohol.2\"       \"weakness.2\"                \n",
              " [39] \"insomia.2\"                  \"headache.2\"                \n",
              " [41] \"tremor.2\"                   \"polyuria.2\"                \n",
              " [43] \"sweating.2\"                 \"transient.hallusinations.2\"\n",
              " [45] \"vomiting.2\"                 \"anoreksia.2\"               \n",
              " [47] \"diarrhea.2\"                 \"thirst.2\"                  \n",
              " [49] \"chest.pain.2\"               \"hyperemia.2\"               \n",
              " [51] \"combined1.2\"                \"combined2.2\"               \n",
              " [53] \"HR.2\"                       \"SBP.2\"                     \n",
              " [55] \"MBP.2\"                      \"DBP.2\"                     \n",
              " [57] \"SV.2\"                       \"CO.2\"                      \n",
              " [59] \"SI.2\"                       \"CI.2\"                      \n",
              " [61] \"TPR.2\"                      \"X.3\"                       \n",
              " [63] \"depressed.mood.3\"           \"anxiety.3\"                 \n",
              " [65] \"suspiciousness.3\"           \"irritability.3\"            \n",
              " [67] \"craving.to.alcohol.3\"       \"weakness.3\"                \n",
              " [69] \"insomia.3\"                  \"headache.3\"                \n",
              " [71] \"tremor.3\"                   \"polyuria.3\"                \n",
              " [73] \"sweating.3\"                 \"transient.hallusinations.3\"\n",
              " [75] \"vomiting.3\"                 \"anoreksia.3\"               \n",
              " [77] \"diarrhea.3\"                 \"thirst.3\"                  \n",
              " [79] \"chest.pain.3\"               \"hyperemia.3\"               \n",
              " [81] \"combined1.3\"                \"combined2.3\"               \n",
              " [83] \"HR.3\"                       \"SBP.3\"                     \n",
              " [85] \"DBP.3\"                      \"MBP.3\"                     \n",
              " [87] \"SV.3\"                       \"CO.3\"                      \n",
              " [89] \"SI.3\"                       \"CI.3\"                      \n",
              " [91] \"TPR.3\"                      \"X.9\"                       \n",
              " [93] \"depressed.mood.9\"           \"anxiety.9\"                 \n",
              " [95] \"suspiciousness.9\"           \"irritability.9\"            \n",
              " [97] \"craving.to.alcohol.9\"       \"weakness.9\"                \n",
              " [99] \"insomnia.9\"                 \"headache.9\"                \n",
              "[101] \"tremor.9\"                   \"polyuria.9\"                \n",
              "[103] \"sweating.9\"                 \"transient.hallusinations.9\"\n",
              "[105] \"vomiting.9\"                 \"anoreksia.9\"               \n",
              "[107] \"diarrhea.9\"                 \"thirst.9\"                  \n",
              "[109] \"chest.pain.9\"               \"hyperemia.9\"               \n",
              "[111] \"combined1.9\"                \"combined2.9\"               \n",
              "[113] \"HR.9\"                       \"SBP.9\"                     \n",
              "[115] \"DBP.9\"                      \"MBP.9\"                     \n",
              "[117] \"SV.9\"                       \"CO.9\"                      \n",
              "[119] \"SI.9\"                       \"CI.9\"                      \n",
              "[121] \"TPR.9\"                     "
            ]
          },
          "metadata": {}
        }
      ]
    },
    {
      "cell_type": "markdown",
      "source": [
        "Оставим нужные нам зависимые признаки."
      ],
      "metadata": {
        "id": "UZ-4Oqq3gDb6"
      }
    },
    {
      "cell_type": "code",
      "source": [
        "df_dep <- df[, c(\"HR.1\", \"HR.2\", \"HR.3\", \"HR.9\")]\n",
        "head(df_dep)"
      ],
      "metadata": {
        "colab": {
          "base_uri": "https://localhost:8080/",
          "height": 286
        },
        "id": "07uEl5DEf1x5",
        "outputId": "38d1a17b-93f5-4c3a-8748-9b2c34a33c5c"
      },
      "execution_count": null,
      "outputs": [
        {
          "output_type": "display_data",
          "data": {
            "text/html": [
              "<table class=\"dataframe\">\n",
              "<caption>A data.frame: 6 × 4</caption>\n",
              "<thead>\n",
              "\t<tr><th></th><th scope=col>HR.1</th><th scope=col>HR.2</th><th scope=col>HR.3</th><th scope=col>HR.9</th></tr>\n",
              "\t<tr><th></th><th scope=col>&lt;int&gt;</th><th scope=col>&lt;int&gt;</th><th scope=col>&lt;int&gt;</th><th scope=col>&lt;int&gt;</th></tr>\n",
              "</thead>\n",
              "<tbody>\n",
              "\t<tr><th scope=row>1</th><td> 72</td><td> 66</td><td> 76</td><td>68</td></tr>\n",
              "\t<tr><th scope=row>2</th><td> 68</td><td> 61</td><td> 61</td><td>63</td></tr>\n",
              "\t<tr><th scope=row>4</th><td> 56</td><td> 61</td><td> 63</td><td>56</td></tr>\n",
              "\t<tr><th scope=row>5</th><td> 87</td><td> 53</td><td> 80</td><td>66</td></tr>\n",
              "\t<tr><th scope=row>6</th><td>113</td><td>112</td><td>100</td><td>62</td></tr>\n",
              "\t<tr><th scope=row>7</th><td>110</td><td> 73</td><td> 78</td><td>85</td></tr>\n",
              "</tbody>\n",
              "</table>\n"
            ],
            "text/markdown": "\nA data.frame: 6 × 4\n\n| <!--/--> | HR.1 &lt;int&gt; | HR.2 &lt;int&gt; | HR.3 &lt;int&gt; | HR.9 &lt;int&gt; |\n|---|---|---|---|---|\n| 1 |  72 |  66 |  76 | 68 |\n| 2 |  68 |  61 |  61 | 63 |\n| 4 |  56 |  61 |  63 | 56 |\n| 5 |  87 |  53 |  80 | 66 |\n| 6 | 113 | 112 | 100 | 62 |\n| 7 | 110 |  73 |  78 | 85 |\n\n",
            "text/latex": "A data.frame: 6 × 4\n\\begin{tabular}{r|llll}\n  & HR.1 & HR.2 & HR.3 & HR.9\\\\\n  & <int> & <int> & <int> & <int>\\\\\n\\hline\n\t1 &  72 &  66 &  76 & 68\\\\\n\t2 &  68 &  61 &  61 & 63\\\\\n\t4 &  56 &  61 &  63 & 56\\\\\n\t5 &  87 &  53 &  80 & 66\\\\\n\t6 & 113 & 112 & 100 & 62\\\\\n\t7 & 110 &  73 &  78 & 85\\\\\n\\end{tabular}\n",
            "text/plain": [
              "  HR.1 HR.2 HR.3 HR.9\n",
              "1  72   66   76  68  \n",
              "2  68   61   61  63  \n",
              "4  56   61   63  56  \n",
              "5  87   53   80  66  \n",
              "6 113  112  100  62  \n",
              "7 110   73   78  85  "
            ]
          },
          "metadata": {}
        }
      ]
    },
    {
      "cell_type": "markdown",
      "source": [
        "### Критерий Вилкоксона"
      ],
      "metadata": {
        "id": "YYSoHEnhgI-q"
      }
    },
    {
      "cell_type": "markdown",
      "source": [
        "Вручную"
      ],
      "metadata": {
        "id": "AHRGKfmVgzAi"
      }
    },
    {
      "cell_type": "code",
      "source": [
        "df_dep$z <- df_dep$HR.9 - df_dep$HR.1\n",
        "head(df_dep)"
      ],
      "metadata": {
        "colab": {
          "base_uri": "https://localhost:8080/",
          "height": 286
        },
        "id": "vk4hdJ92h9Mj",
        "outputId": "dd94e234-54fe-4980-c56d-0b2987544791"
      },
      "execution_count": null,
      "outputs": [
        {
          "output_type": "display_data",
          "data": {
            "text/html": [
              "<table class=\"dataframe\">\n",
              "<caption>A data.frame: 6 × 5</caption>\n",
              "<thead>\n",
              "\t<tr><th></th><th scope=col>HR.1</th><th scope=col>HR.2</th><th scope=col>HR.3</th><th scope=col>HR.9</th><th scope=col>z</th></tr>\n",
              "\t<tr><th></th><th scope=col>&lt;int&gt;</th><th scope=col>&lt;int&gt;</th><th scope=col>&lt;int&gt;</th><th scope=col>&lt;int&gt;</th><th scope=col>&lt;int&gt;</th></tr>\n",
              "</thead>\n",
              "<tbody>\n",
              "\t<tr><th scope=row>1</th><td> 72</td><td> 66</td><td> 76</td><td>68</td><td> -4</td></tr>\n",
              "\t<tr><th scope=row>2</th><td> 68</td><td> 61</td><td> 61</td><td>63</td><td> -5</td></tr>\n",
              "\t<tr><th scope=row>4</th><td> 56</td><td> 61</td><td> 63</td><td>56</td><td>  0</td></tr>\n",
              "\t<tr><th scope=row>5</th><td> 87</td><td> 53</td><td> 80</td><td>66</td><td>-21</td></tr>\n",
              "\t<tr><th scope=row>6</th><td>113</td><td>112</td><td>100</td><td>62</td><td>-51</td></tr>\n",
              "\t<tr><th scope=row>7</th><td>110</td><td> 73</td><td> 78</td><td>85</td><td>-25</td></tr>\n",
              "</tbody>\n",
              "</table>\n"
            ],
            "text/markdown": "\nA data.frame: 6 × 5\n\n| <!--/--> | HR.1 &lt;int&gt; | HR.2 &lt;int&gt; | HR.3 &lt;int&gt; | HR.9 &lt;int&gt; | z &lt;int&gt; |\n|---|---|---|---|---|---|\n| 1 |  72 |  66 |  76 | 68 |  -4 |\n| 2 |  68 |  61 |  61 | 63 |  -5 |\n| 4 |  56 |  61 |  63 | 56 |   0 |\n| 5 |  87 |  53 |  80 | 66 | -21 |\n| 6 | 113 | 112 | 100 | 62 | -51 |\n| 7 | 110 |  73 |  78 | 85 | -25 |\n\n",
            "text/latex": "A data.frame: 6 × 5\n\\begin{tabular}{r|lllll}\n  & HR.1 & HR.2 & HR.3 & HR.9 & z\\\\\n  & <int> & <int> & <int> & <int> & <int>\\\\\n\\hline\n\t1 &  72 &  66 &  76 & 68 &  -4\\\\\n\t2 &  68 &  61 &  61 & 63 &  -5\\\\\n\t4 &  56 &  61 &  63 & 56 &   0\\\\\n\t5 &  87 &  53 &  80 & 66 & -21\\\\\n\t6 & 113 & 112 & 100 & 62 & -51\\\\\n\t7 & 110 &  73 &  78 & 85 & -25\\\\\n\\end{tabular}\n",
            "text/plain": [
              "  HR.1 HR.2 HR.3 HR.9 z  \n",
              "1  72   66   76  68    -4\n",
              "2  68   61   61  63    -5\n",
              "4  56   61   63  56     0\n",
              "5  87   53   80  66   -21\n",
              "6 113  112  100  62   -51\n",
              "7 110   73   78  85   -25"
            ]
          },
          "metadata": {}
        }
      ]
    },
    {
      "cell_type": "markdown",
      "source": [
        "Присвоим ранги разностям элементов."
      ],
      "metadata": {
        "id": "Zsr9gRTivhbi"
      }
    },
    {
      "cell_type": "code",
      "source": [
        "df_dep$abs_z <- abs(df_dep$z)\n",
        "ordered <- df_dep[order(df_dep$abs_z, decreasing = FALSE), ]\n",
        "ordered$rank <- c(0,0,1:18)\n",
        "ordered$rank[4:7] <- 3.5\n",
        "ordered"
      ],
      "metadata": {
        "colab": {
          "base_uri": "https://localhost:8080/",
          "height": 725
        },
        "id": "0VtoRGYUi5F0",
        "outputId": "e23bb311-bac4-4c05-e344-b715bc11e6cb"
      },
      "execution_count": null,
      "outputs": [
        {
          "output_type": "display_data",
          "data": {
            "text/html": [
              "<table class=\"dataframe\">\n",
              "<caption>A data.frame: 20 × 7</caption>\n",
              "<thead>\n",
              "\t<tr><th></th><th scope=col>HR.1</th><th scope=col>HR.2</th><th scope=col>HR.3</th><th scope=col>HR.9</th><th scope=col>z</th><th scope=col>abs_z</th><th scope=col>rank</th></tr>\n",
              "\t<tr><th></th><th scope=col>&lt;int&gt;</th><th scope=col>&lt;int&gt;</th><th scope=col>&lt;int&gt;</th><th scope=col>&lt;int&gt;</th><th scope=col>&lt;int&gt;</th><th scope=col>&lt;int&gt;</th><th scope=col>&lt;dbl&gt;</th></tr>\n",
              "</thead>\n",
              "<tbody>\n",
              "\t<tr><th scope=row>4</th><td> 56</td><td> 61</td><td> 63</td><td>56</td><td>  0</td><td> 0</td><td> 0.0</td></tr>\n",
              "\t<tr><th scope=row>18</th><td> 64</td><td> 65</td><td> 73</td><td>64</td><td>  0</td><td> 0</td><td> 0.0</td></tr>\n",
              "\t<tr><th scope=row>14</th><td> 63</td><td> 78</td><td> 72</td><td>64</td><td>  1</td><td> 1</td><td> 1.0</td></tr>\n",
              "\t<tr><th scope=row>1</th><td> 72</td><td> 66</td><td> 76</td><td>68</td><td> -4</td><td> 4</td><td> 3.5</td></tr>\n",
              "\t<tr><th scope=row>21</th><td> 85</td><td> 87</td><td> 74</td><td>81</td><td> -4</td><td> 4</td><td> 3.5</td></tr>\n",
              "\t<tr><th scope=row>26</th><td> 83</td><td> 75</td><td> 85</td><td>79</td><td> -4</td><td> 4</td><td> 3.5</td></tr>\n",
              "\t<tr><th scope=row>27</th><td> 87</td><td> 76</td><td> 66</td><td>83</td><td> -4</td><td> 4</td><td> 3.5</td></tr>\n",
              "\t<tr><th scope=row>2</th><td> 68</td><td> 61</td><td> 61</td><td>63</td><td> -5</td><td> 5</td><td> 6.0</td></tr>\n",
              "\t<tr><th scope=row>28</th><td> 86</td><td>115</td><td> 90</td><td>73</td><td>-13</td><td>13</td><td> 7.0</td></tr>\n",
              "\t<tr><th scope=row>13</th><td> 80</td><td> 83</td><td> 67</td><td>66</td><td>-14</td><td>14</td><td> 8.0</td></tr>\n",
              "\t<tr><th scope=row>19</th><td> 49</td><td> 57</td><td> 61</td><td>68</td><td> 19</td><td>19</td><td> 9.0</td></tr>\n",
              "\t<tr><th scope=row>12</th><td> 70</td><td> 58</td><td> 65</td><td>50</td><td>-20</td><td>20</td><td>10.0</td></tr>\n",
              "\t<tr><th scope=row>5</th><td> 87</td><td> 53</td><td> 80</td><td>66</td><td>-21</td><td>21</td><td>11.0</td></tr>\n",
              "\t<tr><th scope=row>7</th><td>110</td><td> 73</td><td> 78</td><td>85</td><td>-25</td><td>25</td><td>12.0</td></tr>\n",
              "\t<tr><th scope=row>9</th><td>102</td><td> 71</td><td> 75</td><td>76</td><td>-26</td><td>26</td><td>13.0</td></tr>\n",
              "\t<tr><th scope=row>11</th><td>117</td><td>100</td><td> 90</td><td>83</td><td>-34</td><td>34</td><td>14.0</td></tr>\n",
              "\t<tr><th scope=row>16</th><td>110</td><td> 97</td><td> 73</td><td>74</td><td>-36</td><td>36</td><td>15.0</td></tr>\n",
              "\t<tr><th scope=row>10</th><td>108</td><td> 85</td><td>110</td><td>64</td><td>-44</td><td>44</td><td>16.0</td></tr>\n",
              "\t<tr><th scope=row>30</th><td>110</td><td> 69</td><td> 65</td><td>63</td><td>-47</td><td>47</td><td>17.0</td></tr>\n",
              "\t<tr><th scope=row>6</th><td>113</td><td>112</td><td>100</td><td>62</td><td>-51</td><td>51</td><td>18.0</td></tr>\n",
              "</tbody>\n",
              "</table>\n"
            ],
            "text/markdown": "\nA data.frame: 20 × 7\n\n| <!--/--> | HR.1 &lt;int&gt; | HR.2 &lt;int&gt; | HR.3 &lt;int&gt; | HR.9 &lt;int&gt; | z &lt;int&gt; | abs_z &lt;int&gt; | rank &lt;dbl&gt; |\n|---|---|---|---|---|---|---|---|\n| 4 |  56 |  61 |  63 | 56 |   0 |  0 |  0.0 |\n| 18 |  64 |  65 |  73 | 64 |   0 |  0 |  0.0 |\n| 14 |  63 |  78 |  72 | 64 |   1 |  1 |  1.0 |\n| 1 |  72 |  66 |  76 | 68 |  -4 |  4 |  3.5 |\n| 21 |  85 |  87 |  74 | 81 |  -4 |  4 |  3.5 |\n| 26 |  83 |  75 |  85 | 79 |  -4 |  4 |  3.5 |\n| 27 |  87 |  76 |  66 | 83 |  -4 |  4 |  3.5 |\n| 2 |  68 |  61 |  61 | 63 |  -5 |  5 |  6.0 |\n| 28 |  86 | 115 |  90 | 73 | -13 | 13 |  7.0 |\n| 13 |  80 |  83 |  67 | 66 | -14 | 14 |  8.0 |\n| 19 |  49 |  57 |  61 | 68 |  19 | 19 |  9.0 |\n| 12 |  70 |  58 |  65 | 50 | -20 | 20 | 10.0 |\n| 5 |  87 |  53 |  80 | 66 | -21 | 21 | 11.0 |\n| 7 | 110 |  73 |  78 | 85 | -25 | 25 | 12.0 |\n| 9 | 102 |  71 |  75 | 76 | -26 | 26 | 13.0 |\n| 11 | 117 | 100 |  90 | 83 | -34 | 34 | 14.0 |\n| 16 | 110 |  97 |  73 | 74 | -36 | 36 | 15.0 |\n| 10 | 108 |  85 | 110 | 64 | -44 | 44 | 16.0 |\n| 30 | 110 |  69 |  65 | 63 | -47 | 47 | 17.0 |\n| 6 | 113 | 112 | 100 | 62 | -51 | 51 | 18.0 |\n\n",
            "text/latex": "A data.frame: 20 × 7\n\\begin{tabular}{r|lllllll}\n  & HR.1 & HR.2 & HR.3 & HR.9 & z & abs\\_z & rank\\\\\n  & <int> & <int> & <int> & <int> & <int> & <int> & <dbl>\\\\\n\\hline\n\t4 &  56 &  61 &  63 & 56 &   0 &  0 &  0.0\\\\\n\t18 &  64 &  65 &  73 & 64 &   0 &  0 &  0.0\\\\\n\t14 &  63 &  78 &  72 & 64 &   1 &  1 &  1.0\\\\\n\t1 &  72 &  66 &  76 & 68 &  -4 &  4 &  3.5\\\\\n\t21 &  85 &  87 &  74 & 81 &  -4 &  4 &  3.5\\\\\n\t26 &  83 &  75 &  85 & 79 &  -4 &  4 &  3.5\\\\\n\t27 &  87 &  76 &  66 & 83 &  -4 &  4 &  3.5\\\\\n\t2 &  68 &  61 &  61 & 63 &  -5 &  5 &  6.0\\\\\n\t28 &  86 & 115 &  90 & 73 & -13 & 13 &  7.0\\\\\n\t13 &  80 &  83 &  67 & 66 & -14 & 14 &  8.0\\\\\n\t19 &  49 &  57 &  61 & 68 &  19 & 19 &  9.0\\\\\n\t12 &  70 &  58 &  65 & 50 & -20 & 20 & 10.0\\\\\n\t5 &  87 &  53 &  80 & 66 & -21 & 21 & 11.0\\\\\n\t7 & 110 &  73 &  78 & 85 & -25 & 25 & 12.0\\\\\n\t9 & 102 &  71 &  75 & 76 & -26 & 26 & 13.0\\\\\n\t11 & 117 & 100 &  90 & 83 & -34 & 34 & 14.0\\\\\n\t16 & 110 &  97 &  73 & 74 & -36 & 36 & 15.0\\\\\n\t10 & 108 &  85 & 110 & 64 & -44 & 44 & 16.0\\\\\n\t30 & 110 &  69 &  65 & 63 & -47 & 47 & 17.0\\\\\n\t6 & 113 & 112 & 100 & 62 & -51 & 51 & 18.0\\\\\n\\end{tabular}\n",
            "text/plain": [
              "   HR.1 HR.2 HR.3 HR.9 z   abs_z rank\n",
              "4   56   61   63  56     0  0     0.0\n",
              "18  64   65   73  64     0  0     0.0\n",
              "14  63   78   72  64     1  1     1.0\n",
              "1   72   66   76  68    -4  4     3.5\n",
              "21  85   87   74  81    -4  4     3.5\n",
              "26  83   75   85  79    -4  4     3.5\n",
              "27  87   76   66  83    -4  4     3.5\n",
              "2   68   61   61  63    -5  5     6.0\n",
              "28  86  115   90  73   -13 13     7.0\n",
              "13  80   83   67  66   -14 14     8.0\n",
              "19  49   57   61  68    19 19     9.0\n",
              "12  70   58   65  50   -20 20    10.0\n",
              "5   87   53   80  66   -21 21    11.0\n",
              "7  110   73   78  85   -25 25    12.0\n",
              "9  102   71   75  76   -26 26    13.0\n",
              "11 117  100   90  83   -34 34    14.0\n",
              "16 110   97   73  74   -36 36    15.0\n",
              "10 108   85  110  64   -44 44    16.0\n",
              "30 110   69   65  63   -47 47    17.0\n",
              "6  113  112  100  62   -51 51    18.0"
            ]
          },
          "metadata": {}
        }
      ]
    },
    {
      "cell_type": "markdown",
      "source": [
        "Применим критерий."
      ],
      "metadata": {
        "id": "homz6IP1vnAB"
      }
    },
    {
      "cell_type": "code",
      "source": [
        "n <- sum(ordered$z != 0)\n",
        "S_minus <- sum(ordered[which(ordered$z < 0), 7])\n",
        "ES_minus <- n * (n + 1) / 4\n",
        "DS_minus <- n * (n + 1) * (2 * n + 1) / 24\n",
        "Z <- (S_minus - ES_minus) / sqrt(DS_minus)\n",
        "pnorm(abs(Z), lower.tail = FALSE)"
      ],
      "metadata": {
        "colab": {
          "base_uri": "https://localhost:8080/",
          "height": 52
        },
        "id": "oveWCG5jgQUf",
        "outputId": "1b2a603c-3779-4138-9ba7-15ab9e1d00bd"
      },
      "execution_count": null,
      "outputs": [
        {
          "output_type": "stream",
          "name": "stdout",
          "text": [
            "[1] \"a*\"\n"
          ]
        },
        {
          "output_type": "display_data",
          "data": {
            "text/html": [
              "0.000504416288734284"
            ],
            "text/markdown": "0.000504416288734284",
            "text/latex": "0.000504416288734284",
            "text/plain": [
              "[1] 0.0005044163"
            ]
          },
          "metadata": {}
        }
      ]
    },
    {
      "cell_type": "markdown",
      "source": [
        "Различие значимо."
      ],
      "metadata": {
        "id": "kM3dXwS4q72V"
      }
    },
    {
      "cell_type": "markdown",
      "source": [
        "С использованием библиотечных функций"
      ],
      "metadata": {
        "id": "Kj6ZVDsEqVPM"
      }
    },
    {
      "cell_type": "code",
      "source": [
        "wilcox.test(df_dep$HR.1, df_dep$HR.9, paired = TRUE)"
      ],
      "metadata": {
        "colab": {
          "base_uri": "https://localhost:8080/",
          "height": 191
        },
        "id": "sOakrKDQqa1s",
        "outputId": "e03a7e84-4f1c-440d-a7b7-5df82b71e685"
      },
      "execution_count": null,
      "outputs": [
        {
          "output_type": "stream",
          "name": "stderr",
          "text": [
            "Warning message in wilcox.test.default(df_dep$HR.1, df_dep$HR.9, paired = TRUE):\n",
            "“cannot compute exact p-value with ties”\n",
            "Warning message in wilcox.test.default(df_dep$HR.1, df_dep$HR.9, paired = TRUE):\n",
            "“cannot compute exact p-value with zeroes”\n"
          ]
        },
        {
          "output_type": "display_data",
          "data": {
            "text/plain": [
              "\n",
              "\tWilcoxon signed rank test with continuity correction\n",
              "\n",
              "data:  df_dep$HR.1 and df_dep$HR.9\n",
              "V = 161, p-value = 0.001075\n",
              "alternative hypothesis: true location shift is not equal to 0\n"
            ]
          },
          "metadata": {}
        }
      ]
    },
    {
      "cell_type": "markdown",
      "source": [
        "### Критерий Фридмана"
      ],
      "metadata": {
        "id": "0U40nwIMrkHk"
      }
    },
    {
      "cell_type": "markdown",
      "source": [
        "Вручную"
      ],
      "metadata": {
        "id": "AViHKg_9tNgY"
      }
    },
    {
      "cell_type": "code",
      "source": [
        "install.packages(\"collapse\")\n",
        "install.packages(\"data.table\")\n",
        "library(collapse)\n",
        "library(data.table)"
      ],
      "metadata": {
        "colab": {
          "base_uri": "https://localhost:8080/"
        },
        "id": "6rnWBE4Bu43w",
        "outputId": "731e37d3-0be3-4442-f77d-9ed1e5ddd71b"
      },
      "execution_count": null,
      "outputs": [
        {
          "output_type": "stream",
          "name": "stderr",
          "text": [
            "Installing package into ‘/usr/local/lib/R/site-library’\n",
            "(as ‘lib’ is unspecified)\n",
            "\n",
            "Installing package into ‘/usr/local/lib/R/site-library’\n",
            "(as ‘lib’ is unspecified)\n",
            "\n",
            "collapse 2.0.18, see ?`collapse-package` or ?`collapse-documentation`\n",
            "\n",
            "\n",
            "Attaching package: ‘collapse’\n",
            "\n",
            "\n",
            "The following object is masked from ‘package:stats’:\n",
            "\n",
            "    D\n",
            "\n",
            "\n",
            "\n",
            "Attaching package: ‘data.table’\n",
            "\n",
            "\n",
            "The following object is masked from ‘package:collapse’:\n",
            "\n",
            "    fdroplevels\n",
            "\n",
            "\n",
            "The following objects are masked from ‘package:dplyr’:\n",
            "\n",
            "    between, first, last\n",
            "\n",
            "\n",
            "The following object is masked from ‘package:purrr’:\n",
            "\n",
            "    transpose\n",
            "\n",
            "\n"
          ]
        }
      ]
    },
    {
      "cell_type": "code",
      "source": [
        "df_fried <- df[,  c(\"HR.1\", \"HR.2\", \"HR.3\", \"HR.9\")]\n",
        "head(df_fried)"
      ],
      "metadata": {
        "colab": {
          "base_uri": "https://localhost:8080/",
          "height": 286
        },
        "id": "SaCcKRsNtPOM",
        "outputId": "e2f7385f-e093-4ccf-e370-42503457afb0"
      },
      "execution_count": null,
      "outputs": [
        {
          "output_type": "display_data",
          "data": {
            "text/html": [
              "<table class=\"dataframe\">\n",
              "<caption>A data.frame: 6 × 4</caption>\n",
              "<thead>\n",
              "\t<tr><th></th><th scope=col>HR.1</th><th scope=col>HR.2</th><th scope=col>HR.3</th><th scope=col>HR.9</th></tr>\n",
              "\t<tr><th></th><th scope=col>&lt;int&gt;</th><th scope=col>&lt;int&gt;</th><th scope=col>&lt;int&gt;</th><th scope=col>&lt;int&gt;</th></tr>\n",
              "</thead>\n",
              "<tbody>\n",
              "\t<tr><th scope=row>1</th><td> 72</td><td> 66</td><td> 76</td><td>68</td></tr>\n",
              "\t<tr><th scope=row>2</th><td> 68</td><td> 61</td><td> 61</td><td>63</td></tr>\n",
              "\t<tr><th scope=row>4</th><td> 56</td><td> 61</td><td> 63</td><td>56</td></tr>\n",
              "\t<tr><th scope=row>5</th><td> 87</td><td> 53</td><td> 80</td><td>66</td></tr>\n",
              "\t<tr><th scope=row>6</th><td>113</td><td>112</td><td>100</td><td>62</td></tr>\n",
              "\t<tr><th scope=row>7</th><td>110</td><td> 73</td><td> 78</td><td>85</td></tr>\n",
              "</tbody>\n",
              "</table>\n"
            ],
            "text/markdown": "\nA data.frame: 6 × 4\n\n| <!--/--> | HR.1 &lt;int&gt; | HR.2 &lt;int&gt; | HR.3 &lt;int&gt; | HR.9 &lt;int&gt; |\n|---|---|---|---|---|\n| 1 |  72 |  66 |  76 | 68 |\n| 2 |  68 |  61 |  61 | 63 |\n| 4 |  56 |  61 |  63 | 56 |\n| 5 |  87 |  53 |  80 | 66 |\n| 6 | 113 | 112 | 100 | 62 |\n| 7 | 110 |  73 |  78 | 85 |\n\n",
            "text/latex": "A data.frame: 6 × 4\n\\begin{tabular}{r|llll}\n  & HR.1 & HR.2 & HR.3 & HR.9\\\\\n  & <int> & <int> & <int> & <int>\\\\\n\\hline\n\t1 &  72 &  66 &  76 & 68\\\\\n\t2 &  68 &  61 &  61 & 63\\\\\n\t4 &  56 &  61 &  63 & 56\\\\\n\t5 &  87 &  53 &  80 & 66\\\\\n\t6 & 113 & 112 & 100 & 62\\\\\n\t7 & 110 &  73 &  78 & 85\\\\\n\\end{tabular}\n",
            "text/plain": [
              "  HR.1 HR.2 HR.3 HR.9\n",
              "1  72   66   76  68  \n",
              "2  68   61   61  63  \n",
              "4  56   61   63  56  \n",
              "5  87   53   80  66  \n",
              "6 113  112  100  62  \n",
              "7 110   73   78  85  "
            ]
          },
          "metadata": {}
        }
      ]
    },
    {
      "cell_type": "markdown",
      "source": [
        "СОпоставим наблюдениям ранги по строкам."
      ],
      "metadata": {
        "id": "M3BZkEm_wU5T"
      }
    },
    {
      "cell_type": "code",
      "source": [
        "df_rank <- dapply(df_fried, MARGIN = 1, FUN = frank, ties.method = 'dense', na.last = \"keep\")\n",
        "head(df_rank)"
      ],
      "metadata": {
        "colab": {
          "base_uri": "https://localhost:8080/",
          "height": 286
        },
        "id": "nYMvjHItvXEY",
        "outputId": "1e2b4bf0-42f4-4ece-a24a-b1124524db95"
      },
      "execution_count": null,
      "outputs": [
        {
          "output_type": "display_data",
          "data": {
            "text/html": [
              "<table class=\"dataframe\">\n",
              "<caption>A data.frame: 6 × 4</caption>\n",
              "<thead>\n",
              "\t<tr><th></th><th scope=col>HR.1</th><th scope=col>HR.2</th><th scope=col>HR.3</th><th scope=col>HR.9</th></tr>\n",
              "\t<tr><th></th><th scope=col>&lt;int&gt;</th><th scope=col>&lt;int&gt;</th><th scope=col>&lt;int&gt;</th><th scope=col>&lt;int&gt;</th></tr>\n",
              "</thead>\n",
              "<tbody>\n",
              "\t<tr><th scope=row>1</th><td>3</td><td>1</td><td>4</td><td>2</td></tr>\n",
              "\t<tr><th scope=row>2</th><td>3</td><td>1</td><td>1</td><td>2</td></tr>\n",
              "\t<tr><th scope=row>4</th><td>1</td><td>2</td><td>3</td><td>1</td></tr>\n",
              "\t<tr><th scope=row>5</th><td>4</td><td>1</td><td>3</td><td>2</td></tr>\n",
              "\t<tr><th scope=row>6</th><td>4</td><td>3</td><td>2</td><td>1</td></tr>\n",
              "\t<tr><th scope=row>7</th><td>4</td><td>1</td><td>2</td><td>3</td></tr>\n",
              "</tbody>\n",
              "</table>\n"
            ],
            "text/markdown": "\nA data.frame: 6 × 4\n\n| <!--/--> | HR.1 &lt;int&gt; | HR.2 &lt;int&gt; | HR.3 &lt;int&gt; | HR.9 &lt;int&gt; |\n|---|---|---|---|---|\n| 1 | 3 | 1 | 4 | 2 |\n| 2 | 3 | 1 | 1 | 2 |\n| 4 | 1 | 2 | 3 | 1 |\n| 5 | 4 | 1 | 3 | 2 |\n| 6 | 4 | 3 | 2 | 1 |\n| 7 | 4 | 1 | 2 | 3 |\n\n",
            "text/latex": "A data.frame: 6 × 4\n\\begin{tabular}{r|llll}\n  & HR.1 & HR.2 & HR.3 & HR.9\\\\\n  & <int> & <int> & <int> & <int>\\\\\n\\hline\n\t1 & 3 & 1 & 4 & 2\\\\\n\t2 & 3 & 1 & 1 & 2\\\\\n\t4 & 1 & 2 & 3 & 1\\\\\n\t5 & 4 & 1 & 3 & 2\\\\\n\t6 & 4 & 3 & 2 & 1\\\\\n\t7 & 4 & 1 & 2 & 3\\\\\n\\end{tabular}\n",
            "text/plain": [
              "  HR.1 HR.2 HR.3 HR.9\n",
              "1 3    1    4    2   \n",
              "2 3    1    1    2   \n",
              "4 1    2    3    1   \n",
              "5 4    1    3    2   \n",
              "6 4    3    2    1   \n",
              "7 4    1    2    3   "
            ]
          },
          "metadata": {}
        }
      ]
    },
    {
      "cell_type": "markdown",
      "source": [
        "Вычислим суммы рангов по столбцам, средние ранги и общие средний ранг."
      ],
      "metadata": {
        "id": "jIEdY7hDw5gU"
      }
    },
    {
      "cell_type": "code",
      "source": [
        "R_col_sum <- colSums(df_rank)\n",
        "n <- length(df_fried$HR.1)\n",
        "R_col_mean <- R_col_sum/n\n",
        "R <- (4 + 1) / 2"
      ],
      "metadata": {
        "id": "htiX1abNxCje"
      },
      "execution_count": null,
      "outputs": []
    },
    {
      "cell_type": "markdown",
      "source": [
        "Статистика критерия"
      ],
      "metadata": {
        "id": "1hEQB_ieys20"
      }
    },
    {
      "cell_type": "code",
      "source": [
        "3^2"
      ],
      "metadata": {
        "colab": {
          "base_uri": "https://localhost:8080/",
          "height": 34
        },
        "id": "FpFggAH5zaho",
        "outputId": "8634a4ac-5589-48bd-8318-7c6e7dae1808"
      },
      "execution_count": null,
      "outputs": [
        {
          "output_type": "display_data",
          "data": {
            "text/html": [
              "9"
            ],
            "text/markdown": "9",
            "text/latex": "9",
            "text/plain": [
              "[1] 9"
            ]
          },
          "metadata": {}
        }
      ]
    },
    {
      "cell_type": "code",
      "source": [
        "(R_col_mean - R)^2"
      ],
      "metadata": {
        "colab": {
          "base_uri": "https://localhost:8080/",
          "height": 34
        },
        "id": "SSKiB0oHzA6j",
        "outputId": "9936e8b1-45b2-48f2-cc30-4db649612571"
      },
      "execution_count": null,
      "outputs": [
        {
          "output_type": "display_data",
          "data": {
            "text/html": [
              "<style>\n",
              ".dl-inline {width: auto; margin:0; padding: 0}\n",
              ".dl-inline>dt, .dl-inline>dd {float: none; width: auto; display: inline-block}\n",
              ".dl-inline>dt::after {content: \":\\0020\"; padding-right: .5ex}\n",
              ".dl-inline>dt:not(:first-of-type) {padding-left: .5ex}\n",
              "</style><dl class=dl-inline><dt>HR.1</dt><dd>0.25</dd><dt>HR.2</dt><dd>0.0400000000000001</dd><dt>HR.3</dt><dd>0.00249999999999998</dd><dt>HR.9</dt><dd>0.49</dd></dl>\n"
            ],
            "text/markdown": "HR.1\n:   0.25HR.2\n:   0.0400000000000001HR.3\n:   0.00249999999999998HR.9\n:   0.49\n\n",
            "text/latex": "\\begin{description*}\n\\item[HR.1] 0.25\n\\item[HR.2] 0.0400000000000001\n\\item[HR.3] 0.00249999999999998\n\\item[HR.9] 0.49\n\\end{description*}\n",
            "text/plain": [
              "  HR.1   HR.2   HR.3   HR.9 \n",
              "0.2500 0.0400 0.0025 0.4900 "
            ]
          },
          "metadata": {}
        }
      ]
    },
    {
      "cell_type": "code",
      "source": [
        "S <- 12 * n / (4 * 5) * sum((R_col_mean - R)^2)"
      ],
      "metadata": {
        "id": "fiMLWeGXywar"
      },
      "execution_count": null,
      "outputs": []
    },
    {
      "cell_type": "markdown",
      "source": [
        "С использованием библиотечной функции"
      ],
      "metadata": {
        "id": "wcdIAmMWtKkF"
      }
    },
    {
      "cell_type": "code",
      "source": [
        "friedman.test(data.matrix(df_dep[, c(\"HR.1\", \"HR.2\", \"HR.3\", \"HR.9\")]))"
      ],
      "metadata": {
        "colab": {
          "base_uri": "https://localhost:8080/",
          "height": 104
        },
        "id": "fzZ0CdbDryB8",
        "outputId": "95d6d756-4aed-4158-f48f-489dfb4d84b1"
      },
      "execution_count": null,
      "outputs": [
        {
          "output_type": "display_data",
          "data": {
            "text/plain": [
              "\n",
              "\tFriedman rank sum test\n",
              "\n",
              "data:  data.matrix(df_dep[, c(\"HR.1\", \"HR.2\", \"HR.3\", \"HR.9\")])\n",
              "Friedman chi-squared = 8.9086, df = 3, p-value = 0.03053\n"
            ]
          },
          "metadata": {}
        }
      ]
    }
  ]
}